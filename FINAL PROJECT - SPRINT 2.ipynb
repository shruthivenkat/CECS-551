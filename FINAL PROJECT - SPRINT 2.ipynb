{
 "cells": [
  {
   "cell_type": "code",
   "execution_count": 2,
   "metadata": {},
   "outputs": [],
   "source": [
    "import pandas as pd\n",
    "import numpy as np\n",
    "import sklearn as sk\n",
    "import matplotlib as mat\n",
    "import pdcast as pdc\n",
    "import matplotlib.pyplot as plt\n",
    "from statsmodels.tsa.seasonal import seasonal_decompose\n"
   ]
  },
  {
   "cell_type": "code",
   "execution_count": 3,
   "metadata": {},
   "outputs": [],
   "source": [
    "test = pd.read_csv(\"sales_train_validation.csv\")\n",
    "train = pd.read_csv(\"sales_train_evaluation.csv\")\n",
    "sell_prices = pd.read_csv(\"sell_prices.csv\")\n",
    "calender = pd.read_csv(\"calender.csv\")\n",
    "sample_sub = pd.read_csv(\"sample_submission.csv\")"
   ]
  },
  {
   "cell_type": "markdown",
   "metadata": {},
   "source": [
    "Downcasting the train_dset"
   ]
  },
  {
   "cell_type": "markdown",
   "metadata": {},
   "source": [
    "We have a huge dataset to work on, and before feeding this dataset into the model, we are going to \"Melt\" it which would the data fram would be converted from wide format to a long format. I have kept the id variables as id, item_id, dept_id, cat_id, store_id and state_id. They have in total 30490 unique values when compunded together. Now the total number of days for which we have the data is 1969 days. Therefore the melted dataframe will be having 30490x1969 i.e. 60034810 rows.\n",
    "\n",
    "In order to process to such huge dataset, we would need to reduce the memory usage."
   ]
  },
  {
   "cell_type": "code",
   "execution_count": 4,
   "metadata": {},
   "outputs": [],
   "source": [
    "train_d = pdc.downcast(train)\n",
    "test_d = pdc.downcast(test)\n",
    "sell_prices_d = pdc.downcast(sell_prices)\n",
    "calender_d  = pdc.downcast(calender)\n",
    "sample_sub_d = pdc.downcast(sample_sub)"
   ]
  },
  {
   "cell_type": "markdown",
   "metadata": {},
   "source": [
    "Checking the difference of original dataset and downcasted dataset"
   ]
  },
  {
   "cell_type": "code",
   "execution_count": 6,
   "metadata": {},
   "outputs": [
    {
     "name": "stdout",
     "output_type": "stream",
     "text": [
      "<class 'pandas.core.frame.DataFrame'>\n",
      "RangeIndex: 30490 entries, 0 to 30489\n",
      "Columns: 1947 entries, id to d_1941\n",
      "dtypes: int64(1941), object(6)\n",
      "memory usage: 452.9+ MB\n"
     ]
    }
   ],
   "source": [
    "train.info()\n"
   ]
  },
  {
   "cell_type": "code",
   "execution_count": 7,
   "metadata": {},
   "outputs": [
    {
     "name": "stdout",
     "output_type": "stream",
     "text": [
      "<class 'pandas.core.frame.DataFrame'>\n",
      "RangeIndex: 30490 entries, 0 to 30489\n",
      "Columns: 1947 entries, id to d_1941\n",
      "dtypes: bool(5), category(5), object(1), uint16(47), uint8(1889)\n",
      "memory usage: 58.3+ MB\n"
     ]
    }
   ],
   "source": [
    "train_d.info()"
   ]
  },
  {
   "cell_type": "markdown",
   "metadata": {},
   "source": [
    "Melting is Performed"
   ]
  },
  {
   "cell_type": "code",
   "execution_count": 5,
   "metadata": {},
   "outputs": [],
   "source": [
    "df = pd.melt(train_d, id_vars=['id', 'item_id', 'dept_id', 'cat_id', 'store_id', 'state_id'], var_name='d', value_name='sold').dropna()"
   ]
  },
  {
   "cell_type": "markdown",
   "metadata": {},
   "source": [
    "## So, this dataframe would be used for the further training of the LSTM as well as ARIMA model."
   ]
  },
  {
   "cell_type": "code",
   "execution_count": 6,
   "metadata": {},
   "outputs": [
    {
     "data": {
      "text/html": [
       "<div>\n",
       "<style scoped>\n",
       "    .dataframe tbody tr th:only-of-type {\n",
       "        vertical-align: middle;\n",
       "    }\n",
       "\n",
       "    .dataframe tbody tr th {\n",
       "        vertical-align: top;\n",
       "    }\n",
       "\n",
       "    .dataframe thead th {\n",
       "        text-align: right;\n",
       "    }\n",
       "</style>\n",
       "<table border=\"1\" class=\"dataframe\">\n",
       "  <thead>\n",
       "    <tr style=\"text-align: right;\">\n",
       "      <th></th>\n",
       "      <th>id</th>\n",
       "      <th>item_id</th>\n",
       "      <th>dept_id</th>\n",
       "      <th>cat_id</th>\n",
       "      <th>store_id</th>\n",
       "      <th>state_id</th>\n",
       "      <th>d</th>\n",
       "      <th>sold</th>\n",
       "      <th>date</th>\n",
       "      <th>wm_yr_wk</th>\n",
       "      <th>...</th>\n",
       "      <th>month</th>\n",
       "      <th>year</th>\n",
       "      <th>event_name_1</th>\n",
       "      <th>event_type_1</th>\n",
       "      <th>event_name_2</th>\n",
       "      <th>event_type_2</th>\n",
       "      <th>snap_CA</th>\n",
       "      <th>snap_TX</th>\n",
       "      <th>snap_WI</th>\n",
       "      <th>sell_price</th>\n",
       "    </tr>\n",
       "  </thead>\n",
       "  <tbody>\n",
       "    <tr>\n",
       "      <th>0</th>\n",
       "      <td>HOBBIES_1_001_CA_1_evaluation</td>\n",
       "      <td>HOBBIES_1_001</td>\n",
       "      <td>HOBBIES_1</td>\n",
       "      <td>HOBBIES</td>\n",
       "      <td>CA_1</td>\n",
       "      <td>CA</td>\n",
       "      <td>d_1</td>\n",
       "      <td>0</td>\n",
       "      <td>2011-01-29</td>\n",
       "      <td>11101</td>\n",
       "      <td>...</td>\n",
       "      <td>1</td>\n",
       "      <td>2011</td>\n",
       "      <td>NaN</td>\n",
       "      <td>NaN</td>\n",
       "      <td>NaN</td>\n",
       "      <td>NaN</td>\n",
       "      <td>False</td>\n",
       "      <td>False</td>\n",
       "      <td>False</td>\n",
       "      <td>NaN</td>\n",
       "    </tr>\n",
       "    <tr>\n",
       "      <th>1</th>\n",
       "      <td>HOBBIES_1_002_CA_1_evaluation</td>\n",
       "      <td>HOBBIES_1_002</td>\n",
       "      <td>HOBBIES_1</td>\n",
       "      <td>HOBBIES</td>\n",
       "      <td>CA_1</td>\n",
       "      <td>CA</td>\n",
       "      <td>d_1</td>\n",
       "      <td>0</td>\n",
       "      <td>2011-01-29</td>\n",
       "      <td>11101</td>\n",
       "      <td>...</td>\n",
       "      <td>1</td>\n",
       "      <td>2011</td>\n",
       "      <td>NaN</td>\n",
       "      <td>NaN</td>\n",
       "      <td>NaN</td>\n",
       "      <td>NaN</td>\n",
       "      <td>False</td>\n",
       "      <td>False</td>\n",
       "      <td>False</td>\n",
       "      <td>NaN</td>\n",
       "    </tr>\n",
       "    <tr>\n",
       "      <th>2</th>\n",
       "      <td>HOBBIES_1_003_CA_1_evaluation</td>\n",
       "      <td>HOBBIES_1_003</td>\n",
       "      <td>HOBBIES_1</td>\n",
       "      <td>HOBBIES</td>\n",
       "      <td>CA_1</td>\n",
       "      <td>CA</td>\n",
       "      <td>d_1</td>\n",
       "      <td>0</td>\n",
       "      <td>2011-01-29</td>\n",
       "      <td>11101</td>\n",
       "      <td>...</td>\n",
       "      <td>1</td>\n",
       "      <td>2011</td>\n",
       "      <td>NaN</td>\n",
       "      <td>NaN</td>\n",
       "      <td>NaN</td>\n",
       "      <td>NaN</td>\n",
       "      <td>False</td>\n",
       "      <td>False</td>\n",
       "      <td>False</td>\n",
       "      <td>NaN</td>\n",
       "    </tr>\n",
       "    <tr>\n",
       "      <th>3</th>\n",
       "      <td>HOBBIES_1_004_CA_1_evaluation</td>\n",
       "      <td>HOBBIES_1_004</td>\n",
       "      <td>HOBBIES_1</td>\n",
       "      <td>HOBBIES</td>\n",
       "      <td>CA_1</td>\n",
       "      <td>CA</td>\n",
       "      <td>d_1</td>\n",
       "      <td>0</td>\n",
       "      <td>2011-01-29</td>\n",
       "      <td>11101</td>\n",
       "      <td>...</td>\n",
       "      <td>1</td>\n",
       "      <td>2011</td>\n",
       "      <td>NaN</td>\n",
       "      <td>NaN</td>\n",
       "      <td>NaN</td>\n",
       "      <td>NaN</td>\n",
       "      <td>False</td>\n",
       "      <td>False</td>\n",
       "      <td>False</td>\n",
       "      <td>NaN</td>\n",
       "    </tr>\n",
       "    <tr>\n",
       "      <th>4</th>\n",
       "      <td>HOBBIES_1_005_CA_1_evaluation</td>\n",
       "      <td>HOBBIES_1_005</td>\n",
       "      <td>HOBBIES_1</td>\n",
       "      <td>HOBBIES</td>\n",
       "      <td>CA_1</td>\n",
       "      <td>CA</td>\n",
       "      <td>d_1</td>\n",
       "      <td>0</td>\n",
       "      <td>2011-01-29</td>\n",
       "      <td>11101</td>\n",
       "      <td>...</td>\n",
       "      <td>1</td>\n",
       "      <td>2011</td>\n",
       "      <td>NaN</td>\n",
       "      <td>NaN</td>\n",
       "      <td>NaN</td>\n",
       "      <td>NaN</td>\n",
       "      <td>False</td>\n",
       "      <td>False</td>\n",
       "      <td>False</td>\n",
       "      <td>NaN</td>\n",
       "    </tr>\n",
       "  </tbody>\n",
       "</table>\n",
       "<p>5 rows × 22 columns</p>\n",
       "</div>"
      ],
      "text/plain": [
       "                              id        item_id    dept_id   cat_id store_id  \\\n",
       "0  HOBBIES_1_001_CA_1_evaluation  HOBBIES_1_001  HOBBIES_1  HOBBIES     CA_1   \n",
       "1  HOBBIES_1_002_CA_1_evaluation  HOBBIES_1_002  HOBBIES_1  HOBBIES     CA_1   \n",
       "2  HOBBIES_1_003_CA_1_evaluation  HOBBIES_1_003  HOBBIES_1  HOBBIES     CA_1   \n",
       "3  HOBBIES_1_004_CA_1_evaluation  HOBBIES_1_004  HOBBIES_1  HOBBIES     CA_1   \n",
       "4  HOBBIES_1_005_CA_1_evaluation  HOBBIES_1_005  HOBBIES_1  HOBBIES     CA_1   \n",
       "\n",
       "  state_id    d sold        date  wm_yr_wk  ... month  year  event_name_1  \\\n",
       "0       CA  d_1    0  2011-01-29     11101  ...     1  2011           NaN   \n",
       "1       CA  d_1    0  2011-01-29     11101  ...     1  2011           NaN   \n",
       "2       CA  d_1    0  2011-01-29     11101  ...     1  2011           NaN   \n",
       "3       CA  d_1    0  2011-01-29     11101  ...     1  2011           NaN   \n",
       "4       CA  d_1    0  2011-01-29     11101  ...     1  2011           NaN   \n",
       "\n",
       "   event_type_1 event_name_2 event_type_2 snap_CA snap_TX  snap_WI  sell_price  \n",
       "0           NaN          NaN          NaN   False   False    False         NaN  \n",
       "1           NaN          NaN          NaN   False   False    False         NaN  \n",
       "2           NaN          NaN          NaN   False   False    False         NaN  \n",
       "3           NaN          NaN          NaN   False   False    False         NaN  \n",
       "4           NaN          NaN          NaN   False   False    False         NaN  \n",
       "\n",
       "[5 rows x 22 columns]"
      ]
     },
     "execution_count": 6,
     "metadata": {},
     "output_type": "execute_result"
    }
   ],
   "source": [
    "df = pd.merge(df, calender_d, on='d', how='left')\n",
    "df = pd.merge(df, sell_prices_d, on=['store_id','item_id','wm_yr_wk'], how='left')\n",
    "df.head()"
   ]
  },
  {
   "cell_type": "code",
   "execution_count": 27,
   "metadata": {},
   "outputs": [
    {
     "name": "stdout",
     "output_type": "stream",
     "text": [
      "<class 'pandas.core.frame.DataFrame'>\n",
      "Int64Index: 59181090 entries, 0 to 59181089\n",
      "Data columns (total 22 columns):\n",
      " #   Column        Dtype   \n",
      "---  ------        -----   \n",
      " 0   id            object  \n",
      " 1   item_id       category\n",
      " 2   dept_id       category\n",
      " 3   cat_id        category\n",
      " 4   store_id      category\n",
      " 5   state_id      category\n",
      " 6   d             object  \n",
      " 7   sold          object  \n",
      " 8   date          object  \n",
      " 9   wm_yr_wk      uint16  \n",
      " 10  weekday       category\n",
      " 11  wday          uint8   \n",
      " 12  month         uint8   \n",
      " 13  year          uint16  \n",
      " 14  event_name_1  category\n",
      " 15  event_type_1  category\n",
      " 16  event_name_2  object  \n",
      " 17  event_type_2  category\n",
      " 18  snap_CA       bool    \n",
      " 19  snap_TX       bool    \n",
      " 20  snap_WI       bool    \n",
      " 21  sell_price    float32 \n",
      "dtypes: bool(3), category(9), float32(1), object(5), uint16(2), uint8(2)\n",
      "memory usage: 5.9+ GB\n"
     ]
    }
   ],
   "source": [
    "df.info()"
   ]
  },
  {
   "cell_type": "markdown",
   "metadata": {},
   "source": [
    "# Exploratory Data Analysis -> for checking null values"
   ]
  },
  {
   "cell_type": "code",
   "execution_count": 28,
   "metadata": {},
   "outputs": [
    {
     "data": {
      "text/plain": [
       "id        0\n",
       "d_1273    0\n",
       "d_1301    0\n",
       "d_1300    0\n",
       "d_1299    0\n",
       "         ..\n",
       "d_639     0\n",
       "d_638     0\n",
       "d_637     0\n",
       "d_636     0\n",
       "d_1941    0\n",
       "Length: 1947, dtype: int64"
      ]
     },
     "execution_count": 28,
     "metadata": {},
     "output_type": "execute_result"
    }
   ],
   "source": [
    "train_d.isnull().sum().sort_values(ascending = False)"
   ]
  },
  {
   "cell_type": "code",
   "execution_count": 29,
   "metadata": {},
   "outputs": [
    {
     "data": {
      "text/plain": [
       "store_id      0\n",
       "item_id       0\n",
       "wm_yr_wk      0\n",
       "sell_price    0\n",
       "dtype: int64"
      ]
     },
     "execution_count": 29,
     "metadata": {},
     "output_type": "execute_result"
    }
   ],
   "source": [
    "sell_prices.isnull().sum().sort_values(ascending = False)"
   ]
  },
  {
   "cell_type": "code",
   "execution_count": 30,
   "metadata": {},
   "outputs": [
    {
     "data": {
      "text/plain": [
       "event_name_2    1964\n",
       "event_type_2    1964\n",
       "event_name_1    1807\n",
       "event_type_1    1807\n",
       "date               0\n",
       "wm_yr_wk           0\n",
       "weekday            0\n",
       "wday               0\n",
       "month              0\n",
       "year               0\n",
       "d                  0\n",
       "snap_CA            0\n",
       "snap_TX            0\n",
       "snap_WI            0\n",
       "dtype: int64"
      ]
     },
     "execution_count": 30,
     "metadata": {},
     "output_type": "execute_result"
    }
   ],
   "source": [
    "calender_d.isnull().sum().sort_values(ascending = False)"
   ]
  },
  {
   "cell_type": "markdown",
   "metadata": {},
   "source": [
    "So, I think the columns of calender_d should be dropped..."
   ]
  },
  {
   "cell_type": "code",
   "execution_count": 14,
   "metadata": {},
   "outputs": [
    {
     "data": {
      "application/vnd.plotly.v1+json": {
       "config": {
        "plotlyServerURL": "https://plot.ly"
       },
       "data": [
        {
         "branchvalues": "total",
         "customdata": [
          [
           577436
          ],
          [
           null
          ],
          [
           null
          ],
          [
           732413
          ],
          [
           null
          ],
          [
           null
          ],
          [
           749971
          ],
          [
           null
          ],
          [
           null
          ],
          [
           350957
          ],
          [
           null
          ],
          [
           null
          ],
          [
           null
          ],
          [
           372880
          ],
          [
           null
          ],
          [
           null
          ],
          [
           516662
          ],
          [
           null
          ],
          [
           null
          ],
          [
           421005
          ],
          [
           null
          ],
          [
           null
          ],
          [
           null
          ],
          [
           516915
          ],
          [
           null
          ],
          [
           null
          ],
          [
           544124
          ],
          [
           null
          ],
          [
           null
          ],
          [
           408037
          ],
          [
           null
          ],
          [
           null
          ],
          [
           null
          ],
          [
           null
          ],
          [
           null
          ],
          [
           null
          ],
          [
           null
          ],
          [
           null
          ],
          [
           null
          ],
          [
           null
          ],
          [
           null
          ],
          [
           null
          ],
          [
           null
          ],
          [
           null
          ],
          [
           null
          ],
          [
           null
          ],
          [
           null
          ],
          [
           null
          ],
          [
           null
          ],
          [
           null
          ],
          [
           null
          ],
          [
           null
          ],
          [
           null
          ],
          [
           null
          ],
          [
           null
          ],
          [
           null
          ],
          [
           null
          ],
          [
           null
          ],
          [
           null
          ],
          [
           null
          ],
          [
           null
          ],
          [
           null
          ],
          [
           null
          ],
          [
           null
          ],
          [
           null
          ],
          [
           null
          ],
          [
           null
          ],
          [
           null
          ],
          [
           null
          ],
          [
           null
          ],
          [
           null
          ],
          [
           null
          ],
          [
           null
          ],
          [
           null
          ],
          [
           null
          ],
          [
           null
          ],
          [
           null
          ],
          [
           null
          ],
          [
           null
          ],
          [
           null
          ],
          [
           null
          ],
          [
           null
          ],
          [
           null
          ],
          [
           null
          ],
          [
           null
          ],
          [
           null
          ],
          [
           null
          ],
          [
           null
          ],
          [
           null
          ],
          [
           null
          ],
          [
           900391
          ],
          [
           null
          ],
          [
           null
          ],
          [
           348079
          ],
          [
           null
          ],
          [
           null
          ],
          [
           1221960
          ],
          [
           null
          ],
          [
           null
          ],
          [
           548175
          ],
          [
           null
          ],
          [
           null
          ],
          [
           null
          ],
          [
           640902
          ],
          [
           null
          ],
          [
           null
          ],
          [
           793367
          ],
          [
           null
          ],
          [
           null
          ],
          [
           768221
          ],
          [
           null
          ],
          [
           null
          ],
          [
           null
          ],
          [
           619575
          ],
          [
           null
          ],
          [
           null
          ],
          [
           1125611
          ],
          [
           null
          ],
          [
           null
          ],
          [
           828232
          ],
          [
           null
          ],
          [
           null
          ],
          [
           null
          ],
          [
           null
          ],
          [
           null
          ],
          [
           null
          ],
          [
           null
          ],
          [
           null
          ],
          [
           null
          ],
          [
           null
          ],
          [
           null
          ],
          [
           null
          ],
          [
           null
          ],
          [
           null
          ],
          [
           null
          ],
          [
           null
          ],
          [
           null
          ],
          [
           null
          ],
          [
           null
          ],
          [
           null
          ],
          [
           null
          ],
          [
           null
          ],
          [
           null
          ],
          [
           null
          ],
          [
           null
          ],
          [
           null
          ],
          [
           null
          ],
          [
           null
          ],
          [
           null
          ],
          [
           null
          ],
          [
           null
          ],
          [
           null
          ],
          [
           null
          ],
          [
           null
          ],
          [
           null
          ],
          [
           null
          ],
          [
           null
          ],
          [
           null
          ],
          [
           null
          ],
          [
           null
          ],
          [
           null
          ],
          [
           null
          ],
          [
           null
          ],
          [
           null
          ],
          [
           null
          ],
          [
           null
          ],
          [
           null
          ],
          [
           null
          ],
          [
           null
          ],
          [
           null
          ],
          [
           null
          ],
          [
           null
          ],
          [
           null
          ],
          [
           null
          ],
          [
           null
          ],
          [
           null
          ],
          [
           null
          ],
          [
           null
          ],
          [
           null
          ],
          [
           null
          ],
          [
           3993834
          ],
          [
           null
          ],
          [
           null
          ],
          [
           2486979
          ],
          [
           null
          ],
          [
           null
          ],
          [
           5599455
          ],
          [
           null
          ],
          [
           null
          ],
          [
           1971933
          ],
          [
           null
          ],
          [
           null
          ],
          [
           null
          ],
          [
           2824980
          ],
          [
           null
          ],
          [
           null
          ],
          [
           3778764
          ],
          [
           null
          ],
          [
           null
          ],
          [
           3049427
          ],
          [
           null
          ],
          [
           null
          ],
          [
           null
          ],
          [
           2380795
          ],
          [
           null
          ],
          [
           null
          ],
          [
           3212582
          ],
          [
           null
          ],
          [
           null
          ],
          [
           3578587
          ],
          [
           null
          ],
          [
           null
          ],
          [
           null
          ],
          [
           null
          ],
          [
           null
          ],
          [
           null
          ],
          [
           null
          ],
          [
           null
          ],
          [
           null
          ],
          [
           null
          ],
          [
           null
          ],
          [
           null
          ],
          [
           null
          ],
          [
           null
          ],
          [
           null
          ],
          [
           null
          ],
          [
           null
          ],
          [
           null
          ],
          [
           null
          ],
          [
           null
          ],
          [
           null
          ],
          [
           null
          ],
          [
           null
          ],
          [
           null
          ],
          [
           null
          ],
          [
           null
          ],
          [
           null
          ],
          [
           null
          ],
          [
           null
          ],
          [
           null
          ],
          [
           null
          ],
          [
           null
          ],
          [
           null
          ],
          [
           null
          ],
          [
           null
          ],
          [
           null
          ],
          [
           null
          ],
          [
           null
          ],
          [
           null
          ],
          [
           null
          ],
          [
           null
          ],
          [
           null
          ],
          [
           null
          ],
          [
           null
          ],
          [
           null
          ],
          [
           null
          ],
          [
           null
          ],
          [
           null
          ],
          [
           null
          ],
          [
           null
          ],
          [
           null
          ],
          [
           null
          ],
          [
           null
          ],
          [
           null
          ],
          [
           null
          ],
          [
           null
          ],
          [
           null
          ],
          [
           null
          ],
          [
           null
          ],
          [
           null
          ],
          [
           null
          ],
          [
           null
          ],
          [
           null
          ],
          [
           null
          ],
          [
           null
          ],
          [
           null
          ],
          [
           null
          ],
          [
           null
          ],
          [
           null
          ],
          [
           null
          ],
          [
           null
          ],
          [
           null
          ],
          [
           null
          ],
          [
           null
          ],
          [
           null
          ],
          [
           null
          ],
          [
           null
          ],
          [
           null
          ],
          [
           null
          ],
          [
           null
          ],
          [
           null
          ],
          [
           null
          ],
          [
           null
          ],
          [
           null
          ],
          [
           null
          ],
          [
           null
          ],
          [
           null
          ],
          [
           null
          ],
          [
           null
          ],
          [
           null
          ],
          [
           835578
          ],
          [
           null
          ],
          [
           null
          ],
          [
           589369
          ],
          [
           null
          ],
          [
           null
          ],
          [
           899816
          ],
          [
           null
          ],
          [
           null
          ],
          [
           552326
          ],
          [
           null
          ],
          [
           null
          ],
          [
           null
          ],
          [
           393135
          ],
          [
           null
          ],
          [
           null
          ],
          [
           570854
          ],
          [
           null
          ],
          [
           null
          ],
          [
           469823
          ],
          [
           null
          ],
          [
           null
          ],
          [
           null
          ],
          [
           619029
          ],
          [
           null
          ],
          [
           null
          ],
          [
           335890
          ],
          [
           null
          ],
          [
           null
          ],
          [
           432938
          ],
          [
           null
          ],
          [
           null
          ],
          [
           null
          ],
          [
           null
          ],
          [
           null
          ],
          [
           null
          ],
          [
           null
          ],
          [
           null
          ],
          [
           null
          ],
          [
           null
          ],
          [
           null
          ],
          [
           null
          ],
          [
           null
          ],
          [
           null
          ],
          [
           null
          ],
          [
           null
          ],
          [
           null
          ],
          [
           null
          ],
          [
           null
          ],
          [
           null
          ],
          [
           null
          ],
          [
           null
          ],
          [
           null
          ],
          [
           null
          ],
          [
           null
          ],
          [
           null
          ],
          [
           null
          ],
          [
           null
          ],
          [
           null
          ],
          [
           null
          ],
          [
           null
          ],
          [
           null
          ],
          [
           null
          ],
          [
           null
          ],
          [
           null
          ],
          [
           null
          ],
          [
           null
          ],
          [
           null
          ],
          [
           null
          ],
          [
           null
          ],
          [
           null
          ],
          [
           null
          ],
          [
           null
          ],
          [
           null
          ],
          [
           null
          ],
          [
           null
          ],
          [
           null
          ],
          [
           null
          ],
          [
           null
          ],
          [
           null
          ],
          [
           null
          ],
          [
           null
          ],
          [
           null
          ],
          [
           null
          ],
          [
           null
          ],
          [
           null
          ],
          [
           null
          ],
          [
           null
          ],
          [
           null
          ],
          [
           null
          ],
          [
           56505
          ],
          [
           null
          ],
          [
           null
          ],
          [
           60991
          ],
          [
           null
          ],
          [
           null
          ],
          [
           77541
          ],
          [
           null
          ],
          [
           null
          ],
          [
           23205
          ],
          [
           null
          ],
          [
           null
          ],
          [
           null
          ],
          [
           44298
          ],
          [
           null
          ],
          [
           null
          ],
          [
           76961
          ],
          [
           null
          ],
          [
           null
          ],
          [
           69059
          ],
          [
           null
          ],
          [
           null
          ],
          [
           null
          ],
          [
           48676
          ],
          [
           null
          ],
          [
           null
          ],
          [
           42728
          ],
          [
           null
          ],
          [
           null
          ],
          [
           41678
          ],
          [
           null
          ],
          [
           null
          ],
          [
           null
          ],
          [
           null
          ],
          [
           null
          ],
          [
           null
          ],
          [
           null
          ],
          [
           null
          ],
          [
           null
          ],
          [
           null
          ],
          [
           null
          ],
          [
           null
          ],
          [
           null
          ],
          [
           null
          ],
          [
           null
          ],
          [
           null
          ],
          [
           null
          ],
          [
           null
          ],
          [
           null
          ],
          [
           null
          ],
          [
           null
          ],
          [
           null
          ],
          [
           null
          ],
          [
           null
          ],
          [
           null
          ],
          [
           null
          ],
          [
           null
          ],
          [
           null
          ],
          [
           null
          ],
          [
           null
          ],
          [
           null
          ],
          [
           null
          ],
          [
           null
          ],
          [
           null
          ],
          [
           null
          ],
          [
           null
          ],
          [
           null
          ],
          [
           null
          ],
          [
           null
          ],
          [
           null
          ],
          [
           null
          ],
          [
           null
          ],
          [
           null
          ],
          [
           null
          ],
          [
           null
          ],
          [
           null
          ],
          [
           null
          ],
          [
           null
          ],
          [
           null
          ],
          [
           null
          ],
          [
           null
          ],
          [
           null
          ],
          [
           null
          ],
          [
           null
          ],
          [
           null
          ],
          [
           null
          ],
          [
           null
          ],
          [
           null
          ],
          [
           null
          ],
          [
           null
          ],
          [
           null
          ],
          [
           null
          ],
          [
           null
          ],
          [
           null
          ],
          [
           null
          ],
          [
           null
          ],
          [
           null
          ],
          [
           null
          ],
          [
           null
          ],
          [
           null
          ],
          [
           null
          ],
          [
           null
          ],
          [
           null
          ],
          [
           null
          ],
          [
           null
          ],
          [
           null
          ],
          [
           null
          ],
          [
           null
          ],
          [
           null
          ],
          [
           null
          ],
          [
           null
          ],
          [
           null
          ],
          [
           null
          ],
          [
           null
          ],
          [
           null
          ],
          [
           null
          ],
          [
           null
          ],
          [
           null
          ],
          [
           null
          ],
          [
           null
          ],
          [
           1121388
          ],
          [
           null
          ],
          [
           null
          ],
          [
           1130592
          ],
          [
           null
          ],
          [
           null
          ],
          [
           2185551
          ],
          [
           null
          ],
          [
           null
          ],
          [
           542699
          ],
          [
           null
          ],
          [
           null
          ],
          [
           null
          ],
          [
           1166973
          ],
          [
           null
          ],
          [
           null
          ],
          [
           1272374
          ],
          [
           null
          ],
          [
           null
          ],
          [
           1182841
          ],
          [
           null
          ],
          [
           null
          ],
          [
           null
          ],
          [
           839430
          ],
          [
           null
          ],
          [
           null
          ],
          [
           1241918
          ],
          [
           null
          ],
          [
           null
          ],
          [
           1035759
          ],
          [
           null
          ],
          [
           null
          ],
          [
           null
          ],
          [
           null
          ],
          [
           null
          ],
          [
           null
          ],
          [
           null
          ],
          [
           null
          ],
          [
           null
          ],
          [
           null
          ],
          [
           null
          ],
          [
           null
          ],
          [
           null
          ],
          [
           null
          ],
          [
           null
          ],
          [
           null
          ],
          [
           null
          ],
          [
           null
          ],
          [
           null
          ],
          [
           null
          ],
          [
           null
          ],
          [
           null
          ],
          [
           null
          ],
          [
           null
          ],
          [
           null
          ],
          [
           null
          ],
          [
           null
          ],
          [
           null
          ],
          [
           null
          ],
          [
           null
          ],
          [
           null
          ],
          [
           null
          ],
          [
           null
          ],
          [
           null
          ],
          [
           null
          ],
          [
           null
          ],
          [
           null
          ],
          [
           null
          ],
          [
           null
          ],
          [
           null
          ],
          [
           null
          ],
          [
           null
          ],
          [
           null
          ],
          [
           null
          ],
          [
           null
          ],
          [
           null
          ],
          [
           null
          ],
          [
           null
          ],
          [
           null
          ],
          [
           null
          ],
          [
           null
          ],
          [
           null
          ],
          [
           null
          ],
          [
           null
          ],
          [
           null
          ],
          [
           null
          ],
          [
           null
          ],
          [
           null
          ],
          [
           null
          ],
          [
           null
          ],
          [
           347116
          ],
          [
           null
          ],
          [
           null
          ],
          [
           469966
          ],
          [
           null
          ],
          [
           null
          ],
          [
           574716
          ],
          [
           null
          ],
          [
           null
          ],
          [
           192983
          ],
          [
           null
          ],
          [
           null
          ],
          [
           null
          ],
          [
           247351
          ],
          [
           null
          ],
          [
           null
          ],
          [
           314763
          ],
          [
           null
          ],
          [
           null
          ],
          [
           244027
          ],
          [
           null
          ],
          [
           null
          ],
          [
           null
          ],
          [
           237086
          ],
          [
           null
          ],
          [
           null
          ],
          [
           195135
          ],
          [
           null
          ],
          [
           null
          ],
          [
           217326
          ],
          [
           3124251.722928924
          ],
          [
           null
          ],
          [
           null
          ],
          [
           1918068.1046183696
          ],
          [
           null
          ],
          [
           null
          ],
          [
           4412605.438352503
          ],
          [
           null
          ],
          [
           null
          ],
          [
           1501946.6305928288
          ],
          [
           null
          ],
          [
           null
          ],
          [
           null
          ],
          [
           2222150.4923733226
          ],
          [
           null
          ],
          [
           null
          ],
          [
           2982127.2326520258
          ],
          [
           null
          ],
          [
           null
          ],
          [
           2374908.666313331
          ],
          [
           null
          ],
          [
           null
          ],
          [
           null
          ],
          [
           1796629.823820077
          ],
          [
           null
          ],
          [
           null
          ],
          [
           2434039.853909732
          ],
          [
           null
          ],
          [
           null
          ],
          [
           2836792.4930178598
          ],
          [
           786231.1120254506
          ],
          [
           null
          ],
          [
           null
          ],
          [
           539817.516824528
          ],
          [
           null
          ],
          [
           null
          ],
          [
           834578.8084978161
          ],
          [
           null
          ],
          [
           null
          ],
          [
           530992.2181446351
          ],
          [
           null
          ],
          [
           null
          ],
          [
           null
          ],
          [
           357808.946807854
          ],
          [
           null
          ],
          [
           null
          ],
          [
           512179.0709338314
          ],
          [
           null
          ],
          [
           null
          ],
          [
           418464.1476427121
          ],
          [
           null
          ],
          [
           null
          ],
          [
           null
          ],
          [
           577450.0053421796
          ],
          [
           null
          ],
          [
           null
          ],
          [
           302805.9259834451
          ],
          [
           null
          ],
          [
           null
          ],
          [
           398579.8361791427
          ],
          [
           938370.3170028819
          ],
          [
           null
          ],
          [
           null
          ],
          [
           936614.8003508777
          ],
          [
           null
          ],
          [
           null
          ],
          [
           1850158.5731586835
          ],
          [
           null
          ],
          [
           null
          ],
          [
           450962.0228441093
          ],
          [
           null
          ],
          [
           null
          ],
          [
           null
          ],
          [
           1006140.389281381
          ],
          [
           null
          ],
          [
           null
          ],
          [
           1082459.3857020536
          ],
          [
           null
          ],
          [
           null
          ],
          [
           1022282.3751110825
          ],
          [
           null
          ],
          [
           null
          ],
          [
           null
          ],
          [
           706773.0496304746
          ],
          [
           null
          ],
          [
           null
          ],
          [
           1099777.1042188422
          ],
          [
           null
          ],
          [
           null
          ],
          [
           893815.8994457679
          ],
          [
           2448113.2721591555
          ],
          [
           null
          ],
          [
           null
          ],
          [
           1494027.7061421985
          ],
          [
           null
          ],
          [
           null
          ],
          [
           3477948.302659561
          ],
          [
           null
          ],
          [
           null
          ],
          [
           1183458.758158592
          ],
          [
           null
          ],
          [
           null
          ],
          [
           null
          ],
          [
           1776609.9734247439
          ],
          [
           null
          ],
          [
           null
          ],
          [
           2351971.1313694017
          ],
          [
           null
          ],
          [
           null
          ],
          [
           1893909.6232167704
          ],
          [
           null
          ],
          [
           null
          ],
          [
           null
          ],
          [
           1418924.1411086484
          ],
          [
           null
          ],
          [
           null
          ],
          [
           2027301.3207031724
          ],
          [
           null
          ],
          [
           null
          ],
          [
           2287782.440358869
          ],
          [
           2475772.2872860665
          ],
          [
           2033733.565959023
          ],
          [
           1946403.9321958956
          ],
          [
           2202229.476692194
          ]
         ],
         "domain": {
          "x": [
           0,
           1
          ],
          "y": [
           0,
           1
          ]
         },
         "hovertemplate": "labels=%{label}<br>sold_sum=%{value}<br>parent=%{parent}<br>id=%{id}<br>sold=%{color}<extra></extra>",
         "ids": [
          "United States of America/CA/CA_1/FOODS/FOODS_1",
          "United States of America/TX/CA_1/FOODS/FOODS_1",
          "United States of America/WI/CA_1/FOODS/FOODS_1",
          "United States of America/CA/CA_2/FOODS/FOODS_1",
          "United States of America/TX/CA_2/FOODS/FOODS_1",
          "United States of America/WI/CA_2/FOODS/FOODS_1",
          "United States of America/CA/CA_3/FOODS/FOODS_1",
          "United States of America/TX/CA_3/FOODS/FOODS_1",
          "United States of America/WI/CA_3/FOODS/FOODS_1",
          "United States of America/CA/CA_4/FOODS/FOODS_1",
          "United States of America/TX/CA_4/FOODS/FOODS_1",
          "United States of America/WI/CA_4/FOODS/FOODS_1",
          "United States of America/CA/TX_1/FOODS/FOODS_1",
          "United States of America/TX/TX_1/FOODS/FOODS_1",
          "United States of America/WI/TX_1/FOODS/FOODS_1",
          "United States of America/CA/TX_2/FOODS/FOODS_1",
          "United States of America/TX/TX_2/FOODS/FOODS_1",
          "United States of America/WI/TX_2/FOODS/FOODS_1",
          "United States of America/CA/TX_3/FOODS/FOODS_1",
          "United States of America/TX/TX_3/FOODS/FOODS_1",
          "United States of America/WI/TX_3/FOODS/FOODS_1",
          "United States of America/CA/WI_1/FOODS/FOODS_1",
          "United States of America/TX/WI_1/FOODS/FOODS_1",
          "United States of America/WI/WI_1/FOODS/FOODS_1",
          "United States of America/CA/WI_2/FOODS/FOODS_1",
          "United States of America/TX/WI_2/FOODS/FOODS_1",
          "United States of America/WI/WI_2/FOODS/FOODS_1",
          "United States of America/CA/WI_3/FOODS/FOODS_1",
          "United States of America/TX/WI_3/FOODS/FOODS_1",
          "United States of America/WI/WI_3/FOODS/FOODS_1",
          "United States of America/CA/CA_1/HOBBIES/FOODS_1",
          "United States of America/TX/CA_1/HOBBIES/FOODS_1",
          "United States of America/WI/CA_1/HOBBIES/FOODS_1",
          "United States of America/CA/CA_2/HOBBIES/FOODS_1",
          "United States of America/TX/CA_2/HOBBIES/FOODS_1",
          "United States of America/WI/CA_2/HOBBIES/FOODS_1",
          "United States of America/CA/CA_3/HOBBIES/FOODS_1",
          "United States of America/TX/CA_3/HOBBIES/FOODS_1",
          "United States of America/WI/CA_3/HOBBIES/FOODS_1",
          "United States of America/CA/CA_4/HOBBIES/FOODS_1",
          "United States of America/TX/CA_4/HOBBIES/FOODS_1",
          "United States of America/WI/CA_4/HOBBIES/FOODS_1",
          "United States of America/CA/TX_1/HOBBIES/FOODS_1",
          "United States of America/TX/TX_1/HOBBIES/FOODS_1",
          "United States of America/WI/TX_1/HOBBIES/FOODS_1",
          "United States of America/CA/TX_2/HOBBIES/FOODS_1",
          "United States of America/TX/TX_2/HOBBIES/FOODS_1",
          "United States of America/WI/TX_2/HOBBIES/FOODS_1",
          "United States of America/CA/TX_3/HOBBIES/FOODS_1",
          "United States of America/TX/TX_3/HOBBIES/FOODS_1",
          "United States of America/WI/TX_3/HOBBIES/FOODS_1",
          "United States of America/CA/WI_1/HOBBIES/FOODS_1",
          "United States of America/TX/WI_1/HOBBIES/FOODS_1",
          "United States of America/WI/WI_1/HOBBIES/FOODS_1",
          "United States of America/CA/WI_2/HOBBIES/FOODS_1",
          "United States of America/TX/WI_2/HOBBIES/FOODS_1",
          "United States of America/WI/WI_2/HOBBIES/FOODS_1",
          "United States of America/CA/WI_3/HOBBIES/FOODS_1",
          "United States of America/TX/WI_3/HOBBIES/FOODS_1",
          "United States of America/WI/WI_3/HOBBIES/FOODS_1",
          "United States of America/CA/CA_1/HOUSEHOLD/FOODS_1",
          "United States of America/TX/CA_1/HOUSEHOLD/FOODS_1",
          "United States of America/WI/CA_1/HOUSEHOLD/FOODS_1",
          "United States of America/CA/CA_2/HOUSEHOLD/FOODS_1",
          "United States of America/TX/CA_2/HOUSEHOLD/FOODS_1",
          "United States of America/WI/CA_2/HOUSEHOLD/FOODS_1",
          "United States of America/CA/CA_3/HOUSEHOLD/FOODS_1",
          "United States of America/TX/CA_3/HOUSEHOLD/FOODS_1",
          "United States of America/WI/CA_3/HOUSEHOLD/FOODS_1",
          "United States of America/CA/CA_4/HOUSEHOLD/FOODS_1",
          "United States of America/TX/CA_4/HOUSEHOLD/FOODS_1",
          "United States of America/WI/CA_4/HOUSEHOLD/FOODS_1",
          "United States of America/CA/TX_1/HOUSEHOLD/FOODS_1",
          "United States of America/TX/TX_1/HOUSEHOLD/FOODS_1",
          "United States of America/WI/TX_1/HOUSEHOLD/FOODS_1",
          "United States of America/CA/TX_2/HOUSEHOLD/FOODS_1",
          "United States of America/TX/TX_2/HOUSEHOLD/FOODS_1",
          "United States of America/WI/TX_2/HOUSEHOLD/FOODS_1",
          "United States of America/CA/TX_3/HOUSEHOLD/FOODS_1",
          "United States of America/TX/TX_3/HOUSEHOLD/FOODS_1",
          "United States of America/WI/TX_3/HOUSEHOLD/FOODS_1",
          "United States of America/CA/WI_1/HOUSEHOLD/FOODS_1",
          "United States of America/TX/WI_1/HOUSEHOLD/FOODS_1",
          "United States of America/WI/WI_1/HOUSEHOLD/FOODS_1",
          "United States of America/CA/WI_2/HOUSEHOLD/FOODS_1",
          "United States of America/TX/WI_2/HOUSEHOLD/FOODS_1",
          "United States of America/WI/WI_2/HOUSEHOLD/FOODS_1",
          "United States of America/CA/WI_3/HOUSEHOLD/FOODS_1",
          "United States of America/TX/WI_3/HOUSEHOLD/FOODS_1",
          "United States of America/WI/WI_3/HOUSEHOLD/FOODS_1",
          "United States of America/CA/CA_1/FOODS/FOODS_2",
          "United States of America/TX/CA_1/FOODS/FOODS_2",
          "United States of America/WI/CA_1/FOODS/FOODS_2",
          "United States of America/CA/CA_2/FOODS/FOODS_2",
          "United States of America/TX/CA_2/FOODS/FOODS_2",
          "United States of America/WI/CA_2/FOODS/FOODS_2",
          "United States of America/CA/CA_3/FOODS/FOODS_2",
          "United States of America/TX/CA_3/FOODS/FOODS_2",
          "United States of America/WI/CA_3/FOODS/FOODS_2",
          "United States of America/CA/CA_4/FOODS/FOODS_2",
          "United States of America/TX/CA_4/FOODS/FOODS_2",
          "United States of America/WI/CA_4/FOODS/FOODS_2",
          "United States of America/CA/TX_1/FOODS/FOODS_2",
          "United States of America/TX/TX_1/FOODS/FOODS_2",
          "United States of America/WI/TX_1/FOODS/FOODS_2",
          "United States of America/CA/TX_2/FOODS/FOODS_2",
          "United States of America/TX/TX_2/FOODS/FOODS_2",
          "United States of America/WI/TX_2/FOODS/FOODS_2",
          "United States of America/CA/TX_3/FOODS/FOODS_2",
          "United States of America/TX/TX_3/FOODS/FOODS_2",
          "United States of America/WI/TX_3/FOODS/FOODS_2",
          "United States of America/CA/WI_1/FOODS/FOODS_2",
          "United States of America/TX/WI_1/FOODS/FOODS_2",
          "United States of America/WI/WI_1/FOODS/FOODS_2",
          "United States of America/CA/WI_2/FOODS/FOODS_2",
          "United States of America/TX/WI_2/FOODS/FOODS_2",
          "United States of America/WI/WI_2/FOODS/FOODS_2",
          "United States of America/CA/WI_3/FOODS/FOODS_2",
          "United States of America/TX/WI_3/FOODS/FOODS_2",
          "United States of America/WI/WI_3/FOODS/FOODS_2",
          "United States of America/CA/CA_1/HOBBIES/FOODS_2",
          "United States of America/TX/CA_1/HOBBIES/FOODS_2",
          "United States of America/WI/CA_1/HOBBIES/FOODS_2",
          "United States of America/CA/CA_2/HOBBIES/FOODS_2",
          "United States of America/TX/CA_2/HOBBIES/FOODS_2",
          "United States of America/WI/CA_2/HOBBIES/FOODS_2",
          "United States of America/CA/CA_3/HOBBIES/FOODS_2",
          "United States of America/TX/CA_3/HOBBIES/FOODS_2",
          "United States of America/WI/CA_3/HOBBIES/FOODS_2",
          "United States of America/CA/CA_4/HOBBIES/FOODS_2",
          "United States of America/TX/CA_4/HOBBIES/FOODS_2",
          "United States of America/WI/CA_4/HOBBIES/FOODS_2",
          "United States of America/CA/TX_1/HOBBIES/FOODS_2",
          "United States of America/TX/TX_1/HOBBIES/FOODS_2",
          "United States of America/WI/TX_1/HOBBIES/FOODS_2",
          "United States of America/CA/TX_2/HOBBIES/FOODS_2",
          "United States of America/TX/TX_2/HOBBIES/FOODS_2",
          "United States of America/WI/TX_2/HOBBIES/FOODS_2",
          "United States of America/CA/TX_3/HOBBIES/FOODS_2",
          "United States of America/TX/TX_3/HOBBIES/FOODS_2",
          "United States of America/WI/TX_3/HOBBIES/FOODS_2",
          "United States of America/CA/WI_1/HOBBIES/FOODS_2",
          "United States of America/TX/WI_1/HOBBIES/FOODS_2",
          "United States of America/WI/WI_1/HOBBIES/FOODS_2",
          "United States of America/CA/WI_2/HOBBIES/FOODS_2",
          "United States of America/TX/WI_2/HOBBIES/FOODS_2",
          "United States of America/WI/WI_2/HOBBIES/FOODS_2",
          "United States of America/CA/WI_3/HOBBIES/FOODS_2",
          "United States of America/TX/WI_3/HOBBIES/FOODS_2",
          "United States of America/WI/WI_3/HOBBIES/FOODS_2",
          "United States of America/CA/CA_1/HOUSEHOLD/FOODS_2",
          "United States of America/TX/CA_1/HOUSEHOLD/FOODS_2",
          "United States of America/WI/CA_1/HOUSEHOLD/FOODS_2",
          "United States of America/CA/CA_2/HOUSEHOLD/FOODS_2",
          "United States of America/TX/CA_2/HOUSEHOLD/FOODS_2",
          "United States of America/WI/CA_2/HOUSEHOLD/FOODS_2",
          "United States of America/CA/CA_3/HOUSEHOLD/FOODS_2",
          "United States of America/TX/CA_3/HOUSEHOLD/FOODS_2",
          "United States of America/WI/CA_3/HOUSEHOLD/FOODS_2",
          "United States of America/CA/CA_4/HOUSEHOLD/FOODS_2",
          "United States of America/TX/CA_4/HOUSEHOLD/FOODS_2",
          "United States of America/WI/CA_4/HOUSEHOLD/FOODS_2",
          "United States of America/CA/TX_1/HOUSEHOLD/FOODS_2",
          "United States of America/TX/TX_1/HOUSEHOLD/FOODS_2",
          "United States of America/WI/TX_1/HOUSEHOLD/FOODS_2",
          "United States of America/CA/TX_2/HOUSEHOLD/FOODS_2",
          "United States of America/TX/TX_2/HOUSEHOLD/FOODS_2",
          "United States of America/WI/TX_2/HOUSEHOLD/FOODS_2",
          "United States of America/CA/TX_3/HOUSEHOLD/FOODS_2",
          "United States of America/TX/TX_3/HOUSEHOLD/FOODS_2",
          "United States of America/WI/TX_3/HOUSEHOLD/FOODS_2",
          "United States of America/CA/WI_1/HOUSEHOLD/FOODS_2",
          "United States of America/TX/WI_1/HOUSEHOLD/FOODS_2",
          "United States of America/WI/WI_1/HOUSEHOLD/FOODS_2",
          "United States of America/CA/WI_2/HOUSEHOLD/FOODS_2",
          "United States of America/TX/WI_2/HOUSEHOLD/FOODS_2",
          "United States of America/WI/WI_2/HOUSEHOLD/FOODS_2",
          "United States of America/CA/WI_3/HOUSEHOLD/FOODS_2",
          "United States of America/TX/WI_3/HOUSEHOLD/FOODS_2",
          "United States of America/WI/WI_3/HOUSEHOLD/FOODS_2",
          "United States of America/CA/CA_1/FOODS/FOODS_3",
          "United States of America/TX/CA_1/FOODS/FOODS_3",
          "United States of America/WI/CA_1/FOODS/FOODS_3",
          "United States of America/CA/CA_2/FOODS/FOODS_3",
          "United States of America/TX/CA_2/FOODS/FOODS_3",
          "United States of America/WI/CA_2/FOODS/FOODS_3",
          "United States of America/CA/CA_3/FOODS/FOODS_3",
          "United States of America/TX/CA_3/FOODS/FOODS_3",
          "United States of America/WI/CA_3/FOODS/FOODS_3",
          "United States of America/CA/CA_4/FOODS/FOODS_3",
          "United States of America/TX/CA_4/FOODS/FOODS_3",
          "United States of America/WI/CA_4/FOODS/FOODS_3",
          "United States of America/CA/TX_1/FOODS/FOODS_3",
          "United States of America/TX/TX_1/FOODS/FOODS_3",
          "United States of America/WI/TX_1/FOODS/FOODS_3",
          "United States of America/CA/TX_2/FOODS/FOODS_3",
          "United States of America/TX/TX_2/FOODS/FOODS_3",
          "United States of America/WI/TX_2/FOODS/FOODS_3",
          "United States of America/CA/TX_3/FOODS/FOODS_3",
          "United States of America/TX/TX_3/FOODS/FOODS_3",
          "United States of America/WI/TX_3/FOODS/FOODS_3",
          "United States of America/CA/WI_1/FOODS/FOODS_3",
          "United States of America/TX/WI_1/FOODS/FOODS_3",
          "United States of America/WI/WI_1/FOODS/FOODS_3",
          "United States of America/CA/WI_2/FOODS/FOODS_3",
          "United States of America/TX/WI_2/FOODS/FOODS_3",
          "United States of America/WI/WI_2/FOODS/FOODS_3",
          "United States of America/CA/WI_3/FOODS/FOODS_3",
          "United States of America/TX/WI_3/FOODS/FOODS_3",
          "United States of America/WI/WI_3/FOODS/FOODS_3",
          "United States of America/CA/CA_1/HOBBIES/FOODS_3",
          "United States of America/TX/CA_1/HOBBIES/FOODS_3",
          "United States of America/WI/CA_1/HOBBIES/FOODS_3",
          "United States of America/CA/CA_2/HOBBIES/FOODS_3",
          "United States of America/TX/CA_2/HOBBIES/FOODS_3",
          "United States of America/WI/CA_2/HOBBIES/FOODS_3",
          "United States of America/CA/CA_3/HOBBIES/FOODS_3",
          "United States of America/TX/CA_3/HOBBIES/FOODS_3",
          "United States of America/WI/CA_3/HOBBIES/FOODS_3",
          "United States of America/CA/CA_4/HOBBIES/FOODS_3",
          "United States of America/TX/CA_4/HOBBIES/FOODS_3",
          "United States of America/WI/CA_4/HOBBIES/FOODS_3",
          "United States of America/CA/TX_1/HOBBIES/FOODS_3",
          "United States of America/TX/TX_1/HOBBIES/FOODS_3",
          "United States of America/WI/TX_1/HOBBIES/FOODS_3",
          "United States of America/CA/TX_2/HOBBIES/FOODS_3",
          "United States of America/TX/TX_2/HOBBIES/FOODS_3",
          "United States of America/WI/TX_2/HOBBIES/FOODS_3",
          "United States of America/CA/TX_3/HOBBIES/FOODS_3",
          "United States of America/TX/TX_3/HOBBIES/FOODS_3",
          "United States of America/WI/TX_3/HOBBIES/FOODS_3",
          "United States of America/CA/WI_1/HOBBIES/FOODS_3",
          "United States of America/TX/WI_1/HOBBIES/FOODS_3",
          "United States of America/WI/WI_1/HOBBIES/FOODS_3",
          "United States of America/CA/WI_2/HOBBIES/FOODS_3",
          "United States of America/TX/WI_2/HOBBIES/FOODS_3",
          "United States of America/WI/WI_2/HOBBIES/FOODS_3",
          "United States of America/CA/WI_3/HOBBIES/FOODS_3",
          "United States of America/TX/WI_3/HOBBIES/FOODS_3",
          "United States of America/WI/WI_3/HOBBIES/FOODS_3",
          "United States of America/CA/CA_1/HOUSEHOLD/FOODS_3",
          "United States of America/TX/CA_1/HOUSEHOLD/FOODS_3",
          "United States of America/WI/CA_1/HOUSEHOLD/FOODS_3",
          "United States of America/CA/CA_2/HOUSEHOLD/FOODS_3",
          "United States of America/TX/CA_2/HOUSEHOLD/FOODS_3",
          "United States of America/WI/CA_2/HOUSEHOLD/FOODS_3",
          "United States of America/CA/CA_3/HOUSEHOLD/FOODS_3",
          "United States of America/TX/CA_3/HOUSEHOLD/FOODS_3",
          "United States of America/WI/CA_3/HOUSEHOLD/FOODS_3",
          "United States of America/CA/CA_4/HOUSEHOLD/FOODS_3",
          "United States of America/TX/CA_4/HOUSEHOLD/FOODS_3",
          "United States of America/WI/CA_4/HOUSEHOLD/FOODS_3",
          "United States of America/CA/TX_1/HOUSEHOLD/FOODS_3",
          "United States of America/TX/TX_1/HOUSEHOLD/FOODS_3",
          "United States of America/WI/TX_1/HOUSEHOLD/FOODS_3",
          "United States of America/CA/TX_2/HOUSEHOLD/FOODS_3",
          "United States of America/TX/TX_2/HOUSEHOLD/FOODS_3",
          "United States of America/WI/TX_2/HOUSEHOLD/FOODS_3",
          "United States of America/CA/TX_3/HOUSEHOLD/FOODS_3",
          "United States of America/TX/TX_3/HOUSEHOLD/FOODS_3",
          "United States of America/WI/TX_3/HOUSEHOLD/FOODS_3",
          "United States of America/CA/WI_1/HOUSEHOLD/FOODS_3",
          "United States of America/TX/WI_1/HOUSEHOLD/FOODS_3",
          "United States of America/WI/WI_1/HOUSEHOLD/FOODS_3",
          "United States of America/CA/WI_2/HOUSEHOLD/FOODS_3",
          "United States of America/TX/WI_2/HOUSEHOLD/FOODS_3",
          "United States of America/WI/WI_2/HOUSEHOLD/FOODS_3",
          "United States of America/CA/WI_3/HOUSEHOLD/FOODS_3",
          "United States of America/TX/WI_3/HOUSEHOLD/FOODS_3",
          "United States of America/WI/WI_3/HOUSEHOLD/FOODS_3",
          "United States of America/CA/CA_1/FOODS/HOBBIES_1",
          "United States of America/TX/CA_1/FOODS/HOBBIES_1",
          "United States of America/WI/CA_1/FOODS/HOBBIES_1",
          "United States of America/CA/CA_2/FOODS/HOBBIES_1",
          "United States of America/TX/CA_2/FOODS/HOBBIES_1",
          "United States of America/WI/CA_2/FOODS/HOBBIES_1",
          "United States of America/CA/CA_3/FOODS/HOBBIES_1",
          "United States of America/TX/CA_3/FOODS/HOBBIES_1",
          "United States of America/WI/CA_3/FOODS/HOBBIES_1",
          "United States of America/CA/CA_4/FOODS/HOBBIES_1",
          "United States of America/TX/CA_4/FOODS/HOBBIES_1",
          "United States of America/WI/CA_4/FOODS/HOBBIES_1",
          "United States of America/CA/TX_1/FOODS/HOBBIES_1",
          "United States of America/TX/TX_1/FOODS/HOBBIES_1",
          "United States of America/WI/TX_1/FOODS/HOBBIES_1",
          "United States of America/CA/TX_2/FOODS/HOBBIES_1",
          "United States of America/TX/TX_2/FOODS/HOBBIES_1",
          "United States of America/WI/TX_2/FOODS/HOBBIES_1",
          "United States of America/CA/TX_3/FOODS/HOBBIES_1",
          "United States of America/TX/TX_3/FOODS/HOBBIES_1",
          "United States of America/WI/TX_3/FOODS/HOBBIES_1",
          "United States of America/CA/WI_1/FOODS/HOBBIES_1",
          "United States of America/TX/WI_1/FOODS/HOBBIES_1",
          "United States of America/WI/WI_1/FOODS/HOBBIES_1",
          "United States of America/CA/WI_2/FOODS/HOBBIES_1",
          "United States of America/TX/WI_2/FOODS/HOBBIES_1",
          "United States of America/WI/WI_2/FOODS/HOBBIES_1",
          "United States of America/CA/WI_3/FOODS/HOBBIES_1",
          "United States of America/TX/WI_3/FOODS/HOBBIES_1",
          "United States of America/WI/WI_3/FOODS/HOBBIES_1",
          "United States of America/CA/CA_1/HOBBIES/HOBBIES_1",
          "United States of America/TX/CA_1/HOBBIES/HOBBIES_1",
          "United States of America/WI/CA_1/HOBBIES/HOBBIES_1",
          "United States of America/CA/CA_2/HOBBIES/HOBBIES_1",
          "United States of America/TX/CA_2/HOBBIES/HOBBIES_1",
          "United States of America/WI/CA_2/HOBBIES/HOBBIES_1",
          "United States of America/CA/CA_3/HOBBIES/HOBBIES_1",
          "United States of America/TX/CA_3/HOBBIES/HOBBIES_1",
          "United States of America/WI/CA_3/HOBBIES/HOBBIES_1",
          "United States of America/CA/CA_4/HOBBIES/HOBBIES_1",
          "United States of America/TX/CA_4/HOBBIES/HOBBIES_1",
          "United States of America/WI/CA_4/HOBBIES/HOBBIES_1",
          "United States of America/CA/TX_1/HOBBIES/HOBBIES_1",
          "United States of America/TX/TX_1/HOBBIES/HOBBIES_1",
          "United States of America/WI/TX_1/HOBBIES/HOBBIES_1",
          "United States of America/CA/TX_2/HOBBIES/HOBBIES_1",
          "United States of America/TX/TX_2/HOBBIES/HOBBIES_1",
          "United States of America/WI/TX_2/HOBBIES/HOBBIES_1",
          "United States of America/CA/TX_3/HOBBIES/HOBBIES_1",
          "United States of America/TX/TX_3/HOBBIES/HOBBIES_1",
          "United States of America/WI/TX_3/HOBBIES/HOBBIES_1",
          "United States of America/CA/WI_1/HOBBIES/HOBBIES_1",
          "United States of America/TX/WI_1/HOBBIES/HOBBIES_1",
          "United States of America/WI/WI_1/HOBBIES/HOBBIES_1",
          "United States of America/CA/WI_2/HOBBIES/HOBBIES_1",
          "United States of America/TX/WI_2/HOBBIES/HOBBIES_1",
          "United States of America/WI/WI_2/HOBBIES/HOBBIES_1",
          "United States of America/CA/WI_3/HOBBIES/HOBBIES_1",
          "United States of America/TX/WI_3/HOBBIES/HOBBIES_1",
          "United States of America/WI/WI_3/HOBBIES/HOBBIES_1",
          "United States of America/CA/CA_1/HOUSEHOLD/HOBBIES_1",
          "United States of America/TX/CA_1/HOUSEHOLD/HOBBIES_1",
          "United States of America/WI/CA_1/HOUSEHOLD/HOBBIES_1",
          "United States of America/CA/CA_2/HOUSEHOLD/HOBBIES_1",
          "United States of America/TX/CA_2/HOUSEHOLD/HOBBIES_1",
          "United States of America/WI/CA_2/HOUSEHOLD/HOBBIES_1",
          "United States of America/CA/CA_3/HOUSEHOLD/HOBBIES_1",
          "United States of America/TX/CA_3/HOUSEHOLD/HOBBIES_1",
          "United States of America/WI/CA_3/HOUSEHOLD/HOBBIES_1",
          "United States of America/CA/CA_4/HOUSEHOLD/HOBBIES_1",
          "United States of America/TX/CA_4/HOUSEHOLD/HOBBIES_1",
          "United States of America/WI/CA_4/HOUSEHOLD/HOBBIES_1",
          "United States of America/CA/TX_1/HOUSEHOLD/HOBBIES_1",
          "United States of America/TX/TX_1/HOUSEHOLD/HOBBIES_1",
          "United States of America/WI/TX_1/HOUSEHOLD/HOBBIES_1",
          "United States of America/CA/TX_2/HOUSEHOLD/HOBBIES_1",
          "United States of America/TX/TX_2/HOUSEHOLD/HOBBIES_1",
          "United States of America/WI/TX_2/HOUSEHOLD/HOBBIES_1",
          "United States of America/CA/TX_3/HOUSEHOLD/HOBBIES_1",
          "United States of America/TX/TX_3/HOUSEHOLD/HOBBIES_1",
          "United States of America/WI/TX_3/HOUSEHOLD/HOBBIES_1",
          "United States of America/CA/WI_1/HOUSEHOLD/HOBBIES_1",
          "United States of America/TX/WI_1/HOUSEHOLD/HOBBIES_1",
          "United States of America/WI/WI_1/HOUSEHOLD/HOBBIES_1",
          "United States of America/CA/WI_2/HOUSEHOLD/HOBBIES_1",
          "United States of America/TX/WI_2/HOUSEHOLD/HOBBIES_1",
          "United States of America/WI/WI_2/HOUSEHOLD/HOBBIES_1",
          "United States of America/CA/WI_3/HOUSEHOLD/HOBBIES_1",
          "United States of America/TX/WI_3/HOUSEHOLD/HOBBIES_1",
          "United States of America/WI/WI_3/HOUSEHOLD/HOBBIES_1",
          "United States of America/CA/CA_1/FOODS/HOBBIES_2",
          "United States of America/TX/CA_1/FOODS/HOBBIES_2",
          "United States of America/WI/CA_1/FOODS/HOBBIES_2",
          "United States of America/CA/CA_2/FOODS/HOBBIES_2",
          "United States of America/TX/CA_2/FOODS/HOBBIES_2",
          "United States of America/WI/CA_2/FOODS/HOBBIES_2",
          "United States of America/CA/CA_3/FOODS/HOBBIES_2",
          "United States of America/TX/CA_3/FOODS/HOBBIES_2",
          "United States of America/WI/CA_3/FOODS/HOBBIES_2",
          "United States of America/CA/CA_4/FOODS/HOBBIES_2",
          "United States of America/TX/CA_4/FOODS/HOBBIES_2",
          "United States of America/WI/CA_4/FOODS/HOBBIES_2",
          "United States of America/CA/TX_1/FOODS/HOBBIES_2",
          "United States of America/TX/TX_1/FOODS/HOBBIES_2",
          "United States of America/WI/TX_1/FOODS/HOBBIES_2",
          "United States of America/CA/TX_2/FOODS/HOBBIES_2",
          "United States of America/TX/TX_2/FOODS/HOBBIES_2",
          "United States of America/WI/TX_2/FOODS/HOBBIES_2",
          "United States of America/CA/TX_3/FOODS/HOBBIES_2",
          "United States of America/TX/TX_3/FOODS/HOBBIES_2",
          "United States of America/WI/TX_3/FOODS/HOBBIES_2",
          "United States of America/CA/WI_1/FOODS/HOBBIES_2",
          "United States of America/TX/WI_1/FOODS/HOBBIES_2",
          "United States of America/WI/WI_1/FOODS/HOBBIES_2",
          "United States of America/CA/WI_2/FOODS/HOBBIES_2",
          "United States of America/TX/WI_2/FOODS/HOBBIES_2",
          "United States of America/WI/WI_2/FOODS/HOBBIES_2",
          "United States of America/CA/WI_3/FOODS/HOBBIES_2",
          "United States of America/TX/WI_3/FOODS/HOBBIES_2",
          "United States of America/WI/WI_3/FOODS/HOBBIES_2",
          "United States of America/CA/CA_1/HOBBIES/HOBBIES_2",
          "United States of America/TX/CA_1/HOBBIES/HOBBIES_2",
          "United States of America/WI/CA_1/HOBBIES/HOBBIES_2",
          "United States of America/CA/CA_2/HOBBIES/HOBBIES_2",
          "United States of America/TX/CA_2/HOBBIES/HOBBIES_2",
          "United States of America/WI/CA_2/HOBBIES/HOBBIES_2",
          "United States of America/CA/CA_3/HOBBIES/HOBBIES_2",
          "United States of America/TX/CA_3/HOBBIES/HOBBIES_2",
          "United States of America/WI/CA_3/HOBBIES/HOBBIES_2",
          "United States of America/CA/CA_4/HOBBIES/HOBBIES_2",
          "United States of America/TX/CA_4/HOBBIES/HOBBIES_2",
          "United States of America/WI/CA_4/HOBBIES/HOBBIES_2",
          "United States of America/CA/TX_1/HOBBIES/HOBBIES_2",
          "United States of America/TX/TX_1/HOBBIES/HOBBIES_2",
          "United States of America/WI/TX_1/HOBBIES/HOBBIES_2",
          "United States of America/CA/TX_2/HOBBIES/HOBBIES_2",
          "United States of America/TX/TX_2/HOBBIES/HOBBIES_2",
          "United States of America/WI/TX_2/HOBBIES/HOBBIES_2",
          "United States of America/CA/TX_3/HOBBIES/HOBBIES_2",
          "United States of America/TX/TX_3/HOBBIES/HOBBIES_2",
          "United States of America/WI/TX_3/HOBBIES/HOBBIES_2",
          "United States of America/CA/WI_1/HOBBIES/HOBBIES_2",
          "United States of America/TX/WI_1/HOBBIES/HOBBIES_2",
          "United States of America/WI/WI_1/HOBBIES/HOBBIES_2",
          "United States of America/CA/WI_2/HOBBIES/HOBBIES_2",
          "United States of America/TX/WI_2/HOBBIES/HOBBIES_2",
          "United States of America/WI/WI_2/HOBBIES/HOBBIES_2",
          "United States of America/CA/WI_3/HOBBIES/HOBBIES_2",
          "United States of America/TX/WI_3/HOBBIES/HOBBIES_2",
          "United States of America/WI/WI_3/HOBBIES/HOBBIES_2",
          "United States of America/CA/CA_1/HOUSEHOLD/HOBBIES_2",
          "United States of America/TX/CA_1/HOUSEHOLD/HOBBIES_2",
          "United States of America/WI/CA_1/HOUSEHOLD/HOBBIES_2",
          "United States of America/CA/CA_2/HOUSEHOLD/HOBBIES_2",
          "United States of America/TX/CA_2/HOUSEHOLD/HOBBIES_2",
          "United States of America/WI/CA_2/HOUSEHOLD/HOBBIES_2",
          "United States of America/CA/CA_3/HOUSEHOLD/HOBBIES_2",
          "United States of America/TX/CA_3/HOUSEHOLD/HOBBIES_2",
          "United States of America/WI/CA_3/HOUSEHOLD/HOBBIES_2",
          "United States of America/CA/CA_4/HOUSEHOLD/HOBBIES_2",
          "United States of America/TX/CA_4/HOUSEHOLD/HOBBIES_2",
          "United States of America/WI/CA_4/HOUSEHOLD/HOBBIES_2",
          "United States of America/CA/TX_1/HOUSEHOLD/HOBBIES_2",
          "United States of America/TX/TX_1/HOUSEHOLD/HOBBIES_2",
          "United States of America/WI/TX_1/HOUSEHOLD/HOBBIES_2",
          "United States of America/CA/TX_2/HOUSEHOLD/HOBBIES_2",
          "United States of America/TX/TX_2/HOUSEHOLD/HOBBIES_2",
          "United States of America/WI/TX_2/HOUSEHOLD/HOBBIES_2",
          "United States of America/CA/TX_3/HOUSEHOLD/HOBBIES_2",
          "United States of America/TX/TX_3/HOUSEHOLD/HOBBIES_2",
          "United States of America/WI/TX_3/HOUSEHOLD/HOBBIES_2",
          "United States of America/CA/WI_1/HOUSEHOLD/HOBBIES_2",
          "United States of America/TX/WI_1/HOUSEHOLD/HOBBIES_2",
          "United States of America/WI/WI_1/HOUSEHOLD/HOBBIES_2",
          "United States of America/CA/WI_2/HOUSEHOLD/HOBBIES_2",
          "United States of America/TX/WI_2/HOUSEHOLD/HOBBIES_2",
          "United States of America/WI/WI_2/HOUSEHOLD/HOBBIES_2",
          "United States of America/CA/WI_3/HOUSEHOLD/HOBBIES_2",
          "United States of America/TX/WI_3/HOUSEHOLD/HOBBIES_2",
          "United States of America/WI/WI_3/HOUSEHOLD/HOBBIES_2",
          "United States of America/CA/CA_1/FOODS/HOUSEHOLD_1",
          "United States of America/TX/CA_1/FOODS/HOUSEHOLD_1",
          "United States of America/WI/CA_1/FOODS/HOUSEHOLD_1",
          "United States of America/CA/CA_2/FOODS/HOUSEHOLD_1",
          "United States of America/TX/CA_2/FOODS/HOUSEHOLD_1",
          "United States of America/WI/CA_2/FOODS/HOUSEHOLD_1",
          "United States of America/CA/CA_3/FOODS/HOUSEHOLD_1",
          "United States of America/TX/CA_3/FOODS/HOUSEHOLD_1",
          "United States of America/WI/CA_3/FOODS/HOUSEHOLD_1",
          "United States of America/CA/CA_4/FOODS/HOUSEHOLD_1",
          "United States of America/TX/CA_4/FOODS/HOUSEHOLD_1",
          "United States of America/WI/CA_4/FOODS/HOUSEHOLD_1",
          "United States of America/CA/TX_1/FOODS/HOUSEHOLD_1",
          "United States of America/TX/TX_1/FOODS/HOUSEHOLD_1",
          "United States of America/WI/TX_1/FOODS/HOUSEHOLD_1",
          "United States of America/CA/TX_2/FOODS/HOUSEHOLD_1",
          "United States of America/TX/TX_2/FOODS/HOUSEHOLD_1",
          "United States of America/WI/TX_2/FOODS/HOUSEHOLD_1",
          "United States of America/CA/TX_3/FOODS/HOUSEHOLD_1",
          "United States of America/TX/TX_3/FOODS/HOUSEHOLD_1",
          "United States of America/WI/TX_3/FOODS/HOUSEHOLD_1",
          "United States of America/CA/WI_1/FOODS/HOUSEHOLD_1",
          "United States of America/TX/WI_1/FOODS/HOUSEHOLD_1",
          "United States of America/WI/WI_1/FOODS/HOUSEHOLD_1",
          "United States of America/CA/WI_2/FOODS/HOUSEHOLD_1",
          "United States of America/TX/WI_2/FOODS/HOUSEHOLD_1",
          "United States of America/WI/WI_2/FOODS/HOUSEHOLD_1",
          "United States of America/CA/WI_3/FOODS/HOUSEHOLD_1",
          "United States of America/TX/WI_3/FOODS/HOUSEHOLD_1",
          "United States of America/WI/WI_3/FOODS/HOUSEHOLD_1",
          "United States of America/CA/CA_1/HOBBIES/HOUSEHOLD_1",
          "United States of America/TX/CA_1/HOBBIES/HOUSEHOLD_1",
          "United States of America/WI/CA_1/HOBBIES/HOUSEHOLD_1",
          "United States of America/CA/CA_2/HOBBIES/HOUSEHOLD_1",
          "United States of America/TX/CA_2/HOBBIES/HOUSEHOLD_1",
          "United States of America/WI/CA_2/HOBBIES/HOUSEHOLD_1",
          "United States of America/CA/CA_3/HOBBIES/HOUSEHOLD_1",
          "United States of America/TX/CA_3/HOBBIES/HOUSEHOLD_1",
          "United States of America/WI/CA_3/HOBBIES/HOUSEHOLD_1",
          "United States of America/CA/CA_4/HOBBIES/HOUSEHOLD_1",
          "United States of America/TX/CA_4/HOBBIES/HOUSEHOLD_1",
          "United States of America/WI/CA_4/HOBBIES/HOUSEHOLD_1",
          "United States of America/CA/TX_1/HOBBIES/HOUSEHOLD_1",
          "United States of America/TX/TX_1/HOBBIES/HOUSEHOLD_1",
          "United States of America/WI/TX_1/HOBBIES/HOUSEHOLD_1",
          "United States of America/CA/TX_2/HOBBIES/HOUSEHOLD_1",
          "United States of America/TX/TX_2/HOBBIES/HOUSEHOLD_1",
          "United States of America/WI/TX_2/HOBBIES/HOUSEHOLD_1",
          "United States of America/CA/TX_3/HOBBIES/HOUSEHOLD_1",
          "United States of America/TX/TX_3/HOBBIES/HOUSEHOLD_1",
          "United States of America/WI/TX_3/HOBBIES/HOUSEHOLD_1",
          "United States of America/CA/WI_1/HOBBIES/HOUSEHOLD_1",
          "United States of America/TX/WI_1/HOBBIES/HOUSEHOLD_1",
          "United States of America/WI/WI_1/HOBBIES/HOUSEHOLD_1",
          "United States of America/CA/WI_2/HOBBIES/HOUSEHOLD_1",
          "United States of America/TX/WI_2/HOBBIES/HOUSEHOLD_1",
          "United States of America/WI/WI_2/HOBBIES/HOUSEHOLD_1",
          "United States of America/CA/WI_3/HOBBIES/HOUSEHOLD_1",
          "United States of America/TX/WI_3/HOBBIES/HOUSEHOLD_1",
          "United States of America/WI/WI_3/HOBBIES/HOUSEHOLD_1",
          "United States of America/CA/CA_1/HOUSEHOLD/HOUSEHOLD_1",
          "United States of America/TX/CA_1/HOUSEHOLD/HOUSEHOLD_1",
          "United States of America/WI/CA_1/HOUSEHOLD/HOUSEHOLD_1",
          "United States of America/CA/CA_2/HOUSEHOLD/HOUSEHOLD_1",
          "United States of America/TX/CA_2/HOUSEHOLD/HOUSEHOLD_1",
          "United States of America/WI/CA_2/HOUSEHOLD/HOUSEHOLD_1",
          "United States of America/CA/CA_3/HOUSEHOLD/HOUSEHOLD_1",
          "United States of America/TX/CA_3/HOUSEHOLD/HOUSEHOLD_1",
          "United States of America/WI/CA_3/HOUSEHOLD/HOUSEHOLD_1",
          "United States of America/CA/CA_4/HOUSEHOLD/HOUSEHOLD_1",
          "United States of America/TX/CA_4/HOUSEHOLD/HOUSEHOLD_1",
          "United States of America/WI/CA_4/HOUSEHOLD/HOUSEHOLD_1",
          "United States of America/CA/TX_1/HOUSEHOLD/HOUSEHOLD_1",
          "United States of America/TX/TX_1/HOUSEHOLD/HOUSEHOLD_1",
          "United States of America/WI/TX_1/HOUSEHOLD/HOUSEHOLD_1",
          "United States of America/CA/TX_2/HOUSEHOLD/HOUSEHOLD_1",
          "United States of America/TX/TX_2/HOUSEHOLD/HOUSEHOLD_1",
          "United States of America/WI/TX_2/HOUSEHOLD/HOUSEHOLD_1",
          "United States of America/CA/TX_3/HOUSEHOLD/HOUSEHOLD_1",
          "United States of America/TX/TX_3/HOUSEHOLD/HOUSEHOLD_1",
          "United States of America/WI/TX_3/HOUSEHOLD/HOUSEHOLD_1",
          "United States of America/CA/WI_1/HOUSEHOLD/HOUSEHOLD_1",
          "United States of America/TX/WI_1/HOUSEHOLD/HOUSEHOLD_1",
          "United States of America/WI/WI_1/HOUSEHOLD/HOUSEHOLD_1",
          "United States of America/CA/WI_2/HOUSEHOLD/HOUSEHOLD_1",
          "United States of America/TX/WI_2/HOUSEHOLD/HOUSEHOLD_1",
          "United States of America/WI/WI_2/HOUSEHOLD/HOUSEHOLD_1",
          "United States of America/CA/WI_3/HOUSEHOLD/HOUSEHOLD_1",
          "United States of America/TX/WI_3/HOUSEHOLD/HOUSEHOLD_1",
          "United States of America/WI/WI_3/HOUSEHOLD/HOUSEHOLD_1",
          "United States of America/CA/CA_1/FOODS/HOUSEHOLD_2",
          "United States of America/TX/CA_1/FOODS/HOUSEHOLD_2",
          "United States of America/WI/CA_1/FOODS/HOUSEHOLD_2",
          "United States of America/CA/CA_2/FOODS/HOUSEHOLD_2",
          "United States of America/TX/CA_2/FOODS/HOUSEHOLD_2",
          "United States of America/WI/CA_2/FOODS/HOUSEHOLD_2",
          "United States of America/CA/CA_3/FOODS/HOUSEHOLD_2",
          "United States of America/TX/CA_3/FOODS/HOUSEHOLD_2",
          "United States of America/WI/CA_3/FOODS/HOUSEHOLD_2",
          "United States of America/CA/CA_4/FOODS/HOUSEHOLD_2",
          "United States of America/TX/CA_4/FOODS/HOUSEHOLD_2",
          "United States of America/WI/CA_4/FOODS/HOUSEHOLD_2",
          "United States of America/CA/TX_1/FOODS/HOUSEHOLD_2",
          "United States of America/TX/TX_1/FOODS/HOUSEHOLD_2",
          "United States of America/WI/TX_1/FOODS/HOUSEHOLD_2",
          "United States of America/CA/TX_2/FOODS/HOUSEHOLD_2",
          "United States of America/TX/TX_2/FOODS/HOUSEHOLD_2",
          "United States of America/WI/TX_2/FOODS/HOUSEHOLD_2",
          "United States of America/CA/TX_3/FOODS/HOUSEHOLD_2",
          "United States of America/TX/TX_3/FOODS/HOUSEHOLD_2",
          "United States of America/WI/TX_3/FOODS/HOUSEHOLD_2",
          "United States of America/CA/WI_1/FOODS/HOUSEHOLD_2",
          "United States of America/TX/WI_1/FOODS/HOUSEHOLD_2",
          "United States of America/WI/WI_1/FOODS/HOUSEHOLD_2",
          "United States of America/CA/WI_2/FOODS/HOUSEHOLD_2",
          "United States of America/TX/WI_2/FOODS/HOUSEHOLD_2",
          "United States of America/WI/WI_2/FOODS/HOUSEHOLD_2",
          "United States of America/CA/WI_3/FOODS/HOUSEHOLD_2",
          "United States of America/TX/WI_3/FOODS/HOUSEHOLD_2",
          "United States of America/WI/WI_3/FOODS/HOUSEHOLD_2",
          "United States of America/CA/CA_1/HOBBIES/HOUSEHOLD_2",
          "United States of America/TX/CA_1/HOBBIES/HOUSEHOLD_2",
          "United States of America/WI/CA_1/HOBBIES/HOUSEHOLD_2",
          "United States of America/CA/CA_2/HOBBIES/HOUSEHOLD_2",
          "United States of America/TX/CA_2/HOBBIES/HOUSEHOLD_2",
          "United States of America/WI/CA_2/HOBBIES/HOUSEHOLD_2",
          "United States of America/CA/CA_3/HOBBIES/HOUSEHOLD_2",
          "United States of America/TX/CA_3/HOBBIES/HOUSEHOLD_2",
          "United States of America/WI/CA_3/HOBBIES/HOUSEHOLD_2",
          "United States of America/CA/CA_4/HOBBIES/HOUSEHOLD_2",
          "United States of America/TX/CA_4/HOBBIES/HOUSEHOLD_2",
          "United States of America/WI/CA_4/HOBBIES/HOUSEHOLD_2",
          "United States of America/CA/TX_1/HOBBIES/HOUSEHOLD_2",
          "United States of America/TX/TX_1/HOBBIES/HOUSEHOLD_2",
          "United States of America/WI/TX_1/HOBBIES/HOUSEHOLD_2",
          "United States of America/CA/TX_2/HOBBIES/HOUSEHOLD_2",
          "United States of America/TX/TX_2/HOBBIES/HOUSEHOLD_2",
          "United States of America/WI/TX_2/HOBBIES/HOUSEHOLD_2",
          "United States of America/CA/TX_3/HOBBIES/HOUSEHOLD_2",
          "United States of America/TX/TX_3/HOBBIES/HOUSEHOLD_2",
          "United States of America/WI/TX_3/HOBBIES/HOUSEHOLD_2",
          "United States of America/CA/WI_1/HOBBIES/HOUSEHOLD_2",
          "United States of America/TX/WI_1/HOBBIES/HOUSEHOLD_2",
          "United States of America/WI/WI_1/HOBBIES/HOUSEHOLD_2",
          "United States of America/CA/WI_2/HOBBIES/HOUSEHOLD_2",
          "United States of America/TX/WI_2/HOBBIES/HOUSEHOLD_2",
          "United States of America/WI/WI_2/HOBBIES/HOUSEHOLD_2",
          "United States of America/CA/WI_3/HOBBIES/HOUSEHOLD_2",
          "United States of America/TX/WI_3/HOBBIES/HOUSEHOLD_2",
          "United States of America/WI/WI_3/HOBBIES/HOUSEHOLD_2",
          "United States of America/CA/CA_1/HOUSEHOLD/HOUSEHOLD_2",
          "United States of America/TX/CA_1/HOUSEHOLD/HOUSEHOLD_2",
          "United States of America/WI/CA_1/HOUSEHOLD/HOUSEHOLD_2",
          "United States of America/CA/CA_2/HOUSEHOLD/HOUSEHOLD_2",
          "United States of America/TX/CA_2/HOUSEHOLD/HOUSEHOLD_2",
          "United States of America/WI/CA_2/HOUSEHOLD/HOUSEHOLD_2",
          "United States of America/CA/CA_3/HOUSEHOLD/HOUSEHOLD_2",
          "United States of America/TX/CA_3/HOUSEHOLD/HOUSEHOLD_2",
          "United States of America/WI/CA_3/HOUSEHOLD/HOUSEHOLD_2",
          "United States of America/CA/CA_4/HOUSEHOLD/HOUSEHOLD_2",
          "United States of America/TX/CA_4/HOUSEHOLD/HOUSEHOLD_2",
          "United States of America/WI/CA_4/HOUSEHOLD/HOUSEHOLD_2",
          "United States of America/CA/TX_1/HOUSEHOLD/HOUSEHOLD_2",
          "United States of America/TX/TX_1/HOUSEHOLD/HOUSEHOLD_2",
          "United States of America/WI/TX_1/HOUSEHOLD/HOUSEHOLD_2",
          "United States of America/CA/TX_2/HOUSEHOLD/HOUSEHOLD_2",
          "United States of America/TX/TX_2/HOUSEHOLD/HOUSEHOLD_2",
          "United States of America/WI/TX_2/HOUSEHOLD/HOUSEHOLD_2",
          "United States of America/CA/TX_3/HOUSEHOLD/HOUSEHOLD_2",
          "United States of America/TX/TX_3/HOUSEHOLD/HOUSEHOLD_2",
          "United States of America/WI/TX_3/HOUSEHOLD/HOUSEHOLD_2",
          "United States of America/CA/WI_1/HOUSEHOLD/HOUSEHOLD_2",
          "United States of America/TX/WI_1/HOUSEHOLD/HOUSEHOLD_2",
          "United States of America/WI/WI_1/HOUSEHOLD/HOUSEHOLD_2",
          "United States of America/CA/WI_2/HOUSEHOLD/HOUSEHOLD_2",
          "United States of America/TX/WI_2/HOUSEHOLD/HOUSEHOLD_2",
          "United States of America/WI/WI_2/HOUSEHOLD/HOUSEHOLD_2",
          "United States of America/CA/WI_3/HOUSEHOLD/HOUSEHOLD_2",
          "United States of America/TX/WI_3/HOUSEHOLD/HOUSEHOLD_2",
          "United States of America/WI/WI_3/HOUSEHOLD/HOUSEHOLD_2",
          "United States of America/CA/CA_1/FOODS",
          "United States of America/TX/CA_1/FOODS",
          "United States of America/WI/CA_1/FOODS",
          "United States of America/CA/CA_2/FOODS",
          "United States of America/TX/CA_2/FOODS",
          "United States of America/WI/CA_2/FOODS",
          "United States of America/CA/CA_3/FOODS",
          "United States of America/TX/CA_3/FOODS",
          "United States of America/WI/CA_3/FOODS",
          "United States of America/CA/CA_4/FOODS",
          "United States of America/TX/CA_4/FOODS",
          "United States of America/WI/CA_4/FOODS",
          "United States of America/CA/TX_1/FOODS",
          "United States of America/TX/TX_1/FOODS",
          "United States of America/WI/TX_1/FOODS",
          "United States of America/CA/TX_2/FOODS",
          "United States of America/TX/TX_2/FOODS",
          "United States of America/WI/TX_2/FOODS",
          "United States of America/CA/TX_3/FOODS",
          "United States of America/TX/TX_3/FOODS",
          "United States of America/WI/TX_3/FOODS",
          "United States of America/CA/WI_1/FOODS",
          "United States of America/TX/WI_1/FOODS",
          "United States of America/WI/WI_1/FOODS",
          "United States of America/CA/WI_2/FOODS",
          "United States of America/TX/WI_2/FOODS",
          "United States of America/WI/WI_2/FOODS",
          "United States of America/CA/WI_3/FOODS",
          "United States of America/TX/WI_3/FOODS",
          "United States of America/WI/WI_3/FOODS",
          "United States of America/CA/CA_1/HOBBIES",
          "United States of America/TX/CA_1/HOBBIES",
          "United States of America/WI/CA_1/HOBBIES",
          "United States of America/CA/CA_2/HOBBIES",
          "United States of America/TX/CA_2/HOBBIES",
          "United States of America/WI/CA_2/HOBBIES",
          "United States of America/CA/CA_3/HOBBIES",
          "United States of America/TX/CA_3/HOBBIES",
          "United States of America/WI/CA_3/HOBBIES",
          "United States of America/CA/CA_4/HOBBIES",
          "United States of America/TX/CA_4/HOBBIES",
          "United States of America/WI/CA_4/HOBBIES",
          "United States of America/CA/TX_1/HOBBIES",
          "United States of America/TX/TX_1/HOBBIES",
          "United States of America/WI/TX_1/HOBBIES",
          "United States of America/CA/TX_2/HOBBIES",
          "United States of America/TX/TX_2/HOBBIES",
          "United States of America/WI/TX_2/HOBBIES",
          "United States of America/CA/TX_3/HOBBIES",
          "United States of America/TX/TX_3/HOBBIES",
          "United States of America/WI/TX_3/HOBBIES",
          "United States of America/CA/WI_1/HOBBIES",
          "United States of America/TX/WI_1/HOBBIES",
          "United States of America/WI/WI_1/HOBBIES",
          "United States of America/CA/WI_2/HOBBIES",
          "United States of America/TX/WI_2/HOBBIES",
          "United States of America/WI/WI_2/HOBBIES",
          "United States of America/CA/WI_3/HOBBIES",
          "United States of America/TX/WI_3/HOBBIES",
          "United States of America/WI/WI_3/HOBBIES",
          "United States of America/CA/CA_1/HOUSEHOLD",
          "United States of America/TX/CA_1/HOUSEHOLD",
          "United States of America/WI/CA_1/HOUSEHOLD",
          "United States of America/CA/CA_2/HOUSEHOLD",
          "United States of America/TX/CA_2/HOUSEHOLD",
          "United States of America/WI/CA_2/HOUSEHOLD",
          "United States of America/CA/CA_3/HOUSEHOLD",
          "United States of America/TX/CA_3/HOUSEHOLD",
          "United States of America/WI/CA_3/HOUSEHOLD",
          "United States of America/CA/CA_4/HOUSEHOLD",
          "United States of America/TX/CA_4/HOUSEHOLD",
          "United States of America/WI/CA_4/HOUSEHOLD",
          "United States of America/CA/TX_1/HOUSEHOLD",
          "United States of America/TX/TX_1/HOUSEHOLD",
          "United States of America/WI/TX_1/HOUSEHOLD",
          "United States of America/CA/TX_2/HOUSEHOLD",
          "United States of America/TX/TX_2/HOUSEHOLD",
          "United States of America/WI/TX_2/HOUSEHOLD",
          "United States of America/CA/TX_3/HOUSEHOLD",
          "United States of America/TX/TX_3/HOUSEHOLD",
          "United States of America/WI/TX_3/HOUSEHOLD",
          "United States of America/CA/WI_1/HOUSEHOLD",
          "United States of America/TX/WI_1/HOUSEHOLD",
          "United States of America/WI/WI_1/HOUSEHOLD",
          "United States of America/CA/WI_2/HOUSEHOLD",
          "United States of America/TX/WI_2/HOUSEHOLD",
          "United States of America/WI/WI_2/HOUSEHOLD",
          "United States of America/CA/WI_3/HOUSEHOLD",
          "United States of America/TX/WI_3/HOUSEHOLD",
          "United States of America/WI/WI_3/HOUSEHOLD",
          "United States of America/CA/CA_1",
          "United States of America/TX/CA_1",
          "United States of America/WI/CA_1",
          "United States of America/CA/CA_2",
          "United States of America/TX/CA_2",
          "United States of America/WI/CA_2",
          "United States of America/CA/CA_3",
          "United States of America/TX/CA_3",
          "United States of America/WI/CA_3",
          "United States of America/CA/CA_4",
          "United States of America/TX/CA_4",
          "United States of America/WI/CA_4",
          "United States of America/CA/TX_1",
          "United States of America/TX/TX_1",
          "United States of America/WI/TX_1",
          "United States of America/CA/TX_2",
          "United States of America/TX/TX_2",
          "United States of America/WI/TX_2",
          "United States of America/CA/TX_3",
          "United States of America/TX/TX_3",
          "United States of America/WI/TX_3",
          "United States of America/CA/WI_1",
          "United States of America/TX/WI_1",
          "United States of America/WI/WI_1",
          "United States of America/CA/WI_2",
          "United States of America/TX/WI_2",
          "United States of America/WI/WI_2",
          "United States of America/CA/WI_3",
          "United States of America/TX/WI_3",
          "United States of America/WI/WI_3",
          "United States of America/CA",
          "United States of America/TX",
          "United States of America/WI",
          "United States of America"
         ],
         "labels": [
          "FOODS_1",
          "FOODS_1",
          "FOODS_1",
          "FOODS_1",
          "FOODS_1",
          "FOODS_1",
          "FOODS_1",
          "FOODS_1",
          "FOODS_1",
          "FOODS_1",
          "FOODS_1",
          "FOODS_1",
          "FOODS_1",
          "FOODS_1",
          "FOODS_1",
          "FOODS_1",
          "FOODS_1",
          "FOODS_1",
          "FOODS_1",
          "FOODS_1",
          "FOODS_1",
          "FOODS_1",
          "FOODS_1",
          "FOODS_1",
          "FOODS_1",
          "FOODS_1",
          "FOODS_1",
          "FOODS_1",
          "FOODS_1",
          "FOODS_1",
          "FOODS_1",
          "FOODS_1",
          "FOODS_1",
          "FOODS_1",
          "FOODS_1",
          "FOODS_1",
          "FOODS_1",
          "FOODS_1",
          "FOODS_1",
          "FOODS_1",
          "FOODS_1",
          "FOODS_1",
          "FOODS_1",
          "FOODS_1",
          "FOODS_1",
          "FOODS_1",
          "FOODS_1",
          "FOODS_1",
          "FOODS_1",
          "FOODS_1",
          "FOODS_1",
          "FOODS_1",
          "FOODS_1",
          "FOODS_1",
          "FOODS_1",
          "FOODS_1",
          "FOODS_1",
          "FOODS_1",
          "FOODS_1",
          "FOODS_1",
          "FOODS_1",
          "FOODS_1",
          "FOODS_1",
          "FOODS_1",
          "FOODS_1",
          "FOODS_1",
          "FOODS_1",
          "FOODS_1",
          "FOODS_1",
          "FOODS_1",
          "FOODS_1",
          "FOODS_1",
          "FOODS_1",
          "FOODS_1",
          "FOODS_1",
          "FOODS_1",
          "FOODS_1",
          "FOODS_1",
          "FOODS_1",
          "FOODS_1",
          "FOODS_1",
          "FOODS_1",
          "FOODS_1",
          "FOODS_1",
          "FOODS_1",
          "FOODS_1",
          "FOODS_1",
          "FOODS_1",
          "FOODS_1",
          "FOODS_1",
          "FOODS_2",
          "FOODS_2",
          "FOODS_2",
          "FOODS_2",
          "FOODS_2",
          "FOODS_2",
          "FOODS_2",
          "FOODS_2",
          "FOODS_2",
          "FOODS_2",
          "FOODS_2",
          "FOODS_2",
          "FOODS_2",
          "FOODS_2",
          "FOODS_2",
          "FOODS_2",
          "FOODS_2",
          "FOODS_2",
          "FOODS_2",
          "FOODS_2",
          "FOODS_2",
          "FOODS_2",
          "FOODS_2",
          "FOODS_2",
          "FOODS_2",
          "FOODS_2",
          "FOODS_2",
          "FOODS_2",
          "FOODS_2",
          "FOODS_2",
          "FOODS_2",
          "FOODS_2",
          "FOODS_2",
          "FOODS_2",
          "FOODS_2",
          "FOODS_2",
          "FOODS_2",
          "FOODS_2",
          "FOODS_2",
          "FOODS_2",
          "FOODS_2",
          "FOODS_2",
          "FOODS_2",
          "FOODS_2",
          "FOODS_2",
          "FOODS_2",
          "FOODS_2",
          "FOODS_2",
          "FOODS_2",
          "FOODS_2",
          "FOODS_2",
          "FOODS_2",
          "FOODS_2",
          "FOODS_2",
          "FOODS_2",
          "FOODS_2",
          "FOODS_2",
          "FOODS_2",
          "FOODS_2",
          "FOODS_2",
          "FOODS_2",
          "FOODS_2",
          "FOODS_2",
          "FOODS_2",
          "FOODS_2",
          "FOODS_2",
          "FOODS_2",
          "FOODS_2",
          "FOODS_2",
          "FOODS_2",
          "FOODS_2",
          "FOODS_2",
          "FOODS_2",
          "FOODS_2",
          "FOODS_2",
          "FOODS_2",
          "FOODS_2",
          "FOODS_2",
          "FOODS_2",
          "FOODS_2",
          "FOODS_2",
          "FOODS_2",
          "FOODS_2",
          "FOODS_2",
          "FOODS_2",
          "FOODS_2",
          "FOODS_2",
          "FOODS_2",
          "FOODS_2",
          "FOODS_2",
          "FOODS_3",
          "FOODS_3",
          "FOODS_3",
          "FOODS_3",
          "FOODS_3",
          "FOODS_3",
          "FOODS_3",
          "FOODS_3",
          "FOODS_3",
          "FOODS_3",
          "FOODS_3",
          "FOODS_3",
          "FOODS_3",
          "FOODS_3",
          "FOODS_3",
          "FOODS_3",
          "FOODS_3",
          "FOODS_3",
          "FOODS_3",
          "FOODS_3",
          "FOODS_3",
          "FOODS_3",
          "FOODS_3",
          "FOODS_3",
          "FOODS_3",
          "FOODS_3",
          "FOODS_3",
          "FOODS_3",
          "FOODS_3",
          "FOODS_3",
          "FOODS_3",
          "FOODS_3",
          "FOODS_3",
          "FOODS_3",
          "FOODS_3",
          "FOODS_3",
          "FOODS_3",
          "FOODS_3",
          "FOODS_3",
          "FOODS_3",
          "FOODS_3",
          "FOODS_3",
          "FOODS_3",
          "FOODS_3",
          "FOODS_3",
          "FOODS_3",
          "FOODS_3",
          "FOODS_3",
          "FOODS_3",
          "FOODS_3",
          "FOODS_3",
          "FOODS_3",
          "FOODS_3",
          "FOODS_3",
          "FOODS_3",
          "FOODS_3",
          "FOODS_3",
          "FOODS_3",
          "FOODS_3",
          "FOODS_3",
          "FOODS_3",
          "FOODS_3",
          "FOODS_3",
          "FOODS_3",
          "FOODS_3",
          "FOODS_3",
          "FOODS_3",
          "FOODS_3",
          "FOODS_3",
          "FOODS_3",
          "FOODS_3",
          "FOODS_3",
          "FOODS_3",
          "FOODS_3",
          "FOODS_3",
          "FOODS_3",
          "FOODS_3",
          "FOODS_3",
          "FOODS_3",
          "FOODS_3",
          "FOODS_3",
          "FOODS_3",
          "FOODS_3",
          "FOODS_3",
          "FOODS_3",
          "FOODS_3",
          "FOODS_3",
          "FOODS_3",
          "FOODS_3",
          "FOODS_3",
          "HOBBIES_1",
          "HOBBIES_1",
          "HOBBIES_1",
          "HOBBIES_1",
          "HOBBIES_1",
          "HOBBIES_1",
          "HOBBIES_1",
          "HOBBIES_1",
          "HOBBIES_1",
          "HOBBIES_1",
          "HOBBIES_1",
          "HOBBIES_1",
          "HOBBIES_1",
          "HOBBIES_1",
          "HOBBIES_1",
          "HOBBIES_1",
          "HOBBIES_1",
          "HOBBIES_1",
          "HOBBIES_1",
          "HOBBIES_1",
          "HOBBIES_1",
          "HOBBIES_1",
          "HOBBIES_1",
          "HOBBIES_1",
          "HOBBIES_1",
          "HOBBIES_1",
          "HOBBIES_1",
          "HOBBIES_1",
          "HOBBIES_1",
          "HOBBIES_1",
          "HOBBIES_1",
          "HOBBIES_1",
          "HOBBIES_1",
          "HOBBIES_1",
          "HOBBIES_1",
          "HOBBIES_1",
          "HOBBIES_1",
          "HOBBIES_1",
          "HOBBIES_1",
          "HOBBIES_1",
          "HOBBIES_1",
          "HOBBIES_1",
          "HOBBIES_1",
          "HOBBIES_1",
          "HOBBIES_1",
          "HOBBIES_1",
          "HOBBIES_1",
          "HOBBIES_1",
          "HOBBIES_1",
          "HOBBIES_1",
          "HOBBIES_1",
          "HOBBIES_1",
          "HOBBIES_1",
          "HOBBIES_1",
          "HOBBIES_1",
          "HOBBIES_1",
          "HOBBIES_1",
          "HOBBIES_1",
          "HOBBIES_1",
          "HOBBIES_1",
          "HOBBIES_1",
          "HOBBIES_1",
          "HOBBIES_1",
          "HOBBIES_1",
          "HOBBIES_1",
          "HOBBIES_1",
          "HOBBIES_1",
          "HOBBIES_1",
          "HOBBIES_1",
          "HOBBIES_1",
          "HOBBIES_1",
          "HOBBIES_1",
          "HOBBIES_1",
          "HOBBIES_1",
          "HOBBIES_1",
          "HOBBIES_1",
          "HOBBIES_1",
          "HOBBIES_1",
          "HOBBIES_1",
          "HOBBIES_1",
          "HOBBIES_1",
          "HOBBIES_1",
          "HOBBIES_1",
          "HOBBIES_1",
          "HOBBIES_1",
          "HOBBIES_1",
          "HOBBIES_1",
          "HOBBIES_1",
          "HOBBIES_1",
          "HOBBIES_1",
          "HOBBIES_2",
          "HOBBIES_2",
          "HOBBIES_2",
          "HOBBIES_2",
          "HOBBIES_2",
          "HOBBIES_2",
          "HOBBIES_2",
          "HOBBIES_2",
          "HOBBIES_2",
          "HOBBIES_2",
          "HOBBIES_2",
          "HOBBIES_2",
          "HOBBIES_2",
          "HOBBIES_2",
          "HOBBIES_2",
          "HOBBIES_2",
          "HOBBIES_2",
          "HOBBIES_2",
          "HOBBIES_2",
          "HOBBIES_2",
          "HOBBIES_2",
          "HOBBIES_2",
          "HOBBIES_2",
          "HOBBIES_2",
          "HOBBIES_2",
          "HOBBIES_2",
          "HOBBIES_2",
          "HOBBIES_2",
          "HOBBIES_2",
          "HOBBIES_2",
          "HOBBIES_2",
          "HOBBIES_2",
          "HOBBIES_2",
          "HOBBIES_2",
          "HOBBIES_2",
          "HOBBIES_2",
          "HOBBIES_2",
          "HOBBIES_2",
          "HOBBIES_2",
          "HOBBIES_2",
          "HOBBIES_2",
          "HOBBIES_2",
          "HOBBIES_2",
          "HOBBIES_2",
          "HOBBIES_2",
          "HOBBIES_2",
          "HOBBIES_2",
          "HOBBIES_2",
          "HOBBIES_2",
          "HOBBIES_2",
          "HOBBIES_2",
          "HOBBIES_2",
          "HOBBIES_2",
          "HOBBIES_2",
          "HOBBIES_2",
          "HOBBIES_2",
          "HOBBIES_2",
          "HOBBIES_2",
          "HOBBIES_2",
          "HOBBIES_2",
          "HOBBIES_2",
          "HOBBIES_2",
          "HOBBIES_2",
          "HOBBIES_2",
          "HOBBIES_2",
          "HOBBIES_2",
          "HOBBIES_2",
          "HOBBIES_2",
          "HOBBIES_2",
          "HOBBIES_2",
          "HOBBIES_2",
          "HOBBIES_2",
          "HOBBIES_2",
          "HOBBIES_2",
          "HOBBIES_2",
          "HOBBIES_2",
          "HOBBIES_2",
          "HOBBIES_2",
          "HOBBIES_2",
          "HOBBIES_2",
          "HOBBIES_2",
          "HOBBIES_2",
          "HOBBIES_2",
          "HOBBIES_2",
          "HOBBIES_2",
          "HOBBIES_2",
          "HOBBIES_2",
          "HOBBIES_2",
          "HOBBIES_2",
          "HOBBIES_2",
          "HOUSEHOLD_1",
          "HOUSEHOLD_1",
          "HOUSEHOLD_1",
          "HOUSEHOLD_1",
          "HOUSEHOLD_1",
          "HOUSEHOLD_1",
          "HOUSEHOLD_1",
          "HOUSEHOLD_1",
          "HOUSEHOLD_1",
          "HOUSEHOLD_1",
          "HOUSEHOLD_1",
          "HOUSEHOLD_1",
          "HOUSEHOLD_1",
          "HOUSEHOLD_1",
          "HOUSEHOLD_1",
          "HOUSEHOLD_1",
          "HOUSEHOLD_1",
          "HOUSEHOLD_1",
          "HOUSEHOLD_1",
          "HOUSEHOLD_1",
          "HOUSEHOLD_1",
          "HOUSEHOLD_1",
          "HOUSEHOLD_1",
          "HOUSEHOLD_1",
          "HOUSEHOLD_1",
          "HOUSEHOLD_1",
          "HOUSEHOLD_1",
          "HOUSEHOLD_1",
          "HOUSEHOLD_1",
          "HOUSEHOLD_1",
          "HOUSEHOLD_1",
          "HOUSEHOLD_1",
          "HOUSEHOLD_1",
          "HOUSEHOLD_1",
          "HOUSEHOLD_1",
          "HOUSEHOLD_1",
          "HOUSEHOLD_1",
          "HOUSEHOLD_1",
          "HOUSEHOLD_1",
          "HOUSEHOLD_1",
          "HOUSEHOLD_1",
          "HOUSEHOLD_1",
          "HOUSEHOLD_1",
          "HOUSEHOLD_1",
          "HOUSEHOLD_1",
          "HOUSEHOLD_1",
          "HOUSEHOLD_1",
          "HOUSEHOLD_1",
          "HOUSEHOLD_1",
          "HOUSEHOLD_1",
          "HOUSEHOLD_1",
          "HOUSEHOLD_1",
          "HOUSEHOLD_1",
          "HOUSEHOLD_1",
          "HOUSEHOLD_1",
          "HOUSEHOLD_1",
          "HOUSEHOLD_1",
          "HOUSEHOLD_1",
          "HOUSEHOLD_1",
          "HOUSEHOLD_1",
          "HOUSEHOLD_1",
          "HOUSEHOLD_1",
          "HOUSEHOLD_1",
          "HOUSEHOLD_1",
          "HOUSEHOLD_1",
          "HOUSEHOLD_1",
          "HOUSEHOLD_1",
          "HOUSEHOLD_1",
          "HOUSEHOLD_1",
          "HOUSEHOLD_1",
          "HOUSEHOLD_1",
          "HOUSEHOLD_1",
          "HOUSEHOLD_1",
          "HOUSEHOLD_1",
          "HOUSEHOLD_1",
          "HOUSEHOLD_1",
          "HOUSEHOLD_1",
          "HOUSEHOLD_1",
          "HOUSEHOLD_1",
          "HOUSEHOLD_1",
          "HOUSEHOLD_1",
          "HOUSEHOLD_1",
          "HOUSEHOLD_1",
          "HOUSEHOLD_1",
          "HOUSEHOLD_1",
          "HOUSEHOLD_1",
          "HOUSEHOLD_1",
          "HOUSEHOLD_1",
          "HOUSEHOLD_1",
          "HOUSEHOLD_1",
          "HOUSEHOLD_2",
          "HOUSEHOLD_2",
          "HOUSEHOLD_2",
          "HOUSEHOLD_2",
          "HOUSEHOLD_2",
          "HOUSEHOLD_2",
          "HOUSEHOLD_2",
          "HOUSEHOLD_2",
          "HOUSEHOLD_2",
          "HOUSEHOLD_2",
          "HOUSEHOLD_2",
          "HOUSEHOLD_2",
          "HOUSEHOLD_2",
          "HOUSEHOLD_2",
          "HOUSEHOLD_2",
          "HOUSEHOLD_2",
          "HOUSEHOLD_2",
          "HOUSEHOLD_2",
          "HOUSEHOLD_2",
          "HOUSEHOLD_2",
          "HOUSEHOLD_2",
          "HOUSEHOLD_2",
          "HOUSEHOLD_2",
          "HOUSEHOLD_2",
          "HOUSEHOLD_2",
          "HOUSEHOLD_2",
          "HOUSEHOLD_2",
          "HOUSEHOLD_2",
          "HOUSEHOLD_2",
          "HOUSEHOLD_2",
          "HOUSEHOLD_2",
          "HOUSEHOLD_2",
          "HOUSEHOLD_2",
          "HOUSEHOLD_2",
          "HOUSEHOLD_2",
          "HOUSEHOLD_2",
          "HOUSEHOLD_2",
          "HOUSEHOLD_2",
          "HOUSEHOLD_2",
          "HOUSEHOLD_2",
          "HOUSEHOLD_2",
          "HOUSEHOLD_2",
          "HOUSEHOLD_2",
          "HOUSEHOLD_2",
          "HOUSEHOLD_2",
          "HOUSEHOLD_2",
          "HOUSEHOLD_2",
          "HOUSEHOLD_2",
          "HOUSEHOLD_2",
          "HOUSEHOLD_2",
          "HOUSEHOLD_2",
          "HOUSEHOLD_2",
          "HOUSEHOLD_2",
          "HOUSEHOLD_2",
          "HOUSEHOLD_2",
          "HOUSEHOLD_2",
          "HOUSEHOLD_2",
          "HOUSEHOLD_2",
          "HOUSEHOLD_2",
          "HOUSEHOLD_2",
          "HOUSEHOLD_2",
          "HOUSEHOLD_2",
          "HOUSEHOLD_2",
          "HOUSEHOLD_2",
          "HOUSEHOLD_2",
          "HOUSEHOLD_2",
          "HOUSEHOLD_2",
          "HOUSEHOLD_2",
          "HOUSEHOLD_2",
          "HOUSEHOLD_2",
          "HOUSEHOLD_2",
          "HOUSEHOLD_2",
          "HOUSEHOLD_2",
          "HOUSEHOLD_2",
          "HOUSEHOLD_2",
          "HOUSEHOLD_2",
          "HOUSEHOLD_2",
          "HOUSEHOLD_2",
          "HOUSEHOLD_2",
          "HOUSEHOLD_2",
          "HOUSEHOLD_2",
          "HOUSEHOLD_2",
          "HOUSEHOLD_2",
          "HOUSEHOLD_2",
          "HOUSEHOLD_2",
          "HOUSEHOLD_2",
          "HOUSEHOLD_2",
          "HOUSEHOLD_2",
          "HOUSEHOLD_2",
          "HOUSEHOLD_2",
          "FOODS",
          "FOODS",
          "FOODS",
          "FOODS",
          "FOODS",
          "FOODS",
          "FOODS",
          "FOODS",
          "FOODS",
          "FOODS",
          "FOODS",
          "FOODS",
          "FOODS",
          "FOODS",
          "FOODS",
          "FOODS",
          "FOODS",
          "FOODS",
          "FOODS",
          "FOODS",
          "FOODS",
          "FOODS",
          "FOODS",
          "FOODS",
          "FOODS",
          "FOODS",
          "FOODS",
          "FOODS",
          "FOODS",
          "FOODS",
          "HOBBIES",
          "HOBBIES",
          "HOBBIES",
          "HOBBIES",
          "HOBBIES",
          "HOBBIES",
          "HOBBIES",
          "HOBBIES",
          "HOBBIES",
          "HOBBIES",
          "HOBBIES",
          "HOBBIES",
          "HOBBIES",
          "HOBBIES",
          "HOBBIES",
          "HOBBIES",
          "HOBBIES",
          "HOBBIES",
          "HOBBIES",
          "HOBBIES",
          "HOBBIES",
          "HOBBIES",
          "HOBBIES",
          "HOBBIES",
          "HOBBIES",
          "HOBBIES",
          "HOBBIES",
          "HOBBIES",
          "HOBBIES",
          "HOBBIES",
          "HOUSEHOLD",
          "HOUSEHOLD",
          "HOUSEHOLD",
          "HOUSEHOLD",
          "HOUSEHOLD",
          "HOUSEHOLD",
          "HOUSEHOLD",
          "HOUSEHOLD",
          "HOUSEHOLD",
          "HOUSEHOLD",
          "HOUSEHOLD",
          "HOUSEHOLD",
          "HOUSEHOLD",
          "HOUSEHOLD",
          "HOUSEHOLD",
          "HOUSEHOLD",
          "HOUSEHOLD",
          "HOUSEHOLD",
          "HOUSEHOLD",
          "HOUSEHOLD",
          "HOUSEHOLD",
          "HOUSEHOLD",
          "HOUSEHOLD",
          "HOUSEHOLD",
          "HOUSEHOLD",
          "HOUSEHOLD",
          "HOUSEHOLD",
          "HOUSEHOLD",
          "HOUSEHOLD",
          "HOUSEHOLD",
          "CA_1",
          "CA_1",
          "CA_1",
          "CA_2",
          "CA_2",
          "CA_2",
          "CA_3",
          "CA_3",
          "CA_3",
          "CA_4",
          "CA_4",
          "CA_4",
          "TX_1",
          "TX_1",
          "TX_1",
          "TX_2",
          "TX_2",
          "TX_2",
          "TX_3",
          "TX_3",
          "TX_3",
          "WI_1",
          "WI_1",
          "WI_1",
          "WI_2",
          "WI_2",
          "WI_2",
          "WI_3",
          "WI_3",
          "WI_3",
          "CA",
          "TX",
          "WI",
          "United States of America"
         ],
         "marker": {
          "coloraxis": "coloraxis",
          "colors": [
           577436,
           null,
           null,
           732413,
           null,
           null,
           749971,
           null,
           null,
           350957,
           null,
           null,
           null,
           372880,
           null,
           null,
           516662,
           null,
           null,
           421005,
           null,
           null,
           null,
           516915,
           null,
           null,
           544124,
           null,
           null,
           408037,
           null,
           null,
           null,
           null,
           null,
           null,
           null,
           null,
           null,
           null,
           null,
           null,
           null,
           null,
           null,
           null,
           null,
           null,
           null,
           null,
           null,
           null,
           null,
           null,
           null,
           null,
           null,
           null,
           null,
           null,
           null,
           null,
           null,
           null,
           null,
           null,
           null,
           null,
           null,
           null,
           null,
           null,
           null,
           null,
           null,
           null,
           null,
           null,
           null,
           null,
           null,
           null,
           null,
           null,
           null,
           null,
           null,
           null,
           null,
           null,
           900391,
           null,
           null,
           348079,
           null,
           null,
           1221960,
           null,
           null,
           548175,
           null,
           null,
           null,
           640902,
           null,
           null,
           793367,
           null,
           null,
           768221,
           null,
           null,
           null,
           619575,
           null,
           null,
           1125611,
           null,
           null,
           828232,
           null,
           null,
           null,
           null,
           null,
           null,
           null,
           null,
           null,
           null,
           null,
           null,
           null,
           null,
           null,
           null,
           null,
           null,
           null,
           null,
           null,
           null,
           null,
           null,
           null,
           null,
           null,
           null,
           null,
           null,
           null,
           null,
           null,
           null,
           null,
           null,
           null,
           null,
           null,
           null,
           null,
           null,
           null,
           null,
           null,
           null,
           null,
           null,
           null,
           null,
           null,
           null,
           null,
           null,
           null,
           null,
           null,
           null,
           null,
           null,
           3993834,
           null,
           null,
           2486979,
           null,
           null,
           5599455,
           null,
           null,
           1971933,
           null,
           null,
           null,
           2824980,
           null,
           null,
           3778764,
           null,
           null,
           3049427,
           null,
           null,
           null,
           2380795,
           null,
           null,
           3212582,
           null,
           null,
           3578587,
           null,
           null,
           null,
           null,
           null,
           null,
           null,
           null,
           null,
           null,
           null,
           null,
           null,
           null,
           null,
           null,
           null,
           null,
           null,
           null,
           null,
           null,
           null,
           null,
           null,
           null,
           null,
           null,
           null,
           null,
           null,
           null,
           null,
           null,
           null,
           null,
           null,
           null,
           null,
           null,
           null,
           null,
           null,
           null,
           null,
           null,
           null,
           null,
           null,
           null,
           null,
           null,
           null,
           null,
           null,
           null,
           null,
           null,
           null,
           null,
           null,
           null,
           null,
           null,
           null,
           null,
           null,
           null,
           null,
           null,
           null,
           null,
           null,
           null,
           null,
           null,
           null,
           null,
           null,
           null,
           null,
           null,
           null,
           null,
           null,
           null,
           null,
           null,
           null,
           null,
           835578,
           null,
           null,
           589369,
           null,
           null,
           899816,
           null,
           null,
           552326,
           null,
           null,
           null,
           393135,
           null,
           null,
           570854,
           null,
           null,
           469823,
           null,
           null,
           null,
           619029,
           null,
           null,
           335890,
           null,
           null,
           432938,
           null,
           null,
           null,
           null,
           null,
           null,
           null,
           null,
           null,
           null,
           null,
           null,
           null,
           null,
           null,
           null,
           null,
           null,
           null,
           null,
           null,
           null,
           null,
           null,
           null,
           null,
           null,
           null,
           null,
           null,
           null,
           null,
           null,
           null,
           null,
           null,
           null,
           null,
           null,
           null,
           null,
           null,
           null,
           null,
           null,
           null,
           null,
           null,
           null,
           null,
           null,
           null,
           null,
           null,
           null,
           null,
           null,
           null,
           null,
           null,
           56505,
           null,
           null,
           60991,
           null,
           null,
           77541,
           null,
           null,
           23205,
           null,
           null,
           null,
           44298,
           null,
           null,
           76961,
           null,
           null,
           69059,
           null,
           null,
           null,
           48676,
           null,
           null,
           42728,
           null,
           null,
           41678,
           null,
           null,
           null,
           null,
           null,
           null,
           null,
           null,
           null,
           null,
           null,
           null,
           null,
           null,
           null,
           null,
           null,
           null,
           null,
           null,
           null,
           null,
           null,
           null,
           null,
           null,
           null,
           null,
           null,
           null,
           null,
           null,
           null,
           null,
           null,
           null,
           null,
           null,
           null,
           null,
           null,
           null,
           null,
           null,
           null,
           null,
           null,
           null,
           null,
           null,
           null,
           null,
           null,
           null,
           null,
           null,
           null,
           null,
           null,
           null,
           null,
           null,
           null,
           null,
           null,
           null,
           null,
           null,
           null,
           null,
           null,
           null,
           null,
           null,
           null,
           null,
           null,
           null,
           null,
           null,
           null,
           null,
           null,
           null,
           null,
           null,
           null,
           null,
           null,
           null,
           1121388,
           null,
           null,
           1130592,
           null,
           null,
           2185551,
           null,
           null,
           542699,
           null,
           null,
           null,
           1166973,
           null,
           null,
           1272374,
           null,
           null,
           1182841,
           null,
           null,
           null,
           839430,
           null,
           null,
           1241918,
           null,
           null,
           1035759,
           null,
           null,
           null,
           null,
           null,
           null,
           null,
           null,
           null,
           null,
           null,
           null,
           null,
           null,
           null,
           null,
           null,
           null,
           null,
           null,
           null,
           null,
           null,
           null,
           null,
           null,
           null,
           null,
           null,
           null,
           null,
           null,
           null,
           null,
           null,
           null,
           null,
           null,
           null,
           null,
           null,
           null,
           null,
           null,
           null,
           null,
           null,
           null,
           null,
           null,
           null,
           null,
           null,
           null,
           null,
           null,
           null,
           null,
           null,
           null,
           347116,
           null,
           null,
           469966,
           null,
           null,
           574716,
           null,
           null,
           192983,
           null,
           null,
           null,
           247351,
           null,
           null,
           314763,
           null,
           null,
           244027,
           null,
           null,
           null,
           237086,
           null,
           null,
           195135,
           null,
           null,
           217326,
           3124251.722928924,
           null,
           null,
           1918068.1046183696,
           null,
           null,
           4412605.438352503,
           null,
           null,
           1501946.6305928288,
           null,
           null,
           null,
           2222150.4923733226,
           null,
           null,
           2982127.2326520258,
           null,
           null,
           2374908.666313331,
           null,
           null,
           null,
           1796629.823820077,
           null,
           null,
           2434039.853909732,
           null,
           null,
           2836792.4930178598,
           786231.1120254506,
           null,
           null,
           539817.516824528,
           null,
           null,
           834578.8084978161,
           null,
           null,
           530992.2181446351,
           null,
           null,
           null,
           357808.946807854,
           null,
           null,
           512179.0709338314,
           null,
           null,
           418464.1476427121,
           null,
           null,
           null,
           577450.0053421796,
           null,
           null,
           302805.9259834451,
           null,
           null,
           398579.8361791427,
           938370.3170028819,
           null,
           null,
           936614.8003508777,
           null,
           null,
           1850158.5731586835,
           null,
           null,
           450962.0228441093,
           null,
           null,
           null,
           1006140.389281381,
           null,
           null,
           1082459.3857020536,
           null,
           null,
           1022282.3751110825,
           null,
           null,
           null,
           706773.0496304746,
           null,
           null,
           1099777.1042188422,
           null,
           null,
           893815.8994457679,
           2448113.2721591555,
           null,
           null,
           1494027.7061421985,
           null,
           null,
           3477948.302659561,
           null,
           null,
           1183458.758158592,
           null,
           null,
           null,
           1776609.9734247439,
           null,
           null,
           2351971.1313694017,
           null,
           null,
           1893909.6232167704,
           null,
           null,
           null,
           1418924.1411086484,
           null,
           null,
           2027301.3207031724,
           null,
           null,
           2287782.440358869,
           2475772.2872860665,
           2033733.565959023,
           1946403.9321958956,
           2202229.476692194
          ]
         },
         "name": "",
         "parents": [
          "United States of America/CA/CA_1/FOODS",
          "United States of America/TX/CA_1/FOODS",
          "United States of America/WI/CA_1/FOODS",
          "United States of America/CA/CA_2/FOODS",
          "United States of America/TX/CA_2/FOODS",
          "United States of America/WI/CA_2/FOODS",
          "United States of America/CA/CA_3/FOODS",
          "United States of America/TX/CA_3/FOODS",
          "United States of America/WI/CA_3/FOODS",
          "United States of America/CA/CA_4/FOODS",
          "United States of America/TX/CA_4/FOODS",
          "United States of America/WI/CA_4/FOODS",
          "United States of America/CA/TX_1/FOODS",
          "United States of America/TX/TX_1/FOODS",
          "United States of America/WI/TX_1/FOODS",
          "United States of America/CA/TX_2/FOODS",
          "United States of America/TX/TX_2/FOODS",
          "United States of America/WI/TX_2/FOODS",
          "United States of America/CA/TX_3/FOODS",
          "United States of America/TX/TX_3/FOODS",
          "United States of America/WI/TX_3/FOODS",
          "United States of America/CA/WI_1/FOODS",
          "United States of America/TX/WI_1/FOODS",
          "United States of America/WI/WI_1/FOODS",
          "United States of America/CA/WI_2/FOODS",
          "United States of America/TX/WI_2/FOODS",
          "United States of America/WI/WI_2/FOODS",
          "United States of America/CA/WI_3/FOODS",
          "United States of America/TX/WI_3/FOODS",
          "United States of America/WI/WI_3/FOODS",
          "United States of America/CA/CA_1/HOBBIES",
          "United States of America/TX/CA_1/HOBBIES",
          "United States of America/WI/CA_1/HOBBIES",
          "United States of America/CA/CA_2/HOBBIES",
          "United States of America/TX/CA_2/HOBBIES",
          "United States of America/WI/CA_2/HOBBIES",
          "United States of America/CA/CA_3/HOBBIES",
          "United States of America/TX/CA_3/HOBBIES",
          "United States of America/WI/CA_3/HOBBIES",
          "United States of America/CA/CA_4/HOBBIES",
          "United States of America/TX/CA_4/HOBBIES",
          "United States of America/WI/CA_4/HOBBIES",
          "United States of America/CA/TX_1/HOBBIES",
          "United States of America/TX/TX_1/HOBBIES",
          "United States of America/WI/TX_1/HOBBIES",
          "United States of America/CA/TX_2/HOBBIES",
          "United States of America/TX/TX_2/HOBBIES",
          "United States of America/WI/TX_2/HOBBIES",
          "United States of America/CA/TX_3/HOBBIES",
          "United States of America/TX/TX_3/HOBBIES",
          "United States of America/WI/TX_3/HOBBIES",
          "United States of America/CA/WI_1/HOBBIES",
          "United States of America/TX/WI_1/HOBBIES",
          "United States of America/WI/WI_1/HOBBIES",
          "United States of America/CA/WI_2/HOBBIES",
          "United States of America/TX/WI_2/HOBBIES",
          "United States of America/WI/WI_2/HOBBIES",
          "United States of America/CA/WI_3/HOBBIES",
          "United States of America/TX/WI_3/HOBBIES",
          "United States of America/WI/WI_3/HOBBIES",
          "United States of America/CA/CA_1/HOUSEHOLD",
          "United States of America/TX/CA_1/HOUSEHOLD",
          "United States of America/WI/CA_1/HOUSEHOLD",
          "United States of America/CA/CA_2/HOUSEHOLD",
          "United States of America/TX/CA_2/HOUSEHOLD",
          "United States of America/WI/CA_2/HOUSEHOLD",
          "United States of America/CA/CA_3/HOUSEHOLD",
          "United States of America/TX/CA_3/HOUSEHOLD",
          "United States of America/WI/CA_3/HOUSEHOLD",
          "United States of America/CA/CA_4/HOUSEHOLD",
          "United States of America/TX/CA_4/HOUSEHOLD",
          "United States of America/WI/CA_4/HOUSEHOLD",
          "United States of America/CA/TX_1/HOUSEHOLD",
          "United States of America/TX/TX_1/HOUSEHOLD",
          "United States of America/WI/TX_1/HOUSEHOLD",
          "United States of America/CA/TX_2/HOUSEHOLD",
          "United States of America/TX/TX_2/HOUSEHOLD",
          "United States of America/WI/TX_2/HOUSEHOLD",
          "United States of America/CA/TX_3/HOUSEHOLD",
          "United States of America/TX/TX_3/HOUSEHOLD",
          "United States of America/WI/TX_3/HOUSEHOLD",
          "United States of America/CA/WI_1/HOUSEHOLD",
          "United States of America/TX/WI_1/HOUSEHOLD",
          "United States of America/WI/WI_1/HOUSEHOLD",
          "United States of America/CA/WI_2/HOUSEHOLD",
          "United States of America/TX/WI_2/HOUSEHOLD",
          "United States of America/WI/WI_2/HOUSEHOLD",
          "United States of America/CA/WI_3/HOUSEHOLD",
          "United States of America/TX/WI_3/HOUSEHOLD",
          "United States of America/WI/WI_3/HOUSEHOLD",
          "United States of America/CA/CA_1/FOODS",
          "United States of America/TX/CA_1/FOODS",
          "United States of America/WI/CA_1/FOODS",
          "United States of America/CA/CA_2/FOODS",
          "United States of America/TX/CA_2/FOODS",
          "United States of America/WI/CA_2/FOODS",
          "United States of America/CA/CA_3/FOODS",
          "United States of America/TX/CA_3/FOODS",
          "United States of America/WI/CA_3/FOODS",
          "United States of America/CA/CA_4/FOODS",
          "United States of America/TX/CA_4/FOODS",
          "United States of America/WI/CA_4/FOODS",
          "United States of America/CA/TX_1/FOODS",
          "United States of America/TX/TX_1/FOODS",
          "United States of America/WI/TX_1/FOODS",
          "United States of America/CA/TX_2/FOODS",
          "United States of America/TX/TX_2/FOODS",
          "United States of America/WI/TX_2/FOODS",
          "United States of America/CA/TX_3/FOODS",
          "United States of America/TX/TX_3/FOODS",
          "United States of America/WI/TX_3/FOODS",
          "United States of America/CA/WI_1/FOODS",
          "United States of America/TX/WI_1/FOODS",
          "United States of America/WI/WI_1/FOODS",
          "United States of America/CA/WI_2/FOODS",
          "United States of America/TX/WI_2/FOODS",
          "United States of America/WI/WI_2/FOODS",
          "United States of America/CA/WI_3/FOODS",
          "United States of America/TX/WI_3/FOODS",
          "United States of America/WI/WI_3/FOODS",
          "United States of America/CA/CA_1/HOBBIES",
          "United States of America/TX/CA_1/HOBBIES",
          "United States of America/WI/CA_1/HOBBIES",
          "United States of America/CA/CA_2/HOBBIES",
          "United States of America/TX/CA_2/HOBBIES",
          "United States of America/WI/CA_2/HOBBIES",
          "United States of America/CA/CA_3/HOBBIES",
          "United States of America/TX/CA_3/HOBBIES",
          "United States of America/WI/CA_3/HOBBIES",
          "United States of America/CA/CA_4/HOBBIES",
          "United States of America/TX/CA_4/HOBBIES",
          "United States of America/WI/CA_4/HOBBIES",
          "United States of America/CA/TX_1/HOBBIES",
          "United States of America/TX/TX_1/HOBBIES",
          "United States of America/WI/TX_1/HOBBIES",
          "United States of America/CA/TX_2/HOBBIES",
          "United States of America/TX/TX_2/HOBBIES",
          "United States of America/WI/TX_2/HOBBIES",
          "United States of America/CA/TX_3/HOBBIES",
          "United States of America/TX/TX_3/HOBBIES",
          "United States of America/WI/TX_3/HOBBIES",
          "United States of America/CA/WI_1/HOBBIES",
          "United States of America/TX/WI_1/HOBBIES",
          "United States of America/WI/WI_1/HOBBIES",
          "United States of America/CA/WI_2/HOBBIES",
          "United States of America/TX/WI_2/HOBBIES",
          "United States of America/WI/WI_2/HOBBIES",
          "United States of America/CA/WI_3/HOBBIES",
          "United States of America/TX/WI_3/HOBBIES",
          "United States of America/WI/WI_3/HOBBIES",
          "United States of America/CA/CA_1/HOUSEHOLD",
          "United States of America/TX/CA_1/HOUSEHOLD",
          "United States of America/WI/CA_1/HOUSEHOLD",
          "United States of America/CA/CA_2/HOUSEHOLD",
          "United States of America/TX/CA_2/HOUSEHOLD",
          "United States of America/WI/CA_2/HOUSEHOLD",
          "United States of America/CA/CA_3/HOUSEHOLD",
          "United States of America/TX/CA_3/HOUSEHOLD",
          "United States of America/WI/CA_3/HOUSEHOLD",
          "United States of America/CA/CA_4/HOUSEHOLD",
          "United States of America/TX/CA_4/HOUSEHOLD",
          "United States of America/WI/CA_4/HOUSEHOLD",
          "United States of America/CA/TX_1/HOUSEHOLD",
          "United States of America/TX/TX_1/HOUSEHOLD",
          "United States of America/WI/TX_1/HOUSEHOLD",
          "United States of America/CA/TX_2/HOUSEHOLD",
          "United States of America/TX/TX_2/HOUSEHOLD",
          "United States of America/WI/TX_2/HOUSEHOLD",
          "United States of America/CA/TX_3/HOUSEHOLD",
          "United States of America/TX/TX_3/HOUSEHOLD",
          "United States of America/WI/TX_3/HOUSEHOLD",
          "United States of America/CA/WI_1/HOUSEHOLD",
          "United States of America/TX/WI_1/HOUSEHOLD",
          "United States of America/WI/WI_1/HOUSEHOLD",
          "United States of America/CA/WI_2/HOUSEHOLD",
          "United States of America/TX/WI_2/HOUSEHOLD",
          "United States of America/WI/WI_2/HOUSEHOLD",
          "United States of America/CA/WI_3/HOUSEHOLD",
          "United States of America/TX/WI_3/HOUSEHOLD",
          "United States of America/WI/WI_3/HOUSEHOLD",
          "United States of America/CA/CA_1/FOODS",
          "United States of America/TX/CA_1/FOODS",
          "United States of America/WI/CA_1/FOODS",
          "United States of America/CA/CA_2/FOODS",
          "United States of America/TX/CA_2/FOODS",
          "United States of America/WI/CA_2/FOODS",
          "United States of America/CA/CA_3/FOODS",
          "United States of America/TX/CA_3/FOODS",
          "United States of America/WI/CA_3/FOODS",
          "United States of America/CA/CA_4/FOODS",
          "United States of America/TX/CA_4/FOODS",
          "United States of America/WI/CA_4/FOODS",
          "United States of America/CA/TX_1/FOODS",
          "United States of America/TX/TX_1/FOODS",
          "United States of America/WI/TX_1/FOODS",
          "United States of America/CA/TX_2/FOODS",
          "United States of America/TX/TX_2/FOODS",
          "United States of America/WI/TX_2/FOODS",
          "United States of America/CA/TX_3/FOODS",
          "United States of America/TX/TX_3/FOODS",
          "United States of America/WI/TX_3/FOODS",
          "United States of America/CA/WI_1/FOODS",
          "United States of America/TX/WI_1/FOODS",
          "United States of America/WI/WI_1/FOODS",
          "United States of America/CA/WI_2/FOODS",
          "United States of America/TX/WI_2/FOODS",
          "United States of America/WI/WI_2/FOODS",
          "United States of America/CA/WI_3/FOODS",
          "United States of America/TX/WI_3/FOODS",
          "United States of America/WI/WI_3/FOODS",
          "United States of America/CA/CA_1/HOBBIES",
          "United States of America/TX/CA_1/HOBBIES",
          "United States of America/WI/CA_1/HOBBIES",
          "United States of America/CA/CA_2/HOBBIES",
          "United States of America/TX/CA_2/HOBBIES",
          "United States of America/WI/CA_2/HOBBIES",
          "United States of America/CA/CA_3/HOBBIES",
          "United States of America/TX/CA_3/HOBBIES",
          "United States of America/WI/CA_3/HOBBIES",
          "United States of America/CA/CA_4/HOBBIES",
          "United States of America/TX/CA_4/HOBBIES",
          "United States of America/WI/CA_4/HOBBIES",
          "United States of America/CA/TX_1/HOBBIES",
          "United States of America/TX/TX_1/HOBBIES",
          "United States of America/WI/TX_1/HOBBIES",
          "United States of America/CA/TX_2/HOBBIES",
          "United States of America/TX/TX_2/HOBBIES",
          "United States of America/WI/TX_2/HOBBIES",
          "United States of America/CA/TX_3/HOBBIES",
          "United States of America/TX/TX_3/HOBBIES",
          "United States of America/WI/TX_3/HOBBIES",
          "United States of America/CA/WI_1/HOBBIES",
          "United States of America/TX/WI_1/HOBBIES",
          "United States of America/WI/WI_1/HOBBIES",
          "United States of America/CA/WI_2/HOBBIES",
          "United States of America/TX/WI_2/HOBBIES",
          "United States of America/WI/WI_2/HOBBIES",
          "United States of America/CA/WI_3/HOBBIES",
          "United States of America/TX/WI_3/HOBBIES",
          "United States of America/WI/WI_3/HOBBIES",
          "United States of America/CA/CA_1/HOUSEHOLD",
          "United States of America/TX/CA_1/HOUSEHOLD",
          "United States of America/WI/CA_1/HOUSEHOLD",
          "United States of America/CA/CA_2/HOUSEHOLD",
          "United States of America/TX/CA_2/HOUSEHOLD",
          "United States of America/WI/CA_2/HOUSEHOLD",
          "United States of America/CA/CA_3/HOUSEHOLD",
          "United States of America/TX/CA_3/HOUSEHOLD",
          "United States of America/WI/CA_3/HOUSEHOLD",
          "United States of America/CA/CA_4/HOUSEHOLD",
          "United States of America/TX/CA_4/HOUSEHOLD",
          "United States of America/WI/CA_4/HOUSEHOLD",
          "United States of America/CA/TX_1/HOUSEHOLD",
          "United States of America/TX/TX_1/HOUSEHOLD",
          "United States of America/WI/TX_1/HOUSEHOLD",
          "United States of America/CA/TX_2/HOUSEHOLD",
          "United States of America/TX/TX_2/HOUSEHOLD",
          "United States of America/WI/TX_2/HOUSEHOLD",
          "United States of America/CA/TX_3/HOUSEHOLD",
          "United States of America/TX/TX_3/HOUSEHOLD",
          "United States of America/WI/TX_3/HOUSEHOLD",
          "United States of America/CA/WI_1/HOUSEHOLD",
          "United States of America/TX/WI_1/HOUSEHOLD",
          "United States of America/WI/WI_1/HOUSEHOLD",
          "United States of America/CA/WI_2/HOUSEHOLD",
          "United States of America/TX/WI_2/HOUSEHOLD",
          "United States of America/WI/WI_2/HOUSEHOLD",
          "United States of America/CA/WI_3/HOUSEHOLD",
          "United States of America/TX/WI_3/HOUSEHOLD",
          "United States of America/WI/WI_3/HOUSEHOLD",
          "United States of America/CA/CA_1/FOODS",
          "United States of America/TX/CA_1/FOODS",
          "United States of America/WI/CA_1/FOODS",
          "United States of America/CA/CA_2/FOODS",
          "United States of America/TX/CA_2/FOODS",
          "United States of America/WI/CA_2/FOODS",
          "United States of America/CA/CA_3/FOODS",
          "United States of America/TX/CA_3/FOODS",
          "United States of America/WI/CA_3/FOODS",
          "United States of America/CA/CA_4/FOODS",
          "United States of America/TX/CA_4/FOODS",
          "United States of America/WI/CA_4/FOODS",
          "United States of America/CA/TX_1/FOODS",
          "United States of America/TX/TX_1/FOODS",
          "United States of America/WI/TX_1/FOODS",
          "United States of America/CA/TX_2/FOODS",
          "United States of America/TX/TX_2/FOODS",
          "United States of America/WI/TX_2/FOODS",
          "United States of America/CA/TX_3/FOODS",
          "United States of America/TX/TX_3/FOODS",
          "United States of America/WI/TX_3/FOODS",
          "United States of America/CA/WI_1/FOODS",
          "United States of America/TX/WI_1/FOODS",
          "United States of America/WI/WI_1/FOODS",
          "United States of America/CA/WI_2/FOODS",
          "United States of America/TX/WI_2/FOODS",
          "United States of America/WI/WI_2/FOODS",
          "United States of America/CA/WI_3/FOODS",
          "United States of America/TX/WI_3/FOODS",
          "United States of America/WI/WI_3/FOODS",
          "United States of America/CA/CA_1/HOBBIES",
          "United States of America/TX/CA_1/HOBBIES",
          "United States of America/WI/CA_1/HOBBIES",
          "United States of America/CA/CA_2/HOBBIES",
          "United States of America/TX/CA_2/HOBBIES",
          "United States of America/WI/CA_2/HOBBIES",
          "United States of America/CA/CA_3/HOBBIES",
          "United States of America/TX/CA_3/HOBBIES",
          "United States of America/WI/CA_3/HOBBIES",
          "United States of America/CA/CA_4/HOBBIES",
          "United States of America/TX/CA_4/HOBBIES",
          "United States of America/WI/CA_4/HOBBIES",
          "United States of America/CA/TX_1/HOBBIES",
          "United States of America/TX/TX_1/HOBBIES",
          "United States of America/WI/TX_1/HOBBIES",
          "United States of America/CA/TX_2/HOBBIES",
          "United States of America/TX/TX_2/HOBBIES",
          "United States of America/WI/TX_2/HOBBIES",
          "United States of America/CA/TX_3/HOBBIES",
          "United States of America/TX/TX_3/HOBBIES",
          "United States of America/WI/TX_3/HOBBIES",
          "United States of America/CA/WI_1/HOBBIES",
          "United States of America/TX/WI_1/HOBBIES",
          "United States of America/WI/WI_1/HOBBIES",
          "United States of America/CA/WI_2/HOBBIES",
          "United States of America/TX/WI_2/HOBBIES",
          "United States of America/WI/WI_2/HOBBIES",
          "United States of America/CA/WI_3/HOBBIES",
          "United States of America/TX/WI_3/HOBBIES",
          "United States of America/WI/WI_3/HOBBIES",
          "United States of America/CA/CA_1/HOUSEHOLD",
          "United States of America/TX/CA_1/HOUSEHOLD",
          "United States of America/WI/CA_1/HOUSEHOLD",
          "United States of America/CA/CA_2/HOUSEHOLD",
          "United States of America/TX/CA_2/HOUSEHOLD",
          "United States of America/WI/CA_2/HOUSEHOLD",
          "United States of America/CA/CA_3/HOUSEHOLD",
          "United States of America/TX/CA_3/HOUSEHOLD",
          "United States of America/WI/CA_3/HOUSEHOLD",
          "United States of America/CA/CA_4/HOUSEHOLD",
          "United States of America/TX/CA_4/HOUSEHOLD",
          "United States of America/WI/CA_4/HOUSEHOLD",
          "United States of America/CA/TX_1/HOUSEHOLD",
          "United States of America/TX/TX_1/HOUSEHOLD",
          "United States of America/WI/TX_1/HOUSEHOLD",
          "United States of America/CA/TX_2/HOUSEHOLD",
          "United States of America/TX/TX_2/HOUSEHOLD",
          "United States of America/WI/TX_2/HOUSEHOLD",
          "United States of America/CA/TX_3/HOUSEHOLD",
          "United States of America/TX/TX_3/HOUSEHOLD",
          "United States of America/WI/TX_3/HOUSEHOLD",
          "United States of America/CA/WI_1/HOUSEHOLD",
          "United States of America/TX/WI_1/HOUSEHOLD",
          "United States of America/WI/WI_1/HOUSEHOLD",
          "United States of America/CA/WI_2/HOUSEHOLD",
          "United States of America/TX/WI_2/HOUSEHOLD",
          "United States of America/WI/WI_2/HOUSEHOLD",
          "United States of America/CA/WI_3/HOUSEHOLD",
          "United States of America/TX/WI_3/HOUSEHOLD",
          "United States of America/WI/WI_3/HOUSEHOLD",
          "United States of America/CA/CA_1/FOODS",
          "United States of America/TX/CA_1/FOODS",
          "United States of America/WI/CA_1/FOODS",
          "United States of America/CA/CA_2/FOODS",
          "United States of America/TX/CA_2/FOODS",
          "United States of America/WI/CA_2/FOODS",
          "United States of America/CA/CA_3/FOODS",
          "United States of America/TX/CA_3/FOODS",
          "United States of America/WI/CA_3/FOODS",
          "United States of America/CA/CA_4/FOODS",
          "United States of America/TX/CA_4/FOODS",
          "United States of America/WI/CA_4/FOODS",
          "United States of America/CA/TX_1/FOODS",
          "United States of America/TX/TX_1/FOODS",
          "United States of America/WI/TX_1/FOODS",
          "United States of America/CA/TX_2/FOODS",
          "United States of America/TX/TX_2/FOODS",
          "United States of America/WI/TX_2/FOODS",
          "United States of America/CA/TX_3/FOODS",
          "United States of America/TX/TX_3/FOODS",
          "United States of America/WI/TX_3/FOODS",
          "United States of America/CA/WI_1/FOODS",
          "United States of America/TX/WI_1/FOODS",
          "United States of America/WI/WI_1/FOODS",
          "United States of America/CA/WI_2/FOODS",
          "United States of America/TX/WI_2/FOODS",
          "United States of America/WI/WI_2/FOODS",
          "United States of America/CA/WI_3/FOODS",
          "United States of America/TX/WI_3/FOODS",
          "United States of America/WI/WI_3/FOODS",
          "United States of America/CA/CA_1/HOBBIES",
          "United States of America/TX/CA_1/HOBBIES",
          "United States of America/WI/CA_1/HOBBIES",
          "United States of America/CA/CA_2/HOBBIES",
          "United States of America/TX/CA_2/HOBBIES",
          "United States of America/WI/CA_2/HOBBIES",
          "United States of America/CA/CA_3/HOBBIES",
          "United States of America/TX/CA_3/HOBBIES",
          "United States of America/WI/CA_3/HOBBIES",
          "United States of America/CA/CA_4/HOBBIES",
          "United States of America/TX/CA_4/HOBBIES",
          "United States of America/WI/CA_4/HOBBIES",
          "United States of America/CA/TX_1/HOBBIES",
          "United States of America/TX/TX_1/HOBBIES",
          "United States of America/WI/TX_1/HOBBIES",
          "United States of America/CA/TX_2/HOBBIES",
          "United States of America/TX/TX_2/HOBBIES",
          "United States of America/WI/TX_2/HOBBIES",
          "United States of America/CA/TX_3/HOBBIES",
          "United States of America/TX/TX_3/HOBBIES",
          "United States of America/WI/TX_3/HOBBIES",
          "United States of America/CA/WI_1/HOBBIES",
          "United States of America/TX/WI_1/HOBBIES",
          "United States of America/WI/WI_1/HOBBIES",
          "United States of America/CA/WI_2/HOBBIES",
          "United States of America/TX/WI_2/HOBBIES",
          "United States of America/WI/WI_2/HOBBIES",
          "United States of America/CA/WI_3/HOBBIES",
          "United States of America/TX/WI_3/HOBBIES",
          "United States of America/WI/WI_3/HOBBIES",
          "United States of America/CA/CA_1/HOUSEHOLD",
          "United States of America/TX/CA_1/HOUSEHOLD",
          "United States of America/WI/CA_1/HOUSEHOLD",
          "United States of America/CA/CA_2/HOUSEHOLD",
          "United States of America/TX/CA_2/HOUSEHOLD",
          "United States of America/WI/CA_2/HOUSEHOLD",
          "United States of America/CA/CA_3/HOUSEHOLD",
          "United States of America/TX/CA_3/HOUSEHOLD",
          "United States of America/WI/CA_3/HOUSEHOLD",
          "United States of America/CA/CA_4/HOUSEHOLD",
          "United States of America/TX/CA_4/HOUSEHOLD",
          "United States of America/WI/CA_4/HOUSEHOLD",
          "United States of America/CA/TX_1/HOUSEHOLD",
          "United States of America/TX/TX_1/HOUSEHOLD",
          "United States of America/WI/TX_1/HOUSEHOLD",
          "United States of America/CA/TX_2/HOUSEHOLD",
          "United States of America/TX/TX_2/HOUSEHOLD",
          "United States of America/WI/TX_2/HOUSEHOLD",
          "United States of America/CA/TX_3/HOUSEHOLD",
          "United States of America/TX/TX_3/HOUSEHOLD",
          "United States of America/WI/TX_3/HOUSEHOLD",
          "United States of America/CA/WI_1/HOUSEHOLD",
          "United States of America/TX/WI_1/HOUSEHOLD",
          "United States of America/WI/WI_1/HOUSEHOLD",
          "United States of America/CA/WI_2/HOUSEHOLD",
          "United States of America/TX/WI_2/HOUSEHOLD",
          "United States of America/WI/WI_2/HOUSEHOLD",
          "United States of America/CA/WI_3/HOUSEHOLD",
          "United States of America/TX/WI_3/HOUSEHOLD",
          "United States of America/WI/WI_3/HOUSEHOLD",
          "United States of America/CA/CA_1/FOODS",
          "United States of America/TX/CA_1/FOODS",
          "United States of America/WI/CA_1/FOODS",
          "United States of America/CA/CA_2/FOODS",
          "United States of America/TX/CA_2/FOODS",
          "United States of America/WI/CA_2/FOODS",
          "United States of America/CA/CA_3/FOODS",
          "United States of America/TX/CA_3/FOODS",
          "United States of America/WI/CA_3/FOODS",
          "United States of America/CA/CA_4/FOODS",
          "United States of America/TX/CA_4/FOODS",
          "United States of America/WI/CA_4/FOODS",
          "United States of America/CA/TX_1/FOODS",
          "United States of America/TX/TX_1/FOODS",
          "United States of America/WI/TX_1/FOODS",
          "United States of America/CA/TX_2/FOODS",
          "United States of America/TX/TX_2/FOODS",
          "United States of America/WI/TX_2/FOODS",
          "United States of America/CA/TX_3/FOODS",
          "United States of America/TX/TX_3/FOODS",
          "United States of America/WI/TX_3/FOODS",
          "United States of America/CA/WI_1/FOODS",
          "United States of America/TX/WI_1/FOODS",
          "United States of America/WI/WI_1/FOODS",
          "United States of America/CA/WI_2/FOODS",
          "United States of America/TX/WI_2/FOODS",
          "United States of America/WI/WI_2/FOODS",
          "United States of America/CA/WI_3/FOODS",
          "United States of America/TX/WI_3/FOODS",
          "United States of America/WI/WI_3/FOODS",
          "United States of America/CA/CA_1/HOBBIES",
          "United States of America/TX/CA_1/HOBBIES",
          "United States of America/WI/CA_1/HOBBIES",
          "United States of America/CA/CA_2/HOBBIES",
          "United States of America/TX/CA_2/HOBBIES",
          "United States of America/WI/CA_2/HOBBIES",
          "United States of America/CA/CA_3/HOBBIES",
          "United States of America/TX/CA_3/HOBBIES",
          "United States of America/WI/CA_3/HOBBIES",
          "United States of America/CA/CA_4/HOBBIES",
          "United States of America/TX/CA_4/HOBBIES",
          "United States of America/WI/CA_4/HOBBIES",
          "United States of America/CA/TX_1/HOBBIES",
          "United States of America/TX/TX_1/HOBBIES",
          "United States of America/WI/TX_1/HOBBIES",
          "United States of America/CA/TX_2/HOBBIES",
          "United States of America/TX/TX_2/HOBBIES",
          "United States of America/WI/TX_2/HOBBIES",
          "United States of America/CA/TX_3/HOBBIES",
          "United States of America/TX/TX_3/HOBBIES",
          "United States of America/WI/TX_3/HOBBIES",
          "United States of America/CA/WI_1/HOBBIES",
          "United States of America/TX/WI_1/HOBBIES",
          "United States of America/WI/WI_1/HOBBIES",
          "United States of America/CA/WI_2/HOBBIES",
          "United States of America/TX/WI_2/HOBBIES",
          "United States of America/WI/WI_2/HOBBIES",
          "United States of America/CA/WI_3/HOBBIES",
          "United States of America/TX/WI_3/HOBBIES",
          "United States of America/WI/WI_3/HOBBIES",
          "United States of America/CA/CA_1/HOUSEHOLD",
          "United States of America/TX/CA_1/HOUSEHOLD",
          "United States of America/WI/CA_1/HOUSEHOLD",
          "United States of America/CA/CA_2/HOUSEHOLD",
          "United States of America/TX/CA_2/HOUSEHOLD",
          "United States of America/WI/CA_2/HOUSEHOLD",
          "United States of America/CA/CA_3/HOUSEHOLD",
          "United States of America/TX/CA_3/HOUSEHOLD",
          "United States of America/WI/CA_3/HOUSEHOLD",
          "United States of America/CA/CA_4/HOUSEHOLD",
          "United States of America/TX/CA_4/HOUSEHOLD",
          "United States of America/WI/CA_4/HOUSEHOLD",
          "United States of America/CA/TX_1/HOUSEHOLD",
          "United States of America/TX/TX_1/HOUSEHOLD",
          "United States of America/WI/TX_1/HOUSEHOLD",
          "United States of America/CA/TX_2/HOUSEHOLD",
          "United States of America/TX/TX_2/HOUSEHOLD",
          "United States of America/WI/TX_2/HOUSEHOLD",
          "United States of America/CA/TX_3/HOUSEHOLD",
          "United States of America/TX/TX_3/HOUSEHOLD",
          "United States of America/WI/TX_3/HOUSEHOLD",
          "United States of America/CA/WI_1/HOUSEHOLD",
          "United States of America/TX/WI_1/HOUSEHOLD",
          "United States of America/WI/WI_1/HOUSEHOLD",
          "United States of America/CA/WI_2/HOUSEHOLD",
          "United States of America/TX/WI_2/HOUSEHOLD",
          "United States of America/WI/WI_2/HOUSEHOLD",
          "United States of America/CA/WI_3/HOUSEHOLD",
          "United States of America/TX/WI_3/HOUSEHOLD",
          "United States of America/WI/WI_3/HOUSEHOLD",
          "United States of America/CA/CA_1/FOODS",
          "United States of America/TX/CA_1/FOODS",
          "United States of America/WI/CA_1/FOODS",
          "United States of America/CA/CA_2/FOODS",
          "United States of America/TX/CA_2/FOODS",
          "United States of America/WI/CA_2/FOODS",
          "United States of America/CA/CA_3/FOODS",
          "United States of America/TX/CA_3/FOODS",
          "United States of America/WI/CA_3/FOODS",
          "United States of America/CA/CA_4/FOODS",
          "United States of America/TX/CA_4/FOODS",
          "United States of America/WI/CA_4/FOODS",
          "United States of America/CA/TX_1/FOODS",
          "United States of America/TX/TX_1/FOODS",
          "United States of America/WI/TX_1/FOODS",
          "United States of America/CA/TX_2/FOODS",
          "United States of America/TX/TX_2/FOODS",
          "United States of America/WI/TX_2/FOODS",
          "United States of America/CA/TX_3/FOODS",
          "United States of America/TX/TX_3/FOODS",
          "United States of America/WI/TX_3/FOODS",
          "United States of America/CA/WI_1/FOODS",
          "United States of America/TX/WI_1/FOODS",
          "United States of America/WI/WI_1/FOODS",
          "United States of America/CA/WI_2/FOODS",
          "United States of America/TX/WI_2/FOODS",
          "United States of America/WI/WI_2/FOODS",
          "United States of America/CA/WI_3/FOODS",
          "United States of America/TX/WI_3/FOODS",
          "United States of America/WI/WI_3/FOODS",
          "United States of America/CA/CA_1/HOBBIES",
          "United States of America/TX/CA_1/HOBBIES",
          "United States of America/WI/CA_1/HOBBIES",
          "United States of America/CA/CA_2/HOBBIES",
          "United States of America/TX/CA_2/HOBBIES",
          "United States of America/WI/CA_2/HOBBIES",
          "United States of America/CA/CA_3/HOBBIES",
          "United States of America/TX/CA_3/HOBBIES",
          "United States of America/WI/CA_3/HOBBIES",
          "United States of America/CA/CA_4/HOBBIES",
          "United States of America/TX/CA_4/HOBBIES",
          "United States of America/WI/CA_4/HOBBIES",
          "United States of America/CA/TX_1/HOBBIES",
          "United States of America/TX/TX_1/HOBBIES",
          "United States of America/WI/TX_1/HOBBIES",
          "United States of America/CA/TX_2/HOBBIES",
          "United States of America/TX/TX_2/HOBBIES",
          "United States of America/WI/TX_2/HOBBIES",
          "United States of America/CA/TX_3/HOBBIES",
          "United States of America/TX/TX_3/HOBBIES",
          "United States of America/WI/TX_3/HOBBIES",
          "United States of America/CA/WI_1/HOBBIES",
          "United States of America/TX/WI_1/HOBBIES",
          "United States of America/WI/WI_1/HOBBIES",
          "United States of America/CA/WI_2/HOBBIES",
          "United States of America/TX/WI_2/HOBBIES",
          "United States of America/WI/WI_2/HOBBIES",
          "United States of America/CA/WI_3/HOBBIES",
          "United States of America/TX/WI_3/HOBBIES",
          "United States of America/WI/WI_3/HOBBIES",
          "United States of America/CA/CA_1/HOUSEHOLD",
          "United States of America/TX/CA_1/HOUSEHOLD",
          "United States of America/WI/CA_1/HOUSEHOLD",
          "United States of America/CA/CA_2/HOUSEHOLD",
          "United States of America/TX/CA_2/HOUSEHOLD",
          "United States of America/WI/CA_2/HOUSEHOLD",
          "United States of America/CA/CA_3/HOUSEHOLD",
          "United States of America/TX/CA_3/HOUSEHOLD",
          "United States of America/WI/CA_3/HOUSEHOLD",
          "United States of America/CA/CA_4/HOUSEHOLD",
          "United States of America/TX/CA_4/HOUSEHOLD",
          "United States of America/WI/CA_4/HOUSEHOLD",
          "United States of America/CA/TX_1/HOUSEHOLD",
          "United States of America/TX/TX_1/HOUSEHOLD",
          "United States of America/WI/TX_1/HOUSEHOLD",
          "United States of America/CA/TX_2/HOUSEHOLD",
          "United States of America/TX/TX_2/HOUSEHOLD",
          "United States of America/WI/TX_2/HOUSEHOLD",
          "United States of America/CA/TX_3/HOUSEHOLD",
          "United States of America/TX/TX_3/HOUSEHOLD",
          "United States of America/WI/TX_3/HOUSEHOLD",
          "United States of America/CA/WI_1/HOUSEHOLD",
          "United States of America/TX/WI_1/HOUSEHOLD",
          "United States of America/WI/WI_1/HOUSEHOLD",
          "United States of America/CA/WI_2/HOUSEHOLD",
          "United States of America/TX/WI_2/HOUSEHOLD",
          "United States of America/WI/WI_2/HOUSEHOLD",
          "United States of America/CA/WI_3/HOUSEHOLD",
          "United States of America/TX/WI_3/HOUSEHOLD",
          "United States of America/WI/WI_3/HOUSEHOLD",
          "United States of America/CA/CA_1",
          "United States of America/TX/CA_1",
          "United States of America/WI/CA_1",
          "United States of America/CA/CA_2",
          "United States of America/TX/CA_2",
          "United States of America/WI/CA_2",
          "United States of America/CA/CA_3",
          "United States of America/TX/CA_3",
          "United States of America/WI/CA_3",
          "United States of America/CA/CA_4",
          "United States of America/TX/CA_4",
          "United States of America/WI/CA_4",
          "United States of America/CA/TX_1",
          "United States of America/TX/TX_1",
          "United States of America/WI/TX_1",
          "United States of America/CA/TX_2",
          "United States of America/TX/TX_2",
          "United States of America/WI/TX_2",
          "United States of America/CA/TX_3",
          "United States of America/TX/TX_3",
          "United States of America/WI/TX_3",
          "United States of America/CA/WI_1",
          "United States of America/TX/WI_1",
          "United States of America/WI/WI_1",
          "United States of America/CA/WI_2",
          "United States of America/TX/WI_2",
          "United States of America/WI/WI_2",
          "United States of America/CA/WI_3",
          "United States of America/TX/WI_3",
          "United States of America/WI/WI_3",
          "United States of America/CA/CA_1",
          "United States of America/TX/CA_1",
          "United States of America/WI/CA_1",
          "United States of America/CA/CA_2",
          "United States of America/TX/CA_2",
          "United States of America/WI/CA_2",
          "United States of America/CA/CA_3",
          "United States of America/TX/CA_3",
          "United States of America/WI/CA_3",
          "United States of America/CA/CA_4",
          "United States of America/TX/CA_4",
          "United States of America/WI/CA_4",
          "United States of America/CA/TX_1",
          "United States of America/TX/TX_1",
          "United States of America/WI/TX_1",
          "United States of America/CA/TX_2",
          "United States of America/TX/TX_2",
          "United States of America/WI/TX_2",
          "United States of America/CA/TX_3",
          "United States of America/TX/TX_3",
          "United States of America/WI/TX_3",
          "United States of America/CA/WI_1",
          "United States of America/TX/WI_1",
          "United States of America/WI/WI_1",
          "United States of America/CA/WI_2",
          "United States of America/TX/WI_2",
          "United States of America/WI/WI_2",
          "United States of America/CA/WI_3",
          "United States of America/TX/WI_3",
          "United States of America/WI/WI_3",
          "United States of America/CA/CA_1",
          "United States of America/TX/CA_1",
          "United States of America/WI/CA_1",
          "United States of America/CA/CA_2",
          "United States of America/TX/CA_2",
          "United States of America/WI/CA_2",
          "United States of America/CA/CA_3",
          "United States of America/TX/CA_3",
          "United States of America/WI/CA_3",
          "United States of America/CA/CA_4",
          "United States of America/TX/CA_4",
          "United States of America/WI/CA_4",
          "United States of America/CA/TX_1",
          "United States of America/TX/TX_1",
          "United States of America/WI/TX_1",
          "United States of America/CA/TX_2",
          "United States of America/TX/TX_2",
          "United States of America/WI/TX_2",
          "United States of America/CA/TX_3",
          "United States of America/TX/TX_3",
          "United States of America/WI/TX_3",
          "United States of America/CA/WI_1",
          "United States of America/TX/WI_1",
          "United States of America/WI/WI_1",
          "United States of America/CA/WI_2",
          "United States of America/TX/WI_2",
          "United States of America/WI/WI_2",
          "United States of America/CA/WI_3",
          "United States of America/TX/WI_3",
          "United States of America/WI/WI_3",
          "United States of America/CA",
          "United States of America/TX",
          "United States of America/WI",
          "United States of America/CA",
          "United States of America/TX",
          "United States of America/WI",
          "United States of America/CA",
          "United States of America/TX",
          "United States of America/WI",
          "United States of America/CA",
          "United States of America/TX",
          "United States of America/WI",
          "United States of America/CA",
          "United States of America/TX",
          "United States of America/WI",
          "United States of America/CA",
          "United States of America/TX",
          "United States of America/WI",
          "United States of America/CA",
          "United States of America/TX",
          "United States of America/WI",
          "United States of America/CA",
          "United States of America/TX",
          "United States of America/WI",
          "United States of America/CA",
          "United States of America/TX",
          "United States of America/WI",
          "United States of America/CA",
          "United States of America/TX",
          "United States of America/WI",
          "United States of America",
          "United States of America",
          "United States of America",
          ""
         ],
         "type": "treemap",
         "values": [
          577436,
          0,
          0,
          732413,
          0,
          0,
          749971,
          0,
          0,
          350957,
          0,
          0,
          0,
          372880,
          0,
          0,
          516662,
          0,
          0,
          421005,
          0,
          0,
          0,
          516915,
          0,
          0,
          544124,
          0,
          0,
          408037,
          0,
          0,
          0,
          0,
          0,
          0,
          0,
          0,
          0,
          0,
          0,
          0,
          0,
          0,
          0,
          0,
          0,
          0,
          0,
          0,
          0,
          0,
          0,
          0,
          0,
          0,
          0,
          0,
          0,
          0,
          0,
          0,
          0,
          0,
          0,
          0,
          0,
          0,
          0,
          0,
          0,
          0,
          0,
          0,
          0,
          0,
          0,
          0,
          0,
          0,
          0,
          0,
          0,
          0,
          0,
          0,
          0,
          0,
          0,
          0,
          900391,
          0,
          0,
          348079,
          0,
          0,
          1221960,
          0,
          0,
          548175,
          0,
          0,
          0,
          640902,
          0,
          0,
          793367,
          0,
          0,
          768221,
          0,
          0,
          0,
          619575,
          0,
          0,
          1125611,
          0,
          0,
          828232,
          0,
          0,
          0,
          0,
          0,
          0,
          0,
          0,
          0,
          0,
          0,
          0,
          0,
          0,
          0,
          0,
          0,
          0,
          0,
          0,
          0,
          0,
          0,
          0,
          0,
          0,
          0,
          0,
          0,
          0,
          0,
          0,
          0,
          0,
          0,
          0,
          0,
          0,
          0,
          0,
          0,
          0,
          0,
          0,
          0,
          0,
          0,
          0,
          0,
          0,
          0,
          0,
          0,
          0,
          0,
          0,
          0,
          0,
          0,
          0,
          3993834,
          0,
          0,
          2486979,
          0,
          0,
          5599455,
          0,
          0,
          1971933,
          0,
          0,
          0,
          2824980,
          0,
          0,
          3778764,
          0,
          0,
          3049427,
          0,
          0,
          0,
          2380795,
          0,
          0,
          3212582,
          0,
          0,
          3578587,
          0,
          0,
          0,
          0,
          0,
          0,
          0,
          0,
          0,
          0,
          0,
          0,
          0,
          0,
          0,
          0,
          0,
          0,
          0,
          0,
          0,
          0,
          0,
          0,
          0,
          0,
          0,
          0,
          0,
          0,
          0,
          0,
          0,
          0,
          0,
          0,
          0,
          0,
          0,
          0,
          0,
          0,
          0,
          0,
          0,
          0,
          0,
          0,
          0,
          0,
          0,
          0,
          0,
          0,
          0,
          0,
          0,
          0,
          0,
          0,
          0,
          0,
          0,
          0,
          0,
          0,
          0,
          0,
          0,
          0,
          0,
          0,
          0,
          0,
          0,
          0,
          0,
          0,
          0,
          0,
          0,
          0,
          0,
          0,
          0,
          0,
          0,
          0,
          0,
          0,
          835578,
          0,
          0,
          589369,
          0,
          0,
          899816,
          0,
          0,
          552326,
          0,
          0,
          0,
          393135,
          0,
          0,
          570854,
          0,
          0,
          469823,
          0,
          0,
          0,
          619029,
          0,
          0,
          335890,
          0,
          0,
          432938,
          0,
          0,
          0,
          0,
          0,
          0,
          0,
          0,
          0,
          0,
          0,
          0,
          0,
          0,
          0,
          0,
          0,
          0,
          0,
          0,
          0,
          0,
          0,
          0,
          0,
          0,
          0,
          0,
          0,
          0,
          0,
          0,
          0,
          0,
          0,
          0,
          0,
          0,
          0,
          0,
          0,
          0,
          0,
          0,
          0,
          0,
          0,
          0,
          0,
          0,
          0,
          0,
          0,
          0,
          0,
          0,
          0,
          0,
          0,
          0,
          56505,
          0,
          0,
          60991,
          0,
          0,
          77541,
          0,
          0,
          23205,
          0,
          0,
          0,
          44298,
          0,
          0,
          76961,
          0,
          0,
          69059,
          0,
          0,
          0,
          48676,
          0,
          0,
          42728,
          0,
          0,
          41678,
          0,
          0,
          0,
          0,
          0,
          0,
          0,
          0,
          0,
          0,
          0,
          0,
          0,
          0,
          0,
          0,
          0,
          0,
          0,
          0,
          0,
          0,
          0,
          0,
          0,
          0,
          0,
          0,
          0,
          0,
          0,
          0,
          0,
          0,
          0,
          0,
          0,
          0,
          0,
          0,
          0,
          0,
          0,
          0,
          0,
          0,
          0,
          0,
          0,
          0,
          0,
          0,
          0,
          0,
          0,
          0,
          0,
          0,
          0,
          0,
          0,
          0,
          0,
          0,
          0,
          0,
          0,
          0,
          0,
          0,
          0,
          0,
          0,
          0,
          0,
          0,
          0,
          0,
          0,
          0,
          0,
          0,
          0,
          0,
          0,
          0,
          0,
          0,
          0,
          0,
          1121388,
          0,
          0,
          1130592,
          0,
          0,
          2185551,
          0,
          0,
          542699,
          0,
          0,
          0,
          1166973,
          0,
          0,
          1272374,
          0,
          0,
          1182841,
          0,
          0,
          0,
          839430,
          0,
          0,
          1241918,
          0,
          0,
          1035759,
          0,
          0,
          0,
          0,
          0,
          0,
          0,
          0,
          0,
          0,
          0,
          0,
          0,
          0,
          0,
          0,
          0,
          0,
          0,
          0,
          0,
          0,
          0,
          0,
          0,
          0,
          0,
          0,
          0,
          0,
          0,
          0,
          0,
          0,
          0,
          0,
          0,
          0,
          0,
          0,
          0,
          0,
          0,
          0,
          0,
          0,
          0,
          0,
          0,
          0,
          0,
          0,
          0,
          0,
          0,
          0,
          0,
          0,
          0,
          0,
          347116,
          0,
          0,
          469966,
          0,
          0,
          574716,
          0,
          0,
          192983,
          0,
          0,
          0,
          247351,
          0,
          0,
          314763,
          0,
          0,
          244027,
          0,
          0,
          0,
          237086,
          0,
          0,
          195135,
          0,
          0,
          217326,
          5471661,
          0,
          0,
          3567471,
          0,
          0,
          7571386,
          0,
          0,
          2871065,
          0,
          0,
          0,
          3838762,
          0,
          0,
          5088793,
          0,
          0,
          4238653,
          0,
          0,
          0,
          3517285,
          0,
          0,
          4882317,
          0,
          0,
          4814856,
          892083,
          0,
          0,
          650360,
          0,
          0,
          977357,
          0,
          0,
          575531,
          0,
          0,
          0,
          437433,
          0,
          0,
          647815,
          0,
          0,
          538882,
          0,
          0,
          0,
          667705,
          0,
          0,
          378618,
          0,
          0,
          474616,
          1468504,
          0,
          0,
          1600558,
          0,
          0,
          2760267,
          0,
          0,
          735682,
          0,
          0,
          0,
          1414324,
          0,
          0,
          1587137,
          0,
          0,
          1426868,
          0,
          0,
          0,
          1076516,
          0,
          0,
          1437053,
          0,
          0,
          1253085,
          7832248,
          0,
          0,
          5818389,
          0,
          0,
          11309010,
          0,
          0,
          4182278,
          0,
          0,
          0,
          5690519,
          0,
          0,
          7323745,
          0,
          0,
          6204403,
          0,
          0,
          0,
          5261506,
          0,
          0,
          6697988,
          0,
          0,
          6542557,
          29141925,
          19218667,
          18502051,
          66862643
         ]
        }
       ],
       "layout": {
        "coloraxis": {
         "colorbar": {
          "title": {
           "text": "sold"
          }
         },
         "colorscale": [
          [
           0,
           "#0d0887"
          ],
          [
           0.1111111111111111,
           "#46039f"
          ],
          [
           0.2222222222222222,
           "#7201a8"
          ],
          [
           0.3333333333333333,
           "#9c179e"
          ],
          [
           0.4444444444444444,
           "#bd3786"
          ],
          [
           0.5555555555555556,
           "#d8576b"
          ],
          [
           0.6666666666666666,
           "#ed7953"
          ],
          [
           0.7777777777777778,
           "#fb9f3a"
          ],
          [
           0.8888888888888888,
           "#fdca26"
          ],
          [
           1,
           "#f0f921"
          ]
         ]
        },
        "legend": {
         "tracegroupgap": 0
        },
        "template": {
         "data": {
          "bar": [
           {
            "error_x": {
             "color": "rgb(36,36,36)"
            },
            "error_y": {
             "color": "rgb(36,36,36)"
            },
            "marker": {
             "line": {
              "color": "rgb(234,234,242)",
              "width": 0.5
             },
             "pattern": {
              "fillmode": "overlay",
              "size": 10,
              "solidity": 0.2
             }
            },
            "type": "bar"
           }
          ],
          "barpolar": [
           {
            "marker": {
             "line": {
              "color": "rgb(234,234,242)",
              "width": 0.5
             },
             "pattern": {
              "fillmode": "overlay",
              "size": 10,
              "solidity": 0.2
             }
            },
            "type": "barpolar"
           }
          ],
          "carpet": [
           {
            "aaxis": {
             "endlinecolor": "rgb(36,36,36)",
             "gridcolor": "white",
             "linecolor": "white",
             "minorgridcolor": "white",
             "startlinecolor": "rgb(36,36,36)"
            },
            "baxis": {
             "endlinecolor": "rgb(36,36,36)",
             "gridcolor": "white",
             "linecolor": "white",
             "minorgridcolor": "white",
             "startlinecolor": "rgb(36,36,36)"
            },
            "type": "carpet"
           }
          ],
          "choropleth": [
           {
            "colorbar": {
             "outlinewidth": 0,
             "tickcolor": "rgb(36,36,36)",
             "ticklen": 8,
             "ticks": "outside",
             "tickwidth": 2
            },
            "type": "choropleth"
           }
          ],
          "contour": [
           {
            "colorbar": {
             "outlinewidth": 0,
             "tickcolor": "rgb(36,36,36)",
             "ticklen": 8,
             "ticks": "outside",
             "tickwidth": 2
            },
            "colorscale": [
             [
              0,
              "rgb(2,4,25)"
             ],
             [
              0.06274509803921569,
              "rgb(24,15,41)"
             ],
             [
              0.12549019607843137,
              "rgb(47,23,57)"
             ],
             [
              0.18823529411764706,
              "rgb(71,28,72)"
             ],
             [
              0.25098039215686274,
              "rgb(97,30,82)"
             ],
             [
              0.3137254901960784,
              "rgb(123,30,89)"
             ],
             [
              0.3764705882352941,
              "rgb(150,27,91)"
             ],
             [
              0.4392156862745098,
              "rgb(177,22,88)"
             ],
             [
              0.5019607843137255,
              "rgb(203,26,79)"
             ],
             [
              0.5647058823529412,
              "rgb(223,47,67)"
             ],
             [
              0.6274509803921569,
              "rgb(236,76,61)"
             ],
             [
              0.6901960784313725,
              "rgb(242,107,73)"
             ],
             [
              0.7529411764705882,
              "rgb(244,135,95)"
             ],
             [
              0.8156862745098039,
              "rgb(245,162,122)"
             ],
             [
              0.8784313725490196,
              "rgb(246,188,153)"
             ],
             [
              0.9411764705882353,
              "rgb(247,212,187)"
             ],
             [
              1,
              "rgb(250,234,220)"
             ]
            ],
            "type": "contour"
           }
          ],
          "contourcarpet": [
           {
            "colorbar": {
             "outlinewidth": 0,
             "tickcolor": "rgb(36,36,36)",
             "ticklen": 8,
             "ticks": "outside",
             "tickwidth": 2
            },
            "type": "contourcarpet"
           }
          ],
          "heatmap": [
           {
            "colorbar": {
             "outlinewidth": 0,
             "tickcolor": "rgb(36,36,36)",
             "ticklen": 8,
             "ticks": "outside",
             "tickwidth": 2
            },
            "colorscale": [
             [
              0,
              "rgb(2,4,25)"
             ],
             [
              0.06274509803921569,
              "rgb(24,15,41)"
             ],
             [
              0.12549019607843137,
              "rgb(47,23,57)"
             ],
             [
              0.18823529411764706,
              "rgb(71,28,72)"
             ],
             [
              0.25098039215686274,
              "rgb(97,30,82)"
             ],
             [
              0.3137254901960784,
              "rgb(123,30,89)"
             ],
             [
              0.3764705882352941,
              "rgb(150,27,91)"
             ],
             [
              0.4392156862745098,
              "rgb(177,22,88)"
             ],
             [
              0.5019607843137255,
              "rgb(203,26,79)"
             ],
             [
              0.5647058823529412,
              "rgb(223,47,67)"
             ],
             [
              0.6274509803921569,
              "rgb(236,76,61)"
             ],
             [
              0.6901960784313725,
              "rgb(242,107,73)"
             ],
             [
              0.7529411764705882,
              "rgb(244,135,95)"
             ],
             [
              0.8156862745098039,
              "rgb(245,162,122)"
             ],
             [
              0.8784313725490196,
              "rgb(246,188,153)"
             ],
             [
              0.9411764705882353,
              "rgb(247,212,187)"
             ],
             [
              1,
              "rgb(250,234,220)"
             ]
            ],
            "type": "heatmap"
           }
          ],
          "heatmapgl": [
           {
            "colorbar": {
             "outlinewidth": 0,
             "tickcolor": "rgb(36,36,36)",
             "ticklen": 8,
             "ticks": "outside",
             "tickwidth": 2
            },
            "colorscale": [
             [
              0,
              "rgb(2,4,25)"
             ],
             [
              0.06274509803921569,
              "rgb(24,15,41)"
             ],
             [
              0.12549019607843137,
              "rgb(47,23,57)"
             ],
             [
              0.18823529411764706,
              "rgb(71,28,72)"
             ],
             [
              0.25098039215686274,
              "rgb(97,30,82)"
             ],
             [
              0.3137254901960784,
              "rgb(123,30,89)"
             ],
             [
              0.3764705882352941,
              "rgb(150,27,91)"
             ],
             [
              0.4392156862745098,
              "rgb(177,22,88)"
             ],
             [
              0.5019607843137255,
              "rgb(203,26,79)"
             ],
             [
              0.5647058823529412,
              "rgb(223,47,67)"
             ],
             [
              0.6274509803921569,
              "rgb(236,76,61)"
             ],
             [
              0.6901960784313725,
              "rgb(242,107,73)"
             ],
             [
              0.7529411764705882,
              "rgb(244,135,95)"
             ],
             [
              0.8156862745098039,
              "rgb(245,162,122)"
             ],
             [
              0.8784313725490196,
              "rgb(246,188,153)"
             ],
             [
              0.9411764705882353,
              "rgb(247,212,187)"
             ],
             [
              1,
              "rgb(250,234,220)"
             ]
            ],
            "type": "heatmapgl"
           }
          ],
          "histogram": [
           {
            "marker": {
             "pattern": {
              "fillmode": "overlay",
              "size": 10,
              "solidity": 0.2
             }
            },
            "type": "histogram"
           }
          ],
          "histogram2d": [
           {
            "colorbar": {
             "outlinewidth": 0,
             "tickcolor": "rgb(36,36,36)",
             "ticklen": 8,
             "ticks": "outside",
             "tickwidth": 2
            },
            "colorscale": [
             [
              0,
              "rgb(2,4,25)"
             ],
             [
              0.06274509803921569,
              "rgb(24,15,41)"
             ],
             [
              0.12549019607843137,
              "rgb(47,23,57)"
             ],
             [
              0.18823529411764706,
              "rgb(71,28,72)"
             ],
             [
              0.25098039215686274,
              "rgb(97,30,82)"
             ],
             [
              0.3137254901960784,
              "rgb(123,30,89)"
             ],
             [
              0.3764705882352941,
              "rgb(150,27,91)"
             ],
             [
              0.4392156862745098,
              "rgb(177,22,88)"
             ],
             [
              0.5019607843137255,
              "rgb(203,26,79)"
             ],
             [
              0.5647058823529412,
              "rgb(223,47,67)"
             ],
             [
              0.6274509803921569,
              "rgb(236,76,61)"
             ],
             [
              0.6901960784313725,
              "rgb(242,107,73)"
             ],
             [
              0.7529411764705882,
              "rgb(244,135,95)"
             ],
             [
              0.8156862745098039,
              "rgb(245,162,122)"
             ],
             [
              0.8784313725490196,
              "rgb(246,188,153)"
             ],
             [
              0.9411764705882353,
              "rgb(247,212,187)"
             ],
             [
              1,
              "rgb(250,234,220)"
             ]
            ],
            "type": "histogram2d"
           }
          ],
          "histogram2dcontour": [
           {
            "colorbar": {
             "outlinewidth": 0,
             "tickcolor": "rgb(36,36,36)",
             "ticklen": 8,
             "ticks": "outside",
             "tickwidth": 2
            },
            "colorscale": [
             [
              0,
              "rgb(2,4,25)"
             ],
             [
              0.06274509803921569,
              "rgb(24,15,41)"
             ],
             [
              0.12549019607843137,
              "rgb(47,23,57)"
             ],
             [
              0.18823529411764706,
              "rgb(71,28,72)"
             ],
             [
              0.25098039215686274,
              "rgb(97,30,82)"
             ],
             [
              0.3137254901960784,
              "rgb(123,30,89)"
             ],
             [
              0.3764705882352941,
              "rgb(150,27,91)"
             ],
             [
              0.4392156862745098,
              "rgb(177,22,88)"
             ],
             [
              0.5019607843137255,
              "rgb(203,26,79)"
             ],
             [
              0.5647058823529412,
              "rgb(223,47,67)"
             ],
             [
              0.6274509803921569,
              "rgb(236,76,61)"
             ],
             [
              0.6901960784313725,
              "rgb(242,107,73)"
             ],
             [
              0.7529411764705882,
              "rgb(244,135,95)"
             ],
             [
              0.8156862745098039,
              "rgb(245,162,122)"
             ],
             [
              0.8784313725490196,
              "rgb(246,188,153)"
             ],
             [
              0.9411764705882353,
              "rgb(247,212,187)"
             ],
             [
              1,
              "rgb(250,234,220)"
             ]
            ],
            "type": "histogram2dcontour"
           }
          ],
          "mesh3d": [
           {
            "colorbar": {
             "outlinewidth": 0,
             "tickcolor": "rgb(36,36,36)",
             "ticklen": 8,
             "ticks": "outside",
             "tickwidth": 2
            },
            "type": "mesh3d"
           }
          ],
          "parcoords": [
           {
            "line": {
             "colorbar": {
              "outlinewidth": 0,
              "tickcolor": "rgb(36,36,36)",
              "ticklen": 8,
              "ticks": "outside",
              "tickwidth": 2
             }
            },
            "type": "parcoords"
           }
          ],
          "pie": [
           {
            "automargin": true,
            "type": "pie"
           }
          ],
          "scatter": [
           {
            "fillpattern": {
             "fillmode": "overlay",
             "size": 10,
             "solidity": 0.2
            },
            "type": "scatter"
           }
          ],
          "scatter3d": [
           {
            "line": {
             "colorbar": {
              "outlinewidth": 0,
              "tickcolor": "rgb(36,36,36)",
              "ticklen": 8,
              "ticks": "outside",
              "tickwidth": 2
             }
            },
            "marker": {
             "colorbar": {
              "outlinewidth": 0,
              "tickcolor": "rgb(36,36,36)",
              "ticklen": 8,
              "ticks": "outside",
              "tickwidth": 2
             }
            },
            "type": "scatter3d"
           }
          ],
          "scattercarpet": [
           {
            "marker": {
             "colorbar": {
              "outlinewidth": 0,
              "tickcolor": "rgb(36,36,36)",
              "ticklen": 8,
              "ticks": "outside",
              "tickwidth": 2
             }
            },
            "type": "scattercarpet"
           }
          ],
          "scattergeo": [
           {
            "marker": {
             "colorbar": {
              "outlinewidth": 0,
              "tickcolor": "rgb(36,36,36)",
              "ticklen": 8,
              "ticks": "outside",
              "tickwidth": 2
             }
            },
            "type": "scattergeo"
           }
          ],
          "scattergl": [
           {
            "marker": {
             "colorbar": {
              "outlinewidth": 0,
              "tickcolor": "rgb(36,36,36)",
              "ticklen": 8,
              "ticks": "outside",
              "tickwidth": 2
             }
            },
            "type": "scattergl"
           }
          ],
          "scattermapbox": [
           {
            "marker": {
             "colorbar": {
              "outlinewidth": 0,
              "tickcolor": "rgb(36,36,36)",
              "ticklen": 8,
              "ticks": "outside",
              "tickwidth": 2
             }
            },
            "type": "scattermapbox"
           }
          ],
          "scatterpolar": [
           {
            "marker": {
             "colorbar": {
              "outlinewidth": 0,
              "tickcolor": "rgb(36,36,36)",
              "ticklen": 8,
              "ticks": "outside",
              "tickwidth": 2
             }
            },
            "type": "scatterpolar"
           }
          ],
          "scatterpolargl": [
           {
            "marker": {
             "colorbar": {
              "outlinewidth": 0,
              "tickcolor": "rgb(36,36,36)",
              "ticklen": 8,
              "ticks": "outside",
              "tickwidth": 2
             }
            },
            "type": "scatterpolargl"
           }
          ],
          "scatterternary": [
           {
            "marker": {
             "colorbar": {
              "outlinewidth": 0,
              "tickcolor": "rgb(36,36,36)",
              "ticklen": 8,
              "ticks": "outside",
              "tickwidth": 2
             }
            },
            "type": "scatterternary"
           }
          ],
          "surface": [
           {
            "colorbar": {
             "outlinewidth": 0,
             "tickcolor": "rgb(36,36,36)",
             "ticklen": 8,
             "ticks": "outside",
             "tickwidth": 2
            },
            "colorscale": [
             [
              0,
              "rgb(2,4,25)"
             ],
             [
              0.06274509803921569,
              "rgb(24,15,41)"
             ],
             [
              0.12549019607843137,
              "rgb(47,23,57)"
             ],
             [
              0.18823529411764706,
              "rgb(71,28,72)"
             ],
             [
              0.25098039215686274,
              "rgb(97,30,82)"
             ],
             [
              0.3137254901960784,
              "rgb(123,30,89)"
             ],
             [
              0.3764705882352941,
              "rgb(150,27,91)"
             ],
             [
              0.4392156862745098,
              "rgb(177,22,88)"
             ],
             [
              0.5019607843137255,
              "rgb(203,26,79)"
             ],
             [
              0.5647058823529412,
              "rgb(223,47,67)"
             ],
             [
              0.6274509803921569,
              "rgb(236,76,61)"
             ],
             [
              0.6901960784313725,
              "rgb(242,107,73)"
             ],
             [
              0.7529411764705882,
              "rgb(244,135,95)"
             ],
             [
              0.8156862745098039,
              "rgb(245,162,122)"
             ],
             [
              0.8784313725490196,
              "rgb(246,188,153)"
             ],
             [
              0.9411764705882353,
              "rgb(247,212,187)"
             ],
             [
              1,
              "rgb(250,234,220)"
             ]
            ],
            "type": "surface"
           }
          ],
          "table": [
           {
            "cells": {
             "fill": {
              "color": "rgb(231,231,240)"
             },
             "line": {
              "color": "white"
             }
            },
            "header": {
             "fill": {
              "color": "rgb(183,183,191)"
             },
             "line": {
              "color": "white"
             }
            },
            "type": "table"
           }
          ]
         },
         "layout": {
          "annotationdefaults": {
           "arrowcolor": "rgb(67,103,167)"
          },
          "autotypenumbers": "strict",
          "coloraxis": {
           "colorbar": {
            "outlinewidth": 0,
            "tickcolor": "rgb(36,36,36)",
            "ticklen": 8,
            "ticks": "outside",
            "tickwidth": 2
           }
          },
          "colorscale": {
           "sequential": [
            [
             0,
             "rgb(2,4,25)"
            ],
            [
             0.06274509803921569,
             "rgb(24,15,41)"
            ],
            [
             0.12549019607843137,
             "rgb(47,23,57)"
            ],
            [
             0.18823529411764706,
             "rgb(71,28,72)"
            ],
            [
             0.25098039215686274,
             "rgb(97,30,82)"
            ],
            [
             0.3137254901960784,
             "rgb(123,30,89)"
            ],
            [
             0.3764705882352941,
             "rgb(150,27,91)"
            ],
            [
             0.4392156862745098,
             "rgb(177,22,88)"
            ],
            [
             0.5019607843137255,
             "rgb(203,26,79)"
            ],
            [
             0.5647058823529412,
             "rgb(223,47,67)"
            ],
            [
             0.6274509803921569,
             "rgb(236,76,61)"
            ],
            [
             0.6901960784313725,
             "rgb(242,107,73)"
            ],
            [
             0.7529411764705882,
             "rgb(244,135,95)"
            ],
            [
             0.8156862745098039,
             "rgb(245,162,122)"
            ],
            [
             0.8784313725490196,
             "rgb(246,188,153)"
            ],
            [
             0.9411764705882353,
             "rgb(247,212,187)"
            ],
            [
             1,
             "rgb(250,234,220)"
            ]
           ],
           "sequentialminus": [
            [
             0,
             "rgb(2,4,25)"
            ],
            [
             0.06274509803921569,
             "rgb(24,15,41)"
            ],
            [
             0.12549019607843137,
             "rgb(47,23,57)"
            ],
            [
             0.18823529411764706,
             "rgb(71,28,72)"
            ],
            [
             0.25098039215686274,
             "rgb(97,30,82)"
            ],
            [
             0.3137254901960784,
             "rgb(123,30,89)"
            ],
            [
             0.3764705882352941,
             "rgb(150,27,91)"
            ],
            [
             0.4392156862745098,
             "rgb(177,22,88)"
            ],
            [
             0.5019607843137255,
             "rgb(203,26,79)"
            ],
            [
             0.5647058823529412,
             "rgb(223,47,67)"
            ],
            [
             0.6274509803921569,
             "rgb(236,76,61)"
            ],
            [
             0.6901960784313725,
             "rgb(242,107,73)"
            ],
            [
             0.7529411764705882,
             "rgb(244,135,95)"
            ],
            [
             0.8156862745098039,
             "rgb(245,162,122)"
            ],
            [
             0.8784313725490196,
             "rgb(246,188,153)"
            ],
            [
             0.9411764705882353,
             "rgb(247,212,187)"
            ],
            [
             1,
             "rgb(250,234,220)"
            ]
           ]
          },
          "colorway": [
           "rgb(76,114,176)",
           "rgb(221,132,82)",
           "rgb(85,168,104)",
           "rgb(196,78,82)",
           "rgb(129,114,179)",
           "rgb(147,120,96)",
           "rgb(218,139,195)",
           "rgb(140,140,140)",
           "rgb(204,185,116)",
           "rgb(100,181,205)"
          ],
          "font": {
           "color": "rgb(36,36,36)"
          },
          "geo": {
           "bgcolor": "white",
           "lakecolor": "white",
           "landcolor": "rgb(234,234,242)",
           "showlakes": true,
           "showland": true,
           "subunitcolor": "white"
          },
          "hoverlabel": {
           "align": "left"
          },
          "hovermode": "closest",
          "paper_bgcolor": "white",
          "plot_bgcolor": "rgb(234,234,242)",
          "polar": {
           "angularaxis": {
            "gridcolor": "white",
            "linecolor": "white",
            "showgrid": true,
            "ticks": ""
           },
           "bgcolor": "rgb(234,234,242)",
           "radialaxis": {
            "gridcolor": "white",
            "linecolor": "white",
            "showgrid": true,
            "ticks": ""
           }
          },
          "scene": {
           "xaxis": {
            "backgroundcolor": "rgb(234,234,242)",
            "gridcolor": "white",
            "gridwidth": 2,
            "linecolor": "white",
            "showbackground": true,
            "showgrid": true,
            "ticks": "",
            "zerolinecolor": "white"
           },
           "yaxis": {
            "backgroundcolor": "rgb(234,234,242)",
            "gridcolor": "white",
            "gridwidth": 2,
            "linecolor": "white",
            "showbackground": true,
            "showgrid": true,
            "ticks": "",
            "zerolinecolor": "white"
           },
           "zaxis": {
            "backgroundcolor": "rgb(234,234,242)",
            "gridcolor": "white",
            "gridwidth": 2,
            "linecolor": "white",
            "showbackground": true,
            "showgrid": true,
            "ticks": "",
            "zerolinecolor": "white"
           }
          },
          "shapedefaults": {
           "fillcolor": "rgb(67,103,167)",
           "line": {
            "width": 0
           },
           "opacity": 0.5
          },
          "ternary": {
           "aaxis": {
            "gridcolor": "white",
            "linecolor": "white",
            "showgrid": true,
            "ticks": ""
           },
           "baxis": {
            "gridcolor": "white",
            "linecolor": "white",
            "showgrid": true,
            "ticks": ""
           },
           "bgcolor": "rgb(234,234,242)",
           "caxis": {
            "gridcolor": "white",
            "linecolor": "white",
            "showgrid": true,
            "ticks": ""
           }
          },
          "xaxis": {
           "automargin": true,
           "gridcolor": "white",
           "linecolor": "white",
           "showgrid": true,
           "ticks": "",
           "title": {
            "standoff": 15
           },
           "zerolinecolor": "white"
          },
          "yaxis": {
           "automargin": true,
           "gridcolor": "white",
           "linecolor": "white",
           "showgrid": true,
           "ticks": "",
           "title": {
            "standoff": 15
           },
           "zerolinecolor": "white"
          }
         }
        },
        "title": {
         "text": "Sum of sales across whole USA/different States/Stores/Categories/Departments"
        }
       }
      }
     },
     "metadata": {},
     "output_type": "display_data"
    }
   ],
   "source": [
    "import plotly.express as px\n",
    "\n",
    "#for plotting the below graph its very much needed\n",
    "\n",
    "\n",
    "\n",
    "group = df.groupby(['state_id','store_id','cat_id','dept_id'],as_index=False)['sold'].sum().dropna()\n",
    "group['USA'] = 'United States of America'\n",
    "group.rename(columns={'state_id':'State','store_id':'Store','cat_id':'Category','dept_id':'Department','item_id':'sold'},inplace=True)\n",
    "\n",
    "group = group[group['sold']!=0]\n",
    "\n",
    "#only the code above will remove the zero divivsion error in vscode jupyter extension not to be used in jupyter notebook.\n",
    "\n",
    "fig = px.treemap(group, path=['USA','State', 'Store', 'Category', 'Department'], values='sold',\n",
    "                  color='sold',\n",
    "                  title='Sum of sales across whole USA/different States/Stores/Categories/Departments')\n",
    "fig.update_layout(template='seaborn')\n",
    "fig.show()"
   ]
  },
  {
   "cell_type": "markdown",
   "metadata": {},
   "source": [
    "# Exploratory Data Analysis to prove that Seasonality Exists"
   ]
  },
  {
   "cell_type": "code",
   "execution_count": 9,
   "metadata": {},
   "outputs": [],
   "source": [
    "#function to plot sales accross different states\n",
    "\n",
    "def sales(feat,param):\n",
    "    dataframe_sales_temp = df.loc[df[feat] == param]\n",
    "    dataframe_sales_temp['date'] = pd.to_datetime(dataframe_sales_temp['date'])\n",
    "    dataframe_sales_temp =dataframe_sales_temp.groupby('date')['sold'].sum().reset_index()\n",
    "    dataframe_sales_temp = dataframe_sales_temp.set_index('date')\n",
    "    return dataframe_sales_temp"
   ]
  },
  {
   "cell_type": "code",
   "execution_count": 11,
   "metadata": {},
   "outputs": [
    {
     "name": "stderr",
     "output_type": "stream",
     "text": [
      "C:\\Users\\sarth\\AppData\\Local\\Temp\\ipykernel_11792\\4137790735.py:3: SettingWithCopyWarning: \n",
      "A value is trying to be set on a copy of a slice from a DataFrame.\n",
      "Try using .loc[row_indexer,col_indexer] = value instead\n",
      "\n",
      "See the caveats in the documentation: https://pandas.pydata.org/pandas-docs/stable/user_guide/indexing.html#returning-a-view-versus-a-copy\n",
      "  sales_df['date'] = pd.to_datetime(sales_df['date'])\n"
     ]
    },
    {
     "data": {
      "image/png": "[encoded data removed]",
      "text/plain": [
       "<Figure size 1500x600 with 1 Axes>"
      ]
     },
     "metadata": {},
     "output_type": "display_data"
    }
   ],
   "source": [
    "CA = sales(\"state_id\",\"CA\") # create a dataframe for the state of california.\n",
    "y_ca = CA['sold'].resample('MS').mean() # taking monthly average for the sales and then plotting them to prove seasonality.\n",
    "\n",
    "y_ca.plot(figsize=(15, 6),color = \"blue\",title = (\"Sales for the state of CA\"))\n",
    "plt.ylabel = (\"Sales\")\n",
    "plt.show()"
   ]
  },
  {
   "cell_type": "markdown",
   "metadata": {},
   "source": [
    "So, from the sbove graph we can conclude that there is an upward trend year on year. Whereas, I can see that there is always dip in sale prices on the start and end of the year which proves that seasonality does exists. So, we can see this trend in the states of Texas and Wisconsin."
   ]
  },
  {
   "cell_type": "code",
   "execution_count": 14,
   "metadata": {},
   "outputs": [],
   "source": [
    "from itertools import cycle, islice\n",
    "import statsmodels.api as sm\n",
    "from pylab import rcParams\n",
    "def decompose(y):\n",
    "    rcParams['figure.figsize'] = 18, 8\n",
    "    decomposition = sm.tsa.seasonal_decompose(y, model='additive')\n",
    "    fig = decomposition.plot()\n",
    "    plt.show()"
   ]
  },
  {
   "cell_type": "code",
   "execution_count": 15,
   "metadata": {},
   "outputs": [
    {
     "data": {
      "image/png": "[encoded data removed]",
      "text/plain": [
       "<Figure size 1800x800 with 4 Axes>"
      ]
     },
     "metadata": {},
     "output_type": "display_data"
    }
   ],
   "source": [
    "decompose(y_ca)"
   ]
  },
  {
   "cell_type": "code",
   "execution_count": 17,
   "metadata": {},
   "outputs": [
    {
     "name": "stderr",
     "output_type": "stream",
     "text": [
      "C:\\Users\\sarth\\AppData\\Local\\Temp\\ipykernel_11792\\4137790735.py:3: SettingWithCopyWarning: \n",
      "A value is trying to be set on a copy of a slice from a DataFrame.\n",
      "Try using .loc[row_indexer,col_indexer] = value instead\n",
      "\n",
      "See the caveats in the documentation: https://pandas.pydata.org/pandas-docs/stable/user_guide/indexing.html#returning-a-view-versus-a-copy\n",
      "  sales_df['date'] = pd.to_datetime(sales_df['date'])\n"
     ]
    },
    {
     "data": {
      "image/png": "[encoded data removed]",
      "text/plain": [
       "<Figure size 1500x600 with 1 Axes>"
      ]
     },
     "metadata": {},
     "output_type": "display_data"
    }
   ],
   "source": [
    "WI = sales(\"state_id\",\"WI\")\n",
    "y_wi = WI['sold'].resample('MS').mean()\n",
    "\n",
    "y_wi.plot(figsize=(15, 6),color = \"green\",title = (\"Sales for the state of WI\"))\n",
    "plt.ylabel = (\"Sales\")\n",
    "plt.show()"
   ]
  },
  {
   "cell_type": "code",
   "execution_count": 20,
   "metadata": {},
   "outputs": [
    {
     "data": {
      "image/png": "[encoded data removed]",
      "text/plain": [
       "<Figure size 1800x800 with 4 Axes>"
      ]
     },
     "metadata": {},
     "output_type": "display_data"
    }
   ],
   "source": [
    "decompose(y_wi)"
   ]
  },
  {
   "cell_type": "code",
   "execution_count": 21,
   "metadata": {},
   "outputs": [
    {
     "name": "stderr",
     "output_type": "stream",
     "text": [
      "C:\\Users\\sarth\\AppData\\Local\\Temp\\ipykernel_11792\\4137790735.py:3: SettingWithCopyWarning: \n",
      "A value is trying to be set on a copy of a slice from a DataFrame.\n",
      "Try using .loc[row_indexer,col_indexer] = value instead\n",
      "\n",
      "See the caveats in the documentation: https://pandas.pydata.org/pandas-docs/stable/user_guide/indexing.html#returning-a-view-versus-a-copy\n",
      "  sales_df['date'] = pd.to_datetime(sales_df['date'])\n"
     ]
    },
    {
     "data": {
      "image/png": "[encoded data removed]",
      "text/plain": [
       "<Figure size 1500x600 with 1 Axes>"
      ]
     },
     "metadata": {},
     "output_type": "display_data"
    }
   ],
   "source": [
    "TX = sales(\"state_id\",\"TX\")\n",
    "y_tx = TX['sold'].resample('MS').mean()\n",
    "\n",
    "y_tx.plot(figsize=(15, 6),color = \"red\",title = (\"Sales for the state of TX\"))\n",
    "plt.show()"
   ]
  },
  {
   "cell_type": "code",
   "execution_count": 22,
   "metadata": {},
   "outputs": [
    {
     "data": {
      "image/png": "[encoded data removed]",
      "text/plain": [
       "<Figure size 1800x800 with 4 Axes>"
      ]
     },
     "metadata": {},
     "output_type": "display_data"
    }
   ],
   "source": [
    "decompose(y_tx)"
   ]
  },
  {
   "cell_type": "code",
   "execution_count": 23,
   "metadata": {},
   "outputs": [
    {
     "data": {
      "text/plain": [
       "55103"
      ]
     },
     "execution_count": 23,
     "metadata": {},
     "output_type": "execute_result"
    }
   ],
   "source": [
    "import gc\n",
    "del CA,WI,TX\n",
    "gc.collect()"
   ]
  },
  {
   "cell_type": "markdown",
   "metadata": {},
   "source": [
    "# LSTM Model Training without External Parameters"
   ]
  },
  {
   "cell_type": "code",
   "execution_count": 5,
   "metadata": {},
   "outputs": [],
   "source": [
    "final_df = pd.read_csv(\"tableau_sales_train_evaluation_365_days.csv\")#assigning the dataframe for this model's creation with the merged files."
   ]
  },
  {
   "cell_type": "code",
   "execution_count": 6,
   "metadata": {},
   "outputs": [],
   "source": [
    "final_df = final_df.T"
   ]
  },
  {
   "cell_type": "code",
   "execution_count": 7,
   "metadata": {},
   "outputs": [],
   "source": [
    "final_df = final_df[6:]"
   ]
  },
  {
   "cell_type": "code",
   "execution_count": 8,
   "metadata": {},
   "outputs": [
    {
     "data": {
      "text/html": [
       "<div>\n",
       "<style scoped>\n",
       "    .dataframe tbody tr th:only-of-type {\n",
       "        vertical-align: middle;\n",
       "    }\n",
       "\n",
       "    .dataframe tbody tr th {\n",
       "        vertical-align: top;\n",
       "    }\n",
       "\n",
       "    .dataframe thead th {\n",
       "        text-align: right;\n",
       "    }\n",
       "</style>\n",
       "<table border=\"1\" class=\"dataframe\">\n",
       "  <thead>\n",
       "    <tr style=\"text-align: right;\">\n",
       "      <th></th>\n",
       "      <th>0</th>\n",
       "      <th>1</th>\n",
       "      <th>2</th>\n",
       "      <th>3</th>\n",
       "      <th>4</th>\n",
       "      <th>5</th>\n",
       "      <th>6</th>\n",
       "      <th>7</th>\n",
       "      <th>8</th>\n",
       "      <th>9</th>\n",
       "      <th>...</th>\n",
       "      <th>30480</th>\n",
       "      <th>30481</th>\n",
       "      <th>30482</th>\n",
       "      <th>30483</th>\n",
       "      <th>30484</th>\n",
       "      <th>30485</th>\n",
       "      <th>30486</th>\n",
       "      <th>30487</th>\n",
       "      <th>30488</th>\n",
       "      <th>30489</th>\n",
       "    </tr>\n",
       "  </thead>\n",
       "  <tbody>\n",
       "    <tr>\n",
       "      <th>d_1</th>\n",
       "      <td>0</td>\n",
       "      <td>0</td>\n",
       "      <td>0</td>\n",
       "      <td>0</td>\n",
       "      <td>0</td>\n",
       "      <td>0</td>\n",
       "      <td>0</td>\n",
       "      <td>12</td>\n",
       "      <td>2</td>\n",
       "      <td>0</td>\n",
       "      <td>...</td>\n",
       "      <td>0</td>\n",
       "      <td>14</td>\n",
       "      <td>1</td>\n",
       "      <td>0</td>\n",
       "      <td>4</td>\n",
       "      <td>0</td>\n",
       "      <td>0</td>\n",
       "      <td>0</td>\n",
       "      <td>0</td>\n",
       "      <td>0</td>\n",
       "    </tr>\n",
       "    <tr>\n",
       "      <th>d_2</th>\n",
       "      <td>0</td>\n",
       "      <td>0</td>\n",
       "      <td>0</td>\n",
       "      <td>0</td>\n",
       "      <td>0</td>\n",
       "      <td>0</td>\n",
       "      <td>0</td>\n",
       "      <td>15</td>\n",
       "      <td>0</td>\n",
       "      <td>0</td>\n",
       "      <td>...</td>\n",
       "      <td>0</td>\n",
       "      <td>11</td>\n",
       "      <td>1</td>\n",
       "      <td>0</td>\n",
       "      <td>4</td>\n",
       "      <td>0</td>\n",
       "      <td>0</td>\n",
       "      <td>6</td>\n",
       "      <td>0</td>\n",
       "      <td>0</td>\n",
       "    </tr>\n",
       "    <tr>\n",
       "      <th>d_3</th>\n",
       "      <td>0</td>\n",
       "      <td>0</td>\n",
       "      <td>0</td>\n",
       "      <td>0</td>\n",
       "      <td>0</td>\n",
       "      <td>0</td>\n",
       "      <td>0</td>\n",
       "      <td>0</td>\n",
       "      <td>7</td>\n",
       "      <td>1</td>\n",
       "      <td>...</td>\n",
       "      <td>0</td>\n",
       "      <td>5</td>\n",
       "      <td>1</td>\n",
       "      <td>0</td>\n",
       "      <td>2</td>\n",
       "      <td>2</td>\n",
       "      <td>0</td>\n",
       "      <td>0</td>\n",
       "      <td>0</td>\n",
       "      <td>0</td>\n",
       "    </tr>\n",
       "    <tr>\n",
       "      <th>d_4</th>\n",
       "      <td>0</td>\n",
       "      <td>0</td>\n",
       "      <td>0</td>\n",
       "      <td>0</td>\n",
       "      <td>0</td>\n",
       "      <td>0</td>\n",
       "      <td>0</td>\n",
       "      <td>0</td>\n",
       "      <td>3</td>\n",
       "      <td>0</td>\n",
       "      <td>...</td>\n",
       "      <td>0</td>\n",
       "      <td>6</td>\n",
       "      <td>1</td>\n",
       "      <td>0</td>\n",
       "      <td>5</td>\n",
       "      <td>2</td>\n",
       "      <td>0</td>\n",
       "      <td>2</td>\n",
       "      <td>0</td>\n",
       "      <td>0</td>\n",
       "    </tr>\n",
       "    <tr>\n",
       "      <th>d_5</th>\n",
       "      <td>0</td>\n",
       "      <td>0</td>\n",
       "      <td>0</td>\n",
       "      <td>0</td>\n",
       "      <td>0</td>\n",
       "      <td>0</td>\n",
       "      <td>0</td>\n",
       "      <td>0</td>\n",
       "      <td>0</td>\n",
       "      <td>0</td>\n",
       "      <td>...</td>\n",
       "      <td>0</td>\n",
       "      <td>5</td>\n",
       "      <td>1</td>\n",
       "      <td>0</td>\n",
       "      <td>2</td>\n",
       "      <td>0</td>\n",
       "      <td>0</td>\n",
       "      <td>2</td>\n",
       "      <td>0</td>\n",
       "      <td>0</td>\n",
       "    </tr>\n",
       "    <tr>\n",
       "      <th>...</th>\n",
       "      <td>...</td>\n",
       "      <td>...</td>\n",
       "      <td>...</td>\n",
       "      <td>...</td>\n",
       "      <td>...</td>\n",
       "      <td>...</td>\n",
       "      <td>...</td>\n",
       "      <td>...</td>\n",
       "      <td>...</td>\n",
       "      <td>...</td>\n",
       "      <td>...</td>\n",
       "      <td>...</td>\n",
       "      <td>...</td>\n",
       "      <td>...</td>\n",
       "      <td>...</td>\n",
       "      <td>...</td>\n",
       "      <td>...</td>\n",
       "      <td>...</td>\n",
       "      <td>...</td>\n",
       "      <td>...</td>\n",
       "      <td>...</td>\n",
       "    </tr>\n",
       "    <tr>\n",
       "      <th>d_361</th>\n",
       "      <td>0</td>\n",
       "      <td>0</td>\n",
       "      <td>0</td>\n",
       "      <td>3</td>\n",
       "      <td>0</td>\n",
       "      <td>0</td>\n",
       "      <td>0</td>\n",
       "      <td>9</td>\n",
       "      <td>1</td>\n",
       "      <td>1</td>\n",
       "      <td>...</td>\n",
       "      <td>0</td>\n",
       "      <td>11</td>\n",
       "      <td>1</td>\n",
       "      <td>0</td>\n",
       "      <td>4</td>\n",
       "      <td>0</td>\n",
       "      <td>0</td>\n",
       "      <td>0</td>\n",
       "      <td>0</td>\n",
       "      <td>0</td>\n",
       "    </tr>\n",
       "    <tr>\n",
       "      <th>d_362</th>\n",
       "      <td>0</td>\n",
       "      <td>1</td>\n",
       "      <td>0</td>\n",
       "      <td>0</td>\n",
       "      <td>0</td>\n",
       "      <td>0</td>\n",
       "      <td>0</td>\n",
       "      <td>14</td>\n",
       "      <td>0</td>\n",
       "      <td>3</td>\n",
       "      <td>...</td>\n",
       "      <td>0</td>\n",
       "      <td>4</td>\n",
       "      <td>1</td>\n",
       "      <td>0</td>\n",
       "      <td>3</td>\n",
       "      <td>0</td>\n",
       "      <td>0</td>\n",
       "      <td>1</td>\n",
       "      <td>0</td>\n",
       "      <td>0</td>\n",
       "    </tr>\n",
       "    <tr>\n",
       "      <th>d_363</th>\n",
       "      <td>0</td>\n",
       "      <td>1</td>\n",
       "      <td>0</td>\n",
       "      <td>1</td>\n",
       "      <td>0</td>\n",
       "      <td>0</td>\n",
       "      <td>0</td>\n",
       "      <td>0</td>\n",
       "      <td>0</td>\n",
       "      <td>1</td>\n",
       "      <td>...</td>\n",
       "      <td>0</td>\n",
       "      <td>1</td>\n",
       "      <td>1</td>\n",
       "      <td>0</td>\n",
       "      <td>3</td>\n",
       "      <td>0</td>\n",
       "      <td>0</td>\n",
       "      <td>0</td>\n",
       "      <td>0</td>\n",
       "      <td>0</td>\n",
       "    </tr>\n",
       "    <tr>\n",
       "      <th>d_364</th>\n",
       "      <td>0</td>\n",
       "      <td>0</td>\n",
       "      <td>0</td>\n",
       "      <td>2</td>\n",
       "      <td>0</td>\n",
       "      <td>0</td>\n",
       "      <td>0</td>\n",
       "      <td>8</td>\n",
       "      <td>3</td>\n",
       "      <td>1</td>\n",
       "      <td>...</td>\n",
       "      <td>0</td>\n",
       "      <td>5</td>\n",
       "      <td>2</td>\n",
       "      <td>0</td>\n",
       "      <td>7</td>\n",
       "      <td>0</td>\n",
       "      <td>0</td>\n",
       "      <td>0</td>\n",
       "      <td>0</td>\n",
       "      <td>0</td>\n",
       "    </tr>\n",
       "    <tr>\n",
       "      <th>d_365</th>\n",
       "      <td>0</td>\n",
       "      <td>0</td>\n",
       "      <td>0</td>\n",
       "      <td>3</td>\n",
       "      <td>0</td>\n",
       "      <td>0</td>\n",
       "      <td>0</td>\n",
       "      <td>18</td>\n",
       "      <td>0</td>\n",
       "      <td>2</td>\n",
       "      <td>...</td>\n",
       "      <td>0</td>\n",
       "      <td>5</td>\n",
       "      <td>2</td>\n",
       "      <td>0</td>\n",
       "      <td>7</td>\n",
       "      <td>0</td>\n",
       "      <td>0</td>\n",
       "      <td>1</td>\n",
       "      <td>0</td>\n",
       "      <td>0</td>\n",
       "    </tr>\n",
       "  </tbody>\n",
       "</table>\n",
       "<p>365 rows × 30490 columns</p>\n",
       "</div>"
      ],
      "text/plain": [
       "      0     1     2     3     4     5     6     7     8     9      ... 30480  \\\n",
       "d_1       0     0     0     0     0     0     0    12     2     0  ...     0   \n",
       "d_2       0     0     0     0     0     0     0    15     0     0  ...     0   \n",
       "d_3       0     0     0     0     0     0     0     0     7     1  ...     0   \n",
       "d_4       0     0     0     0     0     0     0     0     3     0  ...     0   \n",
       "d_5       0     0     0     0     0     0     0     0     0     0  ...     0   \n",
       "...     ...   ...   ...   ...   ...   ...   ...   ...   ...   ...  ...   ...   \n",
       "d_361     0     0     0     3     0     0     0     9     1     1  ...     0   \n",
       "d_362     0     1     0     0     0     0     0    14     0     3  ...     0   \n",
       "d_363     0     1     0     1     0     0     0     0     0     1  ...     0   \n",
       "d_364     0     0     0     2     0     0     0     8     3     1  ...     0   \n",
       "d_365     0     0     0     3     0     0     0    18     0     2  ...     0   \n",
       "\n",
       "      30481 30482 30483 30484 30485 30486 30487 30488 30489  \n",
       "d_1      14     1     0     4     0     0     0     0     0  \n",
       "d_2      11     1     0     4     0     0     6     0     0  \n",
       "d_3       5     1     0     2     2     0     0     0     0  \n",
       "d_4       6     1     0     5     2     0     2     0     0  \n",
       "d_5       5     1     0     2     0     0     2     0     0  \n",
       "...     ...   ...   ...   ...   ...   ...   ...   ...   ...  \n",
       "d_361    11     1     0     4     0     0     0     0     0  \n",
       "d_362     4     1     0     3     0     0     1     0     0  \n",
       "d_363     1     1     0     3     0     0     0     0     0  \n",
       "d_364     5     2     0     7     0     0     0     0     0  \n",
       "d_365     5     2     0     7     0     0     1     0     0  \n",
       "\n",
       "[365 rows x 30490 columns]"
      ]
     },
     "execution_count": 8,
     "metadata": {},
     "output_type": "execute_result"
    }
   ],
   "source": [
    "final_df"
   ]
  },
  {
   "cell_type": "code",
   "execution_count": 9,
   "metadata": {},
   "outputs": [],
   "source": [
    "from sklearn.preprocessing import MinMaxScaler\n",
    "sc = MinMaxScaler(feature_range = (0, 1))\n",
    "final_df = sc.fit_transform(final_df)"
   ]
  },
  {
   "cell_type": "code",
   "execution_count": 31,
   "metadata": {},
   "outputs": [],
   "source": [
    "timesteps=10\n",
    "X_train = []\n",
    "y_train = []\n",
    "for i in range(timesteps, 365):\n",
    "    X_train.append(final_df[i-timesteps:i])\n",
    "    y_train.append(final_df[i][0:30490])"
   ]
  },
  {
   "cell_type": "code",
   "execution_count": 32,
   "metadata": {},
   "outputs": [],
   "source": [
    "X_train = np.array(X_train, dtype = 'float16')\n",
    "y_train = np.array(y_train, dtype = 'float16')"
   ]
  },
  {
   "cell_type": "code",
   "execution_count": 33,
   "metadata": {},
   "outputs": [
    {
     "data": {
      "text/plain": [
       "((355, 10, 30490), (355, 30490))"
      ]
     },
     "execution_count": 33,
     "metadata": {},
     "output_type": "execute_result"
    }
   ],
   "source": [
    "X_train.shape,y_train.shape"
   ]
  },
  {
   "cell_type": "code",
   "execution_count": 34,
   "metadata": {},
   "outputs": [
    {
     "name": "stdout",
     "output_type": "stream",
     "text": [
      "Model: \"sequential_1\"\n",
      "_________________________________________________________________\n",
      " Layer (type)                Output Shape              Param #   \n",
      "=================================================================\n",
      " lstm_1 (LSTM)               (None, 64)                7822080   \n",
      "                                                                 \n",
      " dense_1 (Dense)             (None, 30490)             1981850   \n",
      "                                                                 \n",
      "=================================================================\n",
      "Total params: 9,803,930\n",
      "Trainable params: 9,803,930\n",
      "Non-trainable params: 0\n",
      "_________________________________________________________________\n"
     ]
    }
   ],
   "source": [
    "import tensorflow as tf\n",
    "model = tf.keras.Sequential()\n",
    "model.add(tf.keras.layers.LSTM(units =64,input_shape = (np.array(X_train).shape[1], np.array(X_train).shape[2])))\n",
    "model.add(tf.keras.layers.Dense(30490))\n",
    "\n",
    "model.compile(\n",
    "  loss='mean_squared_error',\n",
    "  optimizer=tf.keras.optimizers.Adam(0.001)\n",
    ")\n",
    "model.summary()"
   ]
  },
  {
   "cell_type": "code",
   "execution_count": 35,
   "metadata": {},
   "outputs": [
    {
     "name": "stdout",
     "output_type": "stream",
     "text": [
      "Epoch 1/10\n",
      "36/36 [==============================] - 5s 95ms/step - loss: 0.0179\n",
      "Epoch 2/10\n",
      "36/36 [==============================] - 3s 81ms/step - loss: 0.0159\n",
      "Epoch 3/10\n",
      "36/36 [==============================] - 3s 84ms/step - loss: 0.0158\n",
      "Epoch 4/10\n",
      "36/36 [==============================] - 3s 80ms/step - loss: 0.0158\n",
      "Epoch 5/10\n",
      "36/36 [==============================] - 3s 80ms/step - loss: 0.0154\n",
      "Epoch 6/10\n",
      "36/36 [==============================] - 3s 81ms/step - loss: 0.0150\n",
      "Epoch 7/10\n",
      "36/36 [==============================] - 3s 81ms/step - loss: 0.0147\n",
      "Epoch 8/10\n",
      "36/36 [==============================] - 3s 82ms/step - loss: 0.0144\n",
      "Epoch 9/10\n",
      "36/36 [==============================] - 3s 83ms/step - loss: 0.0143\n",
      "Epoch 10/10\n",
      "36/36 [==============================] - 3s 86ms/step - loss: 0.0141\n"
     ]
    },
    {
     "data": {
      "text/plain": [
       "<keras.callbacks.History at 0x1b14f105840>"
      ]
     },
     "execution_count": 35,
     "metadata": {},
     "output_type": "execute_result"
    }
   ],
   "source": [
    "model.fit(X_train, y_train, epochs = 10, batch_size = 10)"
   ]
  }
 ],
 "metadata": {
  "kernelspec": {
   "display_name": "Python 3.10.1 64-bit",
   "language": "python",
   "name": "python3"
  },
  "language_info": {
   "codemirror_mode": {
    "name": "ipython",
    "version": 3
   },
   "file_extension": ".py",
   "mimetype": "text/x-python",
   "name": "python",
   "nbconvert_exporter": "python",
   "pygments_lexer": "ipython3",
   "version": "3.10.1"
  },
  "orig_nbformat": 4,
  "vscode": {
   "interpreter": {
    "hash": "6933e9a6f7f607c06ea69277d72bad4b7068a99c53c1ac64e22550a6fe9b7f04"
   }
  }
 },
 "nbformat": 4,
 "nbformat_minor": 2
}
